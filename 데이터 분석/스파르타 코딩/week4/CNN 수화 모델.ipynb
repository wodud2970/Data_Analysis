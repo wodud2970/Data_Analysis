{
 "cells": [
  {
   "cell_type": "code",
   "execution_count": 1,
   "id": "d0c6a400",
   "metadata": {},
   "outputs": [],
   "source": [
    "import os\n",
    "os.environ['KAGGLE_USERNAME'] = 'parkjaeyoung' # username\n",
    "os.environ['KAGGLE_KEY'] = '4c16bfdb89a9449e8972bbc76d2f95aa' # key"
   ]
  },
  {
   "cell_type": "code",
   "execution_count": 2,
   "id": "d8fca73c",
   "metadata": {},
   "outputs": [
    {
     "name": "stdout",
     "output_type": "stream",
     "text": [
      "Downloading sign-language-mnist.zip to C:\\Users\\user\\Desktop\\PythonWorkspace\\데이터분석\\데이터 분석\\스파르타 코딩\\week4\n",
      "\n"
     ]
    },
    {
     "name": "stderr",
     "output_type": "stream",
     "text": [
      "\n",
      "  0%|          | 0.00/62.6M [00:00<?, ?B/s]\n",
      "  2%|1         | 1.00M/62.6M [00:00<00:08, 7.85MB/s]\n",
      "  5%|4         | 3.00M/62.6M [00:00<00:10, 6.24MB/s]\n",
      "  8%|7         | 5.00M/62.6M [00:00<00:07, 8.15MB/s]\n",
      " 11%|#1        | 7.00M/62.6M [00:00<00:06, 9.42MB/s]\n",
      " 13%|#2        | 8.00M/62.6M [00:00<00:05, 9.65MB/s]\n",
      " 14%|#4        | 9.00M/62.6M [00:01<00:07, 7.85MB/s]\n",
      " 16%|#5        | 10.0M/62.6M [00:01<00:06, 8.36MB/s]\n",
      " 19%|#9        | 12.0M/62.6M [00:01<00:05, 9.82MB/s]\n",
      " 22%|##2       | 14.0M/62.6M [00:01<00:04, 10.2MB/s]\n",
      " 26%|##5       | 16.0M/62.6M [00:01<00:04, 10.7MB/s]\n",
      " 29%|##8       | 18.0M/62.6M [00:01<00:04, 11.3MB/s]\n",
      " 32%|###1      | 20.0M/62.6M [00:02<00:03, 11.5MB/s]\n",
      " 35%|###5      | 22.0M/62.6M [00:02<00:03, 11.3MB/s]\n",
      " 38%|###8      | 24.0M/62.6M [00:02<00:03, 11.5MB/s]\n",
      " 42%|####1     | 26.0M/62.6M [00:02<00:03, 11.8MB/s]\n",
      " 45%|####4     | 28.0M/62.6M [00:02<00:03, 11.8MB/s]\n",
      " 48%|####7     | 30.0M/62.6M [00:03<00:02, 11.8MB/s]\n",
      " 51%|#####1    | 32.0M/62.6M [00:03<00:02, 11.6MB/s]\n",
      " 54%|#####4    | 34.0M/62.6M [00:03<00:02, 11.9MB/s]\n",
      " 58%|#####7    | 36.0M/62.6M [00:03<00:02, 11.8MB/s]\n",
      " 61%|######    | 38.0M/62.6M [00:03<00:02, 11.7MB/s]\n",
      " 64%|######3   | 40.0M/62.6M [00:03<00:02, 11.5MB/s]\n",
      " 67%|######7   | 42.0M/62.6M [00:04<00:01, 11.8MB/s]\n",
      " 70%|#######   | 44.0M/62.6M [00:04<00:01, 11.8MB/s]\n",
      " 73%|#######3  | 46.0M/62.6M [00:04<00:01, 11.5MB/s]\n",
      " 77%|#######6  | 48.0M/62.6M [00:04<00:01, 11.8MB/s]\n",
      " 80%|#######9  | 50.0M/62.6M [00:04<00:01, 11.9MB/s]\n",
      " 83%|########3 | 52.0M/62.6M [00:04<00:00, 11.8MB/s]\n",
      " 86%|########6 | 54.0M/62.6M [00:05<00:00, 9.96MB/s]\n",
      " 88%|########7 | 55.0M/62.6M [00:05<00:00, 9.71MB/s]\n",
      " 91%|#########1| 57.0M/62.6M [00:05<00:00, 10.4MB/s]\n",
      " 94%|#########4| 59.0M/62.6M [00:05<00:00, 10.6MB/s]\n",
      " 97%|#########7| 61.0M/62.6M [00:05<00:00, 11.0MB/s]\n",
      "100%|##########| 62.6M/62.6M [00:06<00:00, 11.3MB/s]\n",
      "100%|##########| 62.6M/62.6M [00:06<00:00, 10.8MB/s]\n"
     ]
    }
   ],
   "source": [
    "!kaggle datasets download -d datamunge/sign-language-mnist\n"
   ]
  },
  {
   "cell_type": "code",
   "execution_count": 3,
   "id": "94622449",
   "metadata": {},
   "outputs": [],
   "source": [
    "from tensorflow.keras.models import Model\n",
    "from tensorflow.keras.layers import Input, Dense, Conv2D, MaxPooling2D, Flatten, Dropout\n",
    "from tensorflow.keras.optimizers import Adam, SGD\n",
    "from tensorflow.keras.preprocessing.image import ImageDataGenerator\n",
    "import numpy as np\n",
    "import pandas as pd\n",
    "import matplotlib.pyplot as plt\n",
    "import seaborn as sns\n",
    "from sklearn.model_selection import train_test_split\n",
    "from sklearn.preprocessing import StandardScaler\n",
    "from sklearn.preprocessing import OneHotEncoder"
   ]
  },
  {
   "cell_type": "code",
   "execution_count": 4,
   "id": "56fd1f69",
   "metadata": {},
   "outputs": [],
   "source": [
    "train_df = pd.read_csv('sign_mnist_train.csv')\n",
    "test_df = pd.read_csv('sign_mnist_test.csv')"
   ]
  },
  {
   "cell_type": "code",
   "execution_count": 6,
   "id": "b3513cfc",
   "metadata": {},
   "outputs": [
    {
     "data": {
      "text/plain": [
       "(27455, 785)"
      ]
     },
     "execution_count": 6,
     "metadata": {},
     "output_type": "execute_result"
    }
   ],
   "source": [
    "train_df.shape"
   ]
  },
  {
   "cell_type": "code",
   "execution_count": 5,
   "id": "6476700a",
   "metadata": {},
   "outputs": [
    {
     "name": "stderr",
     "output_type": "stream",
     "text": [
      "C:\\Users\\user\\anaconda3\\lib\\site-packages\\seaborn\\_decorators.py:36: FutureWarning: Pass the following variable as a keyword arg: x. From version 0.12, the only valid positional argument will be `data`, and passing other arguments without an explicit keyword will result in an error or misinterpretation.\n",
      "  warnings.warn(\n"
     ]
    },
    {
     "data": {
      "image/png": "[encoded data removed]",
      "text/plain": [
       "<Figure size 1152x720 with 1 Axes>"
      ]
     },
     "metadata": {
      "needs_background": "light"
     },
     "output_type": "display_data"
    }
   ],
   "source": [
    "plt.figure(figsize=(16, 10))\n",
    "sns.countplot(train_df['label'])\n",
    "plt.show()"
   ]
  },
  {
   "cell_type": "markdown",
   "id": "9facfab6",
   "metadata": {},
   "source": [
    "## 전처리 하기"
   ]
  },
  {
   "cell_type": "code",
   "execution_count": 8,
   "id": "c3def5c4",
   "metadata": {},
   "outputs": [],
   "source": [
    "train_df = train_df.astype(np.float32)\n",
    "x_train = train_df.drop(columns=['label'], axis=1).values\n",
    "x_train = x_train.reshape((-1, 28, 28, 1)) #3차원으로 만들어준다 \n",
    "y_train = train_df[['label']].values\n",
    "\n",
    "test_df = test_df.astype(np.float32)\n",
    "x_test = test_df.drop(columns=['label'], axis=1).values\n",
    "x_test = x_test.reshape((-1, 28, 28, 1))\n",
    "y_test = test_df[['label']].values"
   ]
  },
  {
   "cell_type": "code",
   "execution_count": 10,
   "id": "19844742",
   "metadata": {},
   "outputs": [
    {
     "name": "stdout",
     "output_type": "stream",
     "text": [
      "(27455, 28, 28, 1) (27455, 1)\n",
      "(7172, 28, 28, 1) (7172, 1)\n"
     ]
    }
   ],
   "source": [
    "print(x_train.shape , y_train.shape)\n",
    "print(x_test.shape , y_test.shape)"
   ]
  },
  {
   "cell_type": "markdown",
   "id": "95c5a403",
   "metadata": {},
   "source": [
    "# 데이터 미리보기\n"
   ]
  },
  {
   "cell_type": "code",
   "execution_count": 9,
   "id": "cbd67adf",
   "metadata": {},
   "outputs": [
    {
     "data": {
      "image/png": "[encoded data removed]",
      "text/plain": [
       "<Figure size 432x288 with 1 Axes>"
      ]
     },
     "metadata": {
      "needs_background": "light"
     },
     "output_type": "display_data"
    }
   ],
   "source": [
    "index = 1\n",
    "plt.title(str(y_train[index]))\n",
    "plt.imshow(x_train[index].reshape((28, 28)), cmap='gray')\n",
    "plt.show()"
   ]
  },
  {
   "cell_type": "markdown",
   "id": "e6620d93",
   "metadata": {},
   "source": [
    "# one-hot 인코딩\n"
   ]
  },
  {
   "cell_type": "code",
   "execution_count": 11,
   "id": "66658b66",
   "metadata": {},
   "outputs": [],
   "source": [
    "encoder = OneHotEncoder()\n",
    "y_train = encoder.fit_transform(y_train).toarray()\n",
    "y_test = encoder.fit_transform(y_test).toarray()"
   ]
  },
  {
   "cell_type": "markdown",
   "id": "e58dca48",
   "metadata": {},
   "source": [
    "# 일반화\n",
    "- 이미지 데이터는 픽셀리 0-255 사이의 정수(unsigned integer 8bit = uint8)로 되어 있다. 이것을 255로 나누어 0-1 사이의 소수점 데이터(floating point 32bit =float32)로 바꾸어 일반화를 시킨다 \n",
    "\n",
    "- 이번에는 ImageDataGeneratior()를 사용하여 일반화를한다"
   ]
  },
  {
   "cell_type": "code",
   "execution_count": 18,
   "id": "85c1cfdb",
   "metadata": {},
   "outputs": [],
   "source": [
    "train_image_datagen = ImageDataGenerator(\n",
    "    rescale = 1./255, #일반화\n",
    ")\n",
    "\n",
    "train_datagen = train_image_datagen.flow(\n",
    "    x = x_train,\n",
    "    y = y_train,\n",
    "    batch_size = 256,\n",
    "    shuffle = True\n",
    ")\n",
    "\n",
    "test_image_datagen = ImageDataGenerator(\n",
    "    rescale = 1./255\n",
    ")\n",
    "\n",
    "test_datagen = test_image_datagen.flow(\n",
    "    x = x_test,\n",
    "    y = y_test,\n",
    "    batch_size = 256,\n",
    "    shuffle = False\n",
    ")\n"
   ]
  },
  {
   "cell_type": "code",
   "execution_count": 21,
   "id": "e1a5c748",
   "metadata": {
    "scrolled": true
   },
   "outputs": [
    {
     "data": {
      "image/png": "[encoded data removed]",
      "text/plain": [
       "<Figure size 432x288 with 1 Axes>"
      ]
     },
     "metadata": {
      "needs_background": "light"
     },
     "output_type": "display_data"
    }
   ],
   "source": [
    "index = 1\n",
    "\n",
    "preview_img = train_datagen.__getitem__(0)[0][index]\n",
    "preview_label = train_datagen.__getitem__(0)[1][index]\n",
    "\n",
    "plt.imshow(preview_img.reshape((28, 28)))\n",
    "plt.title(str(preview_label))\n",
    "plt.show()"
   ]
  },
  {
   "cell_type": "markdown",
   "id": "f034d095",
   "metadata": {},
   "source": [
    "# 네트워크 구성\n"
   ]
  },
  {
   "cell_type": "code",
   "execution_count": 23,
   "id": "5fd53269",
   "metadata": {},
   "outputs": [
    {
     "name": "stdout",
     "output_type": "stream",
     "text": [
      "Model: \"functional_3\"\n",
      "_________________________________________________________________\n",
      "Layer (type)                 Output Shape              Param #   \n",
      "=================================================================\n",
      "input_2 (InputLayer)         [(None, 28, 28, 1)]       0         \n",
      "_________________________________________________________________\n",
      "conv2d_5 (Conv2D)            (None, 28, 28, 32)        320       \n",
      "_________________________________________________________________\n",
      "max_pooling2d_5 (MaxPooling2 (None, 14, 14, 32)        0         \n",
      "_________________________________________________________________\n",
      "flatten_1 (Flatten)          (None, 6272)              0         \n",
      "_________________________________________________________________\n",
      "dense_2 (Dense)              (None, 512)               3211776   \n",
      "_________________________________________________________________\n",
      "dropout (Dropout)            (None, 512)               0         \n",
      "_________________________________________________________________\n",
      "dense_3 (Dense)              (None, 24)                12312     \n",
      "=================================================================\n",
      "Total params: 3,224,408\n",
      "Trainable params: 3,224,408\n",
      "Non-trainable params: 0\n",
      "_________________________________________________________________\n"
     ]
    }
   ],
   "source": [
    "input = Input(shape = (28,28,1))\n",
    "\n",
    "#kernel_size = 3 x 3 filters = 층 padding ='same' 인풋과 아웃풋을 같게해라\n",
    "hidden = Conv2D(filters = 32, kernel_size = 3, strides = 1, padding = 'same', activation = 'relu')(input)\n",
    "hidden = MaxPooling2D(pool_size = 2, strides = 2)(hidden)\n",
    "\n",
    "hidden = Conv2D(filters = 64, kernel_size = 3, strides = 1, padding = 'same', activation = 'relu')(hidden)\n",
    "hidden = MaxPooling2D(pool_size = 2, strides = 2)(hidden)\n",
    "\n",
    "hidden = Conv2D(filters = 32, kernel_size = 3, strides = 1, padding = 'same', activation = 'relu')(hidden)\n",
    "hidden = MaxPooling2D(pool_size = 2, strides = 2)(hidden)\n",
    "\n",
    "hidden = Flatten()(hidden)\n",
    "\n",
    "hidden = Dense(512, activation = 'relu')(hidden)\n",
    "\n",
    "hidden = Dropout(rate = 0.3)(hidden)\n",
    "\n",
    "output = Dense(24, activation = 'softmax')(hidden)\n",
    "\n",
    "model = Model(inputs = input, outputs = output)\n",
    "\n",
    "model.compile(loss = 'categorical_crossentropy', optimizer = Adam(lr = 0.001), metrics=['acc'])\n",
    "\n",
    "model.summary()"
   ]
  },
  {
   "cell_type": "code",
   "execution_count": 24,
   "id": "4d9fdcdd",
   "metadata": {
    "scrolled": true
   },
   "outputs": [
    {
     "name": "stdout",
     "output_type": "stream",
     "text": [
      "Epoch 1/20\n",
      "108/108 [==============================] - 9s 88ms/step - loss: 1.9454 - acc: 0.4647 - val_loss: 1.0105 - val_acc: 0.7284\n",
      "Epoch 2/20\n",
      "108/108 [==============================] - 10s 89ms/step - loss: 0.5929 - acc: 0.8384 - val_loss: 0.6441 - val_acc: 0.8127\n",
      "Epoch 3/20\n",
      "108/108 [==============================] - 8s 71ms/step - loss: 0.2658 - acc: 0.9372 - val_loss: 0.5296 - val_acc: 0.8390\n",
      "Epoch 4/20\n",
      "108/108 [==============================] - 10s 89ms/step - loss: 0.1350 - acc: 0.9751 - val_loss: 0.4658 - val_acc: 0.8536\n",
      "Epoch 5/20\n",
      "108/108 [==============================] - 11s 98ms/step - loss: 0.0779 - acc: 0.9897 - val_loss: 0.4862 - val_acc: 0.8551\n",
      "Epoch 6/20\n",
      "108/108 [==============================] - 9s 79ms/step - loss: 0.0491 - acc: 0.9950 - val_loss: 0.4735 - val_acc: 0.8611\n",
      "Epoch 7/20\n",
      "108/108 [==============================] - 8s 75ms/step - loss: 0.0324 - acc: 0.9976 - val_loss: 0.4761 - val_acc: 0.8664\n",
      "Epoch 8/20\n",
      "108/108 [==============================] - 8s 77ms/step - loss: 0.0242 - acc: 0.9981 - val_loss: 0.4861 - val_acc: 0.8639\n",
      "Epoch 9/20\n",
      "108/108 [==============================] - 8s 77ms/step - loss: 0.0185 - acc: 0.9985 - val_loss: 0.5024 - val_acc: 0.8641\n",
      "Epoch 10/20\n",
      "108/108 [==============================] - 8s 75ms/step - loss: 0.0134 - acc: 0.9994 - val_loss: 0.4962 - val_acc: 0.8671\n",
      "Epoch 11/20\n",
      "108/108 [==============================] - 9s 84ms/step - loss: 0.0112 - acc: 0.9993 - val_loss: 0.5102 - val_acc: 0.8628\n",
      "Epoch 12/20\n",
      "108/108 [==============================] - 10s 93ms/step - loss: 0.0104 - acc: 0.9991 - val_loss: 0.4918 - val_acc: 0.8712\n",
      "Epoch 13/20\n",
      "108/108 [==============================] - 10s 94ms/step - loss: 0.0078 - acc: 0.9996 - val_loss: 0.5141 - val_acc: 0.8723\n",
      "Epoch 14/20\n",
      "108/108 [==============================] - 9s 83ms/step - loss: 0.0066 - acc: 0.9995 - val_loss: 0.5390 - val_acc: 0.8701\n",
      "Epoch 15/20\n",
      "108/108 [==============================] - 8s 77ms/step - loss: 0.0060 - acc: 0.9997 - val_loss: 0.5329 - val_acc: 0.8740\n",
      "Epoch 16/20\n",
      "108/108 [==============================] - 8s 78ms/step - loss: 0.0048 - acc: 0.9997 - val_loss: 0.5480 - val_acc: 0.8724\n",
      "Epoch 17/20\n",
      "108/108 [==============================] - 10s 89ms/step - loss: 0.0048 - acc: 0.9997 - val_loss: 0.5527 - val_acc: 0.8670\n",
      "Epoch 18/20\n",
      "108/108 [==============================] - 11s 98ms/step - loss: 0.0045 - acc: 0.9997 - val_loss: 0.5598 - val_acc: 0.8682\n",
      "Epoch 19/20\n",
      "108/108 [==============================] - 10s 94ms/step - loss: 0.0037 - acc: 0.9997 - val_loss: 0.5559 - val_acc: 0.8726\n",
      "Epoch 20/20\n",
      "108/108 [==============================] - 10s 95ms/step - loss: 0.0031 - acc: 0.9998 - val_loss: 0.6167 - val_acc: 0.8615\n"
     ]
    }
   ],
   "source": [
    "history = model.fit(\n",
    "    train_datagen,\n",
    "    validation_data=test_datagen, # 검증 데이터를 넣어주면 한 epoch이 끝날때마다 자동으로 검증\n",
    "    epochs=20 # epochs 복수형으로 쓰기!\n",
    ")"
   ]
  },
  {
   "cell_type": "markdown",
   "id": "fa9ec688",
   "metadata": {},
   "source": [
    "# 학습 결과 그래프"
   ]
  },
  {
   "cell_type": "code",
   "execution_count": 25,
   "id": "ab7c703e",
   "metadata": {},
   "outputs": [
    {
     "data": {
      "text/plain": [
       "[<matplotlib.lines.Line2D at 0x1ee36b440d0>]"
      ]
     },
     "execution_count": 25,
     "metadata": {},
     "output_type": "execute_result"
    },
    {
     "data": {
      "image/png": "[encoded data removed]",
      "text/plain": [
       "<Figure size 1440x432 with 2 Axes>"
      ]
     },
     "metadata": {
      "needs_background": "light"
     },
     "output_type": "display_data"
    }
   ],
   "source": [
    "fig , axes = plt.subplots(1,2, figsize = (20,6))\n",
    "axes[0].plot(history.history['loss'])\n",
    "axes[0].plot(history.history['val_loss'])\n",
    "axes[1].plot(history.history['acc'])\n",
    "axes[1].plot(history.history['val_acc'])"
   ]
  },
  {
   "cell_type": "markdown",
   "id": "240342a9",
   "metadata": {},
   "source": [
    "# 이미지 증강방법\n"
   ]
  },
  {
   "cell_type": "code",
   "execution_count": 26,
   "id": "07d0d9d8",
   "metadata": {},
   "outputs": [],
   "source": [
    "train_image_datagen = ImageDataGenerator(\n",
    "  rescale=1./255, # 일반화\n",
    "  rotation_range=10,  # 랜덤하게 이미지를 회전 (단위: 도, 0-180)\n",
    "  zoom_range=0.1, # 랜덤하게 이미지 확대 (%)\n",
    "  width_shift_range=0.1,  # 랜덤하게 이미지를 수평으로 이동 (%)\n",
    "  height_shift_range=0.1,  # 랜덤하게 이미지를 수직으로 이동 (%)\n",
    ")\n",
    "\n",
    "train_datagen = train_image_datagen.flow(\n",
    "    x=x_train,\n",
    "    y=y_train,\n",
    "    batch_size=256,\n",
    "    shuffle=True\n",
    ")\n",
    "# 검증할때 는 변화를 안주어도된다 \n",
    "test_image_datagen = ImageDataGenerator(\n",
    "  rescale=1./255\n",
    ")\n",
    "\n",
    "test_datagen = test_image_datagen.flow(\n",
    "    x=x_test,\n",
    "    y=y_test,\n",
    "    batch_size=256,\n",
    "    shuffle=False\n",
    ")"
   ]
  },
  {
   "cell_type": "code",
   "execution_count": 27,
   "id": "d68bba52",
   "metadata": {},
   "outputs": [
    {
     "data": {
      "image/png": "[encoded data removed]",
      "text/plain": [
       "<Figure size 432x288 with 1 Axes>"
      ]
     },
     "metadata": {
      "needs_background": "light"
     },
     "output_type": "display_data"
    }
   ],
   "source": [
    "index = 1\n",
    "\n",
    "preview_img = train_datagen.__getitem__(0)[0][index]\n",
    "preview_label = train_datagen.__getitem__(0)[1][index]\n",
    "\n",
    "plt.imshow(preview_img.reshape((28, 28)))\n",
    "plt.title(str(preview_label))\n",
    "plt.show()"
   ]
  },
  {
   "cell_type": "code",
   "execution_count": 28,
   "id": "eab47c42",
   "metadata": {},
   "outputs": [
    {
     "name": "stdout",
     "output_type": "stream",
     "text": [
      "Model: \"functional_5\"\n",
      "_________________________________________________________________\n",
      "Layer (type)                 Output Shape              Param #   \n",
      "=================================================================\n",
      "input_3 (InputLayer)         [(None, 28, 28, 1)]       0         \n",
      "_________________________________________________________________\n",
      "conv2d_6 (Conv2D)            (None, 28, 28, 32)        320       \n",
      "_________________________________________________________________\n",
      "max_pooling2d_6 (MaxPooling2 (None, 14, 14, 32)        0         \n",
      "_________________________________________________________________\n",
      "conv2d_7 (Conv2D)            (None, 14, 14, 64)        18496     \n",
      "_________________________________________________________________\n",
      "max_pooling2d_7 (MaxPooling2 (None, 7, 7, 64)          0         \n",
      "_________________________________________________________________\n",
      "conv2d_8 (Conv2D)            (None, 7, 7, 32)          18464     \n",
      "_________________________________________________________________\n",
      "max_pooling2d_8 (MaxPooling2 (None, 3, 3, 32)          0         \n",
      "_________________________________________________________________\n",
      "flatten_2 (Flatten)          (None, 288)               0         \n",
      "_________________________________________________________________\n",
      "dense_4 (Dense)              (None, 512)               147968    \n",
      "_________________________________________________________________\n",
      "dropout_1 (Dropout)          (None, 512)               0         \n",
      "_________________________________________________________________\n",
      "dense_5 (Dense)              (None, 24)                12312     \n",
      "=================================================================\n",
      "Total params: 197,560\n",
      "Trainable params: 197,560\n",
      "Non-trainable params: 0\n",
      "_________________________________________________________________\n"
     ]
    }
   ],
   "source": [
    "input = Input(shape=(28, 28, 1))\n",
    "\n",
    "hidden = Conv2D(filters=32, kernel_size=3, strides=1, padding='same', activation='relu')(input)\n",
    "hidden = MaxPooling2D(pool_size=2, strides=2)(hidden)\n",
    "\n",
    "hidden = Conv2D(filters=64, kernel_size=3, strides=1, padding='same', activation='relu')(hidden)\n",
    "hidden = MaxPooling2D(pool_size=2, strides=2)(hidden)\n",
    "\n",
    "hidden = Conv2D(filters=32, kernel_size=3, strides=1, padding='same', activation='relu')(hidden)\n",
    "hidden = MaxPooling2D(pool_size=2, strides=2)(hidden)\n",
    "\n",
    "hidden = Flatten()(hidden)\n",
    "\n",
    "hidden = Dense(512, activation='relu')(hidden)\n",
    "\n",
    "hidden = Dropout(rate=0.3)(hidden)\n",
    "\n",
    "output = Dense(24, activation='softmax')(hidden)\n",
    "\n",
    "model = Model(inputs=input, outputs=output)\n",
    "\n",
    "model.compile(loss='categorical_crossentropy', optimizer=Adam(lr=0.001), metrics=['acc'])\n",
    "\n",
    "model.summary()"
   ]
  },
  {
   "cell_type": "code",
   "execution_count": 29,
   "id": "11a864d0",
   "metadata": {},
   "outputs": [
    {
     "name": "stdout",
     "output_type": "stream",
     "text": [
      "Epoch 1/20\n",
      "108/108 [==============================] - 15s 142ms/step - loss: 2.6635 - acc: 0.2019 - val_loss: 1.7078 - val_acc: 0.4667\n",
      "Epoch 2/20\n",
      "108/108 [==============================] - 18s 163ms/step - loss: 1.4953 - acc: 0.5147 - val_loss: 0.8800 - val_acc: 0.7510\n",
      "Epoch 3/20\n",
      "108/108 [==============================] - 19s 175ms/step - loss: 0.9656 - acc: 0.6800 - val_loss: 0.5676 - val_acc: 0.8115\n",
      "Epoch 4/20\n",
      "108/108 [==============================] - 16s 146ms/step - loss: 0.6557 - acc: 0.7830 - val_loss: 0.3528 - val_acc: 0.8871\n",
      "Epoch 5/20\n",
      "108/108 [==============================] - 16s 144ms/step - loss: 0.4813 - acc: 0.8425 - val_loss: 0.2328 - val_acc: 0.9279\n",
      "Epoch 6/20\n",
      "108/108 [==============================] - 14s 129ms/step - loss: 0.3647 - acc: 0.8793 - val_loss: 0.1985 - val_acc: 0.9352\n",
      "Epoch 7/20\n",
      "108/108 [==============================] - 13s 125ms/step - loss: 0.2878 - acc: 0.9043 - val_loss: 0.1288 - val_acc: 0.9625\n",
      "Epoch 8/20\n",
      "108/108 [==============================] - 13s 125ms/step - loss: 0.2239 - acc: 0.9262 - val_loss: 0.1095 - val_acc: 0.9660\n",
      "Epoch 9/20\n",
      "108/108 [==============================] - 14s 126ms/step - loss: 0.1976 - acc: 0.9337 - val_loss: 0.0724 - val_acc: 0.9845\n",
      "Epoch 10/20\n",
      "108/108 [==============================] - 13s 123ms/step - loss: 0.1592 - acc: 0.9476 - val_loss: 0.0653 - val_acc: 0.9840\n",
      "Epoch 11/20\n",
      "108/108 [==============================] - 14s 125ms/step - loss: 0.1426 - acc: 0.9530 - val_loss: 0.0581 - val_acc: 0.9826\n",
      "Epoch 12/20\n",
      "108/108 [==============================] - 13s 123ms/step - loss: 0.1201 - acc: 0.9610 - val_loss: 0.0403 - val_acc: 0.9927\n",
      "Epoch 13/20\n",
      "108/108 [==============================] - 13s 124ms/step - loss: 0.1024 - acc: 0.9676 - val_loss: 0.0318 - val_acc: 0.9919\n",
      "Epoch 14/20\n",
      "108/108 [==============================] - 13s 124ms/step - loss: 0.0913 - acc: 0.9704 - val_loss: 0.0209 - val_acc: 0.9946\n",
      "Epoch 15/20\n",
      "108/108 [==============================] - 13s 123ms/step - loss: 0.0881 - acc: 0.9709 - val_loss: 0.0421 - val_acc: 0.9884\n",
      "Epoch 16/20\n",
      "108/108 [==============================] - 13s 124ms/step - loss: 0.0752 - acc: 0.9754 - val_loss: 0.0232 - val_acc: 0.9946\n",
      "Epoch 17/20\n",
      "108/108 [==============================] - 14s 129ms/step - loss: 0.0737 - acc: 0.9756 - val_loss: 0.0232 - val_acc: 0.9957\n",
      "Epoch 18/20\n",
      "108/108 [==============================] - 14s 125ms/step - loss: 0.0625 - acc: 0.9800 - val_loss: 0.0253 - val_acc: 0.9934\n",
      "Epoch 19/20\n",
      "108/108 [==============================] - 14s 125ms/step - loss: 0.0532 - acc: 0.9831 - val_loss: 0.0217 - val_acc: 0.9922\n",
      "Epoch 20/20\n",
      "108/108 [==============================] - 14s 126ms/step - loss: 0.0536 - acc: 0.9824 - val_loss: 0.0219 - val_acc: 0.9941\n"
     ]
    }
   ],
   "source": [
    "history = model.fit(\n",
    "    train_datagen,\n",
    "    validation_data=test_datagen, # 검증 데이터를 넣어주면 한 epoch이 끝날때마다 자동으로 검증\n",
    "    epochs=20 # epochs 복수형으로 쓰기!\n",
    ")"
   ]
  },
  {
   "cell_type": "code",
   "execution_count": null,
   "id": "43c720c4",
   "metadata": {},
   "outputs": [],
   "source": []
  }
 ],
 "metadata": {
  "kernelspec": {
   "display_name": "Python 3",
   "language": "python",
   "name": "python3"
  },
  "language_info": {
   "codemirror_mode": {
    "name": "ipython",
    "version": 3
   },
   "file_extension": ".py",
   "mimetype": "text/x-python",
   "name": "python",
   "nbconvert_exporter": "python",
   "pygments_lexer": "ipython3",
   "version": "3.8.10"
  }
 },
 "nbformat": 4,
 "nbformat_minor": 5
}
