{
 "cells": [
  {
   "cell_type": "code",
   "execution_count": 2,
   "id": "fa957084",
   "metadata": {},
   "outputs": [
    {
     "name": "stdout",
     "output_type": "stream",
     "text": [
      "Downloading diabetes-dataset.zip to C:\\Users\\user\\Desktop\\PythonWorkspace\\스파르타 코딩\\week2\n",
      "\n"
     ]
    },
    {
     "name": "stderr",
     "output_type": "stream",
     "text": [
      "\n",
      "  0%|          | 0.00/8.92k [00:00<?, ?B/s]\n",
      "100%|##########| 8.92k/8.92k [00:00<00:00, 4.58MB/s]\n"
     ]
    }
   ],
   "source": [
    "import os\n",
    "os.environ['KAGGLE_USERNAME'] = 'parkjaeyoung' # username\n",
    "os.environ['KAGGLE_KEY'] = '4c16bfdb89a9449e8972bbc76d2f95aa' # key\n",
    "#당뇨병 이진논리 회귀\n",
    "!kaggle datasets download -d kandij/diabetes-dataset \n",
    "\n",
    "\n",
    "from tensorflow.keras.models import Sequential\n",
    "from tensorflow.keras.layers import Dense\n",
    "from tensorflow.keras.optimizers import Adam, SGD\n",
    "import numpy as np\n",
    "import pandas as pd\n",
    "import matplotlib.pyplot as plt\n",
    "import seaborn as sns\n",
    "from sklearn.model_selection import train_test_split\n",
    "from sklearn.preprocessing import StandardScaler\n",
    "from sklearn.preprocessing import OneHotEncoder #원핫 인코딩\n",
    "\n",
    "df = pd.read_csv('diabetes2.csv')\n",
    "df.head()\n",
    "\n",
    "df.info()\n",
    "\n",
    "print(df.isnull().sum())\n",
    "\n",
    "import seaborn as sns\n",
    "sns.pairplot(x_data)\n",
    "plt.show\n",
    "# 분포가 0인 것들이 많다 zero_features = ['Glucose', 'BloodPressure', 'SkinThickness', 'Insulin', 'BMI']ㅠ\n",
    "\n",
    "\n",
    "#0인 값들을 평균으롷 넣어준다 \n",
    "#이렇게 넣어주면 다같이 바뀐다 \n",
    "zero_features = ['Glucose', 'BloodPressure', 'SkinThickness', 'Insulin', 'BMI']\n",
    "mean_zero_features = df[zero_features].mean()\n",
    "df[zero_features] = df[zero_features].replace(0, mean_zero_features)\n",
    "\n",
    "\n",
    "x_data = df.drop(columns = ['Outcome'], axis = 1)\n",
    "x_data = x_data.astype(np.float32)\n",
    "x_data.head()\n",
    "\n",
    "y_data = df['Outcome']\n",
    "y_data = y_data.astype(np.float32)\n",
    "y_data.head()\n",
    "\n",
    "scaler = StandardScaler()\n",
    "x_data_scaled = scaler.fit_transform(x_data)\n",
    "print(x_data_scaled)\n",
    "\n",
    "#학습/검증 데이터 분할\n",
    "x_train, x_val, y_train, y_val = train_test_split(x_data_scaled, y_data, test_size= 0.2)\n",
    "\n",
    "print(x_train.shape, x_val.shape)\n",
    "print(y_train.shape, y_val.shape)\n",
    "\n",
    "#모델\n",
    "model =Sequential([\n",
    "    Dense(1, activation = 'sigmoid')\n",
    "])\n",
    "model.compile(loss='binary_crossentropy', optimizer = Adam(lr = 0.01), metrics = ['acc'])\n",
    "\n",
    "model.fit(\n",
    "    x_train, \n",
    "    y_train,\n",
    "    validation_data=(x_val, y_val),\n",
    "    epochs = 20\n",
    "\n",
    ")\n",
    "\n"
   ]
  }
 ],
 "metadata": {
  "kernelspec": {
   "display_name": "Python 3",
   "language": "python",
   "name": "python3"
  },
  "language_info": {
   "codemirror_mode": {
    "name": "ipython",
    "version": 3
   },
   "file_extension": ".py",
   "mimetype": "text/x-python",
   "name": "python",
   "nbconvert_exporter": "python",
   "pygments_lexer": "ipython3",
   "version": "3.8.10"
  }
 },
 "nbformat": 4,
 "nbformat_minor": 5
}
