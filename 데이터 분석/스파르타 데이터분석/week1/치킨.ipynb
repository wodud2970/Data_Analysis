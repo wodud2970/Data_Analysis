{
 "cells": [
  {
   "cell_type": "code",
   "execution_count": 24,
   "id": "b0eb938d",
   "metadata": {},
   "outputs": [
    {
     "data": {
      "text/html": [
       "<div>\n",
       "<style scoped>\n",
       "    .dataframe tbody tr th:only-of-type {\n",
       "        vertical-align: middle;\n",
       "    }\n",
       "\n",
       "    .dataframe tbody tr th {\n",
       "        vertical-align: top;\n",
       "    }\n",
       "\n",
       "    .dataframe thead th {\n",
       "        text-align: right;\n",
       "    }\n",
       "</style>\n",
       "<table border=\"1\" class=\"dataframe\">\n",
       "  <thead>\n",
       "    <tr style=\"text-align: right;\">\n",
       "      <th></th>\n",
       "      <th>기준일</th>\n",
       "      <th>요일</th>\n",
       "      <th>성별</th>\n",
       "      <th>연령대</th>\n",
       "      <th>시도</th>\n",
       "      <th>시군구</th>\n",
       "      <th>읍면동</th>\n",
       "      <th>업종</th>\n",
       "      <th>통화건수</th>\n",
       "    </tr>\n",
       "  </thead>\n",
       "  <tbody>\n",
       "    <tr>\n",
       "      <th>0</th>\n",
       "      <td>20190701</td>\n",
       "      <td>월</td>\n",
       "      <td>남</td>\n",
       "      <td>30대</td>\n",
       "      <td>서울특별시</td>\n",
       "      <td>강남구</td>\n",
       "      <td>논현동</td>\n",
       "      <td>치킨</td>\n",
       "      <td>8</td>\n",
       "    </tr>\n",
       "    <tr>\n",
       "      <th>1</th>\n",
       "      <td>20190701</td>\n",
       "      <td>월</td>\n",
       "      <td>여</td>\n",
       "      <td>30대</td>\n",
       "      <td>서울특별시</td>\n",
       "      <td>강남구</td>\n",
       "      <td>개포동</td>\n",
       "      <td>치킨</td>\n",
       "      <td>10</td>\n",
       "    </tr>\n",
       "    <tr>\n",
       "      <th>2</th>\n",
       "      <td>20190701</td>\n",
       "      <td>월</td>\n",
       "      <td>여</td>\n",
       "      <td>30대</td>\n",
       "      <td>서울특별시</td>\n",
       "      <td>강남구</td>\n",
       "      <td>논현동</td>\n",
       "      <td>치킨</td>\n",
       "      <td>16</td>\n",
       "    </tr>\n",
       "    <tr>\n",
       "      <th>3</th>\n",
       "      <td>20190701</td>\n",
       "      <td>월</td>\n",
       "      <td>여</td>\n",
       "      <td>30대</td>\n",
       "      <td>서울특별시</td>\n",
       "      <td>강남구</td>\n",
       "      <td>수서동</td>\n",
       "      <td>치킨</td>\n",
       "      <td>5</td>\n",
       "    </tr>\n",
       "    <tr>\n",
       "      <th>4</th>\n",
       "      <td>20190701</td>\n",
       "      <td>월</td>\n",
       "      <td>여</td>\n",
       "      <td>30대</td>\n",
       "      <td>서울특별시</td>\n",
       "      <td>강남구</td>\n",
       "      <td>대치동</td>\n",
       "      <td>치킨</td>\n",
       "      <td>5</td>\n",
       "    </tr>\n",
       "  </tbody>\n",
       "</table>\n",
       "</div>"
      ],
      "text/plain": [
       "        기준일 요일 성별  연령대     시도  시군구  읍면동  업종  통화건수\n",
       "0  20190701  월  남  30대  서울특별시  강남구  논현동  치킨     8\n",
       "1  20190701  월  여  30대  서울특별시  강남구  개포동  치킨    10\n",
       "2  20190701  월  여  30대  서울특별시  강남구  논현동  치킨    16\n",
       "3  20190701  월  여  30대  서울특별시  강남구  수서동  치킨     5\n",
       "4  20190701  월  여  30대  서울특별시  강남구  대치동  치킨     5"
      ]
     },
     "execution_count": 24,
     "metadata": {},
     "output_type": "execute_result"
    }
   ],
   "source": [
    "import pandas as pd\n",
    "import matplotlib.pyplot as plt\n",
    "\n",
    "chicken_data = pd.read_csv('./data/chicken_07.csv')\n",
    "chicken_data1 = pd.read_csv('./data/chicken_08.csv')\n",
    "chicken_data2 = pd.read_csv('./data/chicken_09.csv')\n",
    "\n",
    "chicken_data = chicken_data.append(chicken_data1).append(chicken_data2)\n"
   ]
  },
  {
   "cell_type": "code",
   "execution_count": 5,
   "id": "c72fa997",
   "metadata": {},
   "outputs": [],
   "source": [
    "sum_of_call_by_week=chicken_data.groupby('요일')['통화건수'].sum()"
   ]
  },
  {
   "cell_type": "code",
   "execution_count": 6,
   "id": "32992b1f",
   "metadata": {},
   "outputs": [
    {
     "data": {
      "text/plain": [
       "요일\n",
       "금    58610\n",
       "목    37329\n",
       "수    46298\n",
       "월    43387\n",
       "일    47660\n",
       "토    50282\n",
       "화    42112\n",
       "Name: 통화건수, dtype: int64"
      ]
     },
     "execution_count": 6,
     "metadata": {},
     "output_type": "execute_result"
    }
   ],
   "source": [
    "sum_of_call_by_week"
   ]
  },
  {
   "cell_type": "code",
   "execution_count": 9,
   "id": "dbb7ab6c",
   "metadata": {},
   "outputs": [
    {
     "data": {
      "image/png": "[encoded data removed]",
      "text/plain": [
       "<Figure size 576x360 with 1 Axes>"
      ]
     },
     "metadata": {
      "needs_background": "light"
     },
     "output_type": "display_data"
    }
   ],
   "source": [
    "plt.rcParams['font.size']\n",
    "plt.rcParams['font.family'] = 'Malgun Gothic'\n",
    "\n",
    "#요일별 통화건수 \n",
    "plt.figure(figsize = (8,5))\n",
    "plt.bar(sum_of_call_by_week.index, sum_of_call_by_week)\n",
    "plt.title('요일에 따른 치킨 주문량 합계')\n",
    "plt.show()"
   ]
  },
  {
   "cell_type": "code",
   "execution_count": 25,
   "id": "5af870d7",
   "metadata": {},
   "outputs": [],
   "source": [
    "group_data =chicken_data.groupby('요일')\n",
    "call_data = group_data['통화건수'].sum()\n",
    "sorted_sum_of_calls = call_data.sort_values(ascending = True)\n"
   ]
  },
  {
   "cell_type": "code",
   "execution_count": 26,
   "id": "db4394b0",
   "metadata": {},
   "outputs": [
    {
     "data": {
      "text/plain": [
       "요일\n",
       "화    108243\n",
       "월    108492\n",
       "목    118210\n",
       "수    118295\n",
       "일    158864\n",
       "금    159290\n",
       "토    165949\n",
       "Name: 통화건수, dtype: int64"
      ]
     },
     "execution_count": 26,
     "metadata": {},
     "output_type": "execute_result"
    }
   ],
   "source": [
    "sorted_sum_of_calls"
   ]
  },
  {
   "cell_type": "code",
   "execution_count": 27,
   "id": "df720f98",
   "metadata": {},
   "outputs": [
    {
     "data": {
      "image/png": "[encoded data removed]",
      "text/plain": [
       "<Figure size 576x360 with 1 Axes>"
      ]
     },
     "metadata": {
      "needs_background": "light"
     },
     "output_type": "display_data"
    }
   ],
   "source": [
    "plt.figure(figsize = (8,5))\n",
    "plt.bar(sorted_sum_of_calls.index, sorted_sum_of_calls)\n",
    "plt.title('요일에 따른 치킨 주문량 합계')\n",
    "plt.show()"
   ]
  },
  {
   "cell_type": "code",
   "execution_count": 32,
   "id": "79fecd12",
   "metadata": {},
   "outputs": [],
   "source": [
    "weeks = ['월','화','수','목','금','토','일']\n",
    "group_data =chicken_data.groupby('요일')\n",
    "call_data = group_data['통화건수'].sum().reindex(weeks)\n"
   ]
  },
  {
   "cell_type": "code",
   "execution_count": 34,
   "id": "ac85b4c3",
   "metadata": {},
   "outputs": [
    {
     "data": {
      "text/plain": [
       "요일\n",
       "월    108492\n",
       "화    108243\n",
       "수    118295\n",
       "목    118210\n",
       "금    159290\n",
       "토    165949\n",
       "일    158864\n",
       "Name: 통화건수, dtype: int64"
      ]
     },
     "execution_count": 34,
     "metadata": {},
     "output_type": "execute_result"
    }
   ],
   "source": [
    "call_data"
   ]
  },
  {
   "cell_type": "code",
   "execution_count": 33,
   "id": "6d0073c3",
   "metadata": {},
   "outputs": [
    {
     "data": {
      "image/png": "[encoded data removed]",
      "text/plain": [
       "<Figure size 576x360 with 1 Axes>"
      ]
     },
     "metadata": {
      "needs_background": "light"
     },
     "output_type": "display_data"
    }
   ],
   "source": [
    "plt.figure(figsize = (8,5))\n",
    "plt.bar(call_data.index, call_data)\n",
    "plt.title('요일에 따른 치킨 주문량 합계')\n",
    "plt.show()"
   ]
  },
  {
   "cell_type": "code",
   "execution_count": 39,
   "id": "3efeb97a",
   "metadata": {},
   "outputs": [],
   "source": [
    "chicken_data\n",
    "year_chicken = chicken_data.groupby('연령대')['통화건수'].sum()\n",
    "year_chocken_sort = year_chicken.sort_values(ascending=False)"
   ]
  },
  {
   "cell_type": "code",
   "execution_count": 40,
   "id": "2f41a7dc",
   "metadata": {},
   "outputs": [
    {
     "data": {
      "image/png": "[encoded data removed]",
      "text/plain": [
       "<Figure size 576x360 with 1 Axes>"
      ]
     },
     "metadata": {
      "needs_background": "light"
     },
     "output_type": "display_data"
    }
   ],
   "source": [
    "plt.figure(figsize = (8,5))\n",
    "plt.bar(year_chocken_sort.index, year_chocken_sort)\n",
    "plt.title('Quiz1')\n",
    "plt.show()"
   ]
  },
  {
   "cell_type": "code",
   "execution_count": 45,
   "id": "b4ad3827",
   "metadata": {},
   "outputs": [],
   "source": [
    "sigoongu=chicken_data.groupby('시군구')['통화건수'].sum().sort_values(ascending= False)"
   ]
  },
  {
   "cell_type": "code",
   "execution_count": 57,
   "id": "1272333b",
   "metadata": {},
   "outputs": [
    {
     "data": {
      "image/png": "[encoded data removed]",
      "text/plain": [
       "<Figure size 720x360 with 1 Axes>"
      ]
     },
     "metadata": {
      "needs_background": "light"
     },
     "output_type": "display_data"
    }
   ],
   "source": [
    "plt.figure(figsize = (10,5))\n",
    "plt.bar(sigoongu.index, sigoongu)\n",
    "plt.title('Quiz2')\n",
    "plt.xlabel('지역별')\n",
    "plt.xticks(rotation =45)\n",
    "\n",
    "plt.show()"
   ]
  },
  {
   "cell_type": "code",
   "execution_count": 58,
   "id": "f2c1a377",
   "metadata": {},
   "outputs": [
    {
     "data": {
      "text/html": [
       "<div>\n",
       "<style scoped>\n",
       "    .dataframe tbody tr th:only-of-type {\n",
       "        vertical-align: middle;\n",
       "    }\n",
       "\n",
       "    .dataframe tbody tr th {\n",
       "        vertical-align: top;\n",
       "    }\n",
       "\n",
       "    .dataframe thead th {\n",
       "        text-align: right;\n",
       "    }\n",
       "</style>\n",
       "<table border=\"1\" class=\"dataframe\">\n",
       "  <thead>\n",
       "    <tr style=\"text-align: right;\">\n",
       "      <th></th>\n",
       "      <th>일자</th>\n",
       "      <th>요일</th>\n",
       "      <th>성별</th>\n",
       "      <th>연령</th>\n",
       "      <th>발신지_시도</th>\n",
       "      <th>발신지_구</th>\n",
       "      <th>발신지_동</th>\n",
       "      <th>통화건수</th>\n",
       "    </tr>\n",
       "  </thead>\n",
       "  <tbody>\n",
       "    <tr>\n",
       "      <th>0</th>\n",
       "      <td>20190901</td>\n",
       "      <td>일</td>\n",
       "      <td>남</td>\n",
       "      <td>30대</td>\n",
       "      <td>서울특별시</td>\n",
       "      <td>강남구</td>\n",
       "      <td>삼성동</td>\n",
       "      <td>9</td>\n",
       "    </tr>\n",
       "    <tr>\n",
       "      <th>1</th>\n",
       "      <td>20190901</td>\n",
       "      <td>일</td>\n",
       "      <td>남</td>\n",
       "      <td>30대</td>\n",
       "      <td>서울특별시</td>\n",
       "      <td>강남구</td>\n",
       "      <td>논현동</td>\n",
       "      <td>10</td>\n",
       "    </tr>\n",
       "    <tr>\n",
       "      <th>2</th>\n",
       "      <td>20190901</td>\n",
       "      <td>일</td>\n",
       "      <td>남</td>\n",
       "      <td>30대</td>\n",
       "      <td>서울특별시</td>\n",
       "      <td>강남구</td>\n",
       "      <td>개포동</td>\n",
       "      <td>5</td>\n",
       "    </tr>\n",
       "    <tr>\n",
       "      <th>3</th>\n",
       "      <td>20190901</td>\n",
       "      <td>일</td>\n",
       "      <td>여</td>\n",
       "      <td>50대</td>\n",
       "      <td>서울특별시</td>\n",
       "      <td>강남구</td>\n",
       "      <td>삼성동</td>\n",
       "      <td>7</td>\n",
       "    </tr>\n",
       "    <tr>\n",
       "      <th>4</th>\n",
       "      <td>20190901</td>\n",
       "      <td>일</td>\n",
       "      <td>여</td>\n",
       "      <td>50대</td>\n",
       "      <td>서울특별시</td>\n",
       "      <td>강남구</td>\n",
       "      <td>도곡동</td>\n",
       "      <td>5</td>\n",
       "    </tr>\n",
       "    <tr>\n",
       "      <th>...</th>\n",
       "      <td>...</td>\n",
       "      <td>...</td>\n",
       "      <td>...</td>\n",
       "      <td>...</td>\n",
       "      <td>...</td>\n",
       "      <td>...</td>\n",
       "      <td>...</td>\n",
       "      <td>...</td>\n",
       "    </tr>\n",
       "    <tr>\n",
       "      <th>18220</th>\n",
       "      <td>20190930</td>\n",
       "      <td>월</td>\n",
       "      <td>남</td>\n",
       "      <td>20대</td>\n",
       "      <td>서울특별시</td>\n",
       "      <td>중랑구</td>\n",
       "      <td>묵동</td>\n",
       "      <td>5</td>\n",
       "    </tr>\n",
       "    <tr>\n",
       "      <th>18221</th>\n",
       "      <td>20190930</td>\n",
       "      <td>월</td>\n",
       "      <td>남</td>\n",
       "      <td>30대</td>\n",
       "      <td>서울특별시</td>\n",
       "      <td>중랑구</td>\n",
       "      <td>면목동</td>\n",
       "      <td>5</td>\n",
       "    </tr>\n",
       "    <tr>\n",
       "      <th>18222</th>\n",
       "      <td>20190930</td>\n",
       "      <td>월</td>\n",
       "      <td>여</td>\n",
       "      <td>20대</td>\n",
       "      <td>서울특별시</td>\n",
       "      <td>중랑구</td>\n",
       "      <td>면목동</td>\n",
       "      <td>11</td>\n",
       "    </tr>\n",
       "    <tr>\n",
       "      <th>18223</th>\n",
       "      <td>20190930</td>\n",
       "      <td>월</td>\n",
       "      <td>여</td>\n",
       "      <td>20대</td>\n",
       "      <td>서울특별시</td>\n",
       "      <td>중랑구</td>\n",
       "      <td>중화동</td>\n",
       "      <td>5</td>\n",
       "    </tr>\n",
       "    <tr>\n",
       "      <th>18224</th>\n",
       "      <td>20190930</td>\n",
       "      <td>월</td>\n",
       "      <td>여</td>\n",
       "      <td>50대</td>\n",
       "      <td>서울특별시</td>\n",
       "      <td>중랑구</td>\n",
       "      <td>망우동</td>\n",
       "      <td>5</td>\n",
       "    </tr>\n",
       "  </tbody>\n",
       "</table>\n",
       "<p>18225 rows × 8 columns</p>\n",
       "</div>"
      ],
      "text/plain": [
       "             일자 요일 성별   연령 발신지_시도 발신지_구 발신지_동  통화건수\n",
       "0      20190901  일  남  30대  서울특별시   강남구   삼성동     9\n",
       "1      20190901  일  남  30대  서울특별시   강남구   논현동    10\n",
       "2      20190901  일  남  30대  서울특별시   강남구   개포동     5\n",
       "3      20190901  일  여  50대  서울특별시   강남구   삼성동     7\n",
       "4      20190901  일  여  50대  서울특별시   강남구   도곡동     5\n",
       "...         ... .. ..  ...    ...   ...   ...   ...\n",
       "18220  20190930  월  남  20대  서울특별시   중랑구    묵동     5\n",
       "18221  20190930  월  남  30대  서울특별시   중랑구   면목동     5\n",
       "18222  20190930  월  여  20대  서울특별시   중랑구   면목동    11\n",
       "18223  20190930  월  여  20대  서울특별시   중랑구   중화동     5\n",
       "18224  20190930  월  여  50대  서울특별시   중랑구   망우동     5\n",
       "\n",
       "[18225 rows x 8 columns]"
      ]
     },
     "execution_count": 58,
     "metadata": {},
     "output_type": "execute_result"
    }
   ],
   "source": [
    "pizza = pd.read_csv('./data/pizza_09.csv')\n",
    "pizza"
   ]
  },
  {
   "cell_type": "code",
   "execution_count": 64,
   "id": "37aeae86",
   "metadata": {},
   "outputs": [],
   "source": [
    "sum_pizza=pizza.groupby('요일')['통화건수'].sum().sort_values(ascending = False)"
   ]
  },
  {
   "cell_type": "code",
   "execution_count": 65,
   "id": "a883dbbd",
   "metadata": {},
   "outputs": [
    {
     "data": {
      "image/png": "[encoded data removed]",
      "text/plain": [
       "<Figure size 720x360 with 1 Axes>"
      ]
     },
     "metadata": {
      "needs_background": "light"
     },
     "output_type": "display_data"
    }
   ],
   "source": [
    "plt.figure(figsize=(10,5))\n",
    "plt.title('피자')\n",
    "plt.bar(sum_pizza.index, sum_pizza)\n",
    "plt.show()\n"
   ]
  },
  {
   "cell_type": "code",
   "execution_count": 66,
   "id": "f67b9ea2",
   "metadata": {},
   "outputs": [
    {
     "data": {
      "text/html": [
       "<div>\n",
       "<style scoped>\n",
       "    .dataframe tbody tr th:only-of-type {\n",
       "        vertical-align: middle;\n",
       "    }\n",
       "\n",
       "    .dataframe tbody tr th {\n",
       "        vertical-align: top;\n",
       "    }\n",
       "\n",
       "    .dataframe thead th {\n",
       "        text-align: right;\n",
       "    }\n",
       "</style>\n",
       "<table border=\"1\" class=\"dataframe\">\n",
       "  <thead>\n",
       "    <tr style=\"text-align: right;\">\n",
       "      <th></th>\n",
       "      <th>일자</th>\n",
       "      <th>요일</th>\n",
       "      <th>성별</th>\n",
       "      <th>연령</th>\n",
       "      <th>발신지_시도</th>\n",
       "      <th>발신지_구</th>\n",
       "      <th>발신지_동</th>\n",
       "      <th>통화건수</th>\n",
       "    </tr>\n",
       "  </thead>\n",
       "  <tbody>\n",
       "    <tr>\n",
       "      <th>0</th>\n",
       "      <td>20190901</td>\n",
       "      <td>일</td>\n",
       "      <td>남</td>\n",
       "      <td>30대</td>\n",
       "      <td>서울특별시</td>\n",
       "      <td>강남구</td>\n",
       "      <td>삼성동</td>\n",
       "      <td>9</td>\n",
       "    </tr>\n",
       "    <tr>\n",
       "      <th>1</th>\n",
       "      <td>20190901</td>\n",
       "      <td>일</td>\n",
       "      <td>남</td>\n",
       "      <td>30대</td>\n",
       "      <td>서울특별시</td>\n",
       "      <td>강남구</td>\n",
       "      <td>논현동</td>\n",
       "      <td>10</td>\n",
       "    </tr>\n",
       "    <tr>\n",
       "      <th>2</th>\n",
       "      <td>20190901</td>\n",
       "      <td>일</td>\n",
       "      <td>남</td>\n",
       "      <td>30대</td>\n",
       "      <td>서울특별시</td>\n",
       "      <td>강남구</td>\n",
       "      <td>개포동</td>\n",
       "      <td>5</td>\n",
       "    </tr>\n",
       "    <tr>\n",
       "      <th>3</th>\n",
       "      <td>20190901</td>\n",
       "      <td>일</td>\n",
       "      <td>여</td>\n",
       "      <td>50대</td>\n",
       "      <td>서울특별시</td>\n",
       "      <td>강남구</td>\n",
       "      <td>삼성동</td>\n",
       "      <td>7</td>\n",
       "    </tr>\n",
       "    <tr>\n",
       "      <th>4</th>\n",
       "      <td>20190901</td>\n",
       "      <td>일</td>\n",
       "      <td>여</td>\n",
       "      <td>50대</td>\n",
       "      <td>서울특별시</td>\n",
       "      <td>강남구</td>\n",
       "      <td>도곡동</td>\n",
       "      <td>5</td>\n",
       "    </tr>\n",
       "    <tr>\n",
       "      <th>...</th>\n",
       "      <td>...</td>\n",
       "      <td>...</td>\n",
       "      <td>...</td>\n",
       "      <td>...</td>\n",
       "      <td>...</td>\n",
       "      <td>...</td>\n",
       "      <td>...</td>\n",
       "      <td>...</td>\n",
       "    </tr>\n",
       "    <tr>\n",
       "      <th>18220</th>\n",
       "      <td>20190930</td>\n",
       "      <td>월</td>\n",
       "      <td>남</td>\n",
       "      <td>20대</td>\n",
       "      <td>서울특별시</td>\n",
       "      <td>중랑구</td>\n",
       "      <td>묵동</td>\n",
       "      <td>5</td>\n",
       "    </tr>\n",
       "    <tr>\n",
       "      <th>18221</th>\n",
       "      <td>20190930</td>\n",
       "      <td>월</td>\n",
       "      <td>남</td>\n",
       "      <td>30대</td>\n",
       "      <td>서울특별시</td>\n",
       "      <td>중랑구</td>\n",
       "      <td>면목동</td>\n",
       "      <td>5</td>\n",
       "    </tr>\n",
       "    <tr>\n",
       "      <th>18222</th>\n",
       "      <td>20190930</td>\n",
       "      <td>월</td>\n",
       "      <td>여</td>\n",
       "      <td>20대</td>\n",
       "      <td>서울특별시</td>\n",
       "      <td>중랑구</td>\n",
       "      <td>면목동</td>\n",
       "      <td>11</td>\n",
       "    </tr>\n",
       "    <tr>\n",
       "      <th>18223</th>\n",
       "      <td>20190930</td>\n",
       "      <td>월</td>\n",
       "      <td>여</td>\n",
       "      <td>20대</td>\n",
       "      <td>서울특별시</td>\n",
       "      <td>중랑구</td>\n",
       "      <td>중화동</td>\n",
       "      <td>5</td>\n",
       "    </tr>\n",
       "    <tr>\n",
       "      <th>18224</th>\n",
       "      <td>20190930</td>\n",
       "      <td>월</td>\n",
       "      <td>여</td>\n",
       "      <td>50대</td>\n",
       "      <td>서울특별시</td>\n",
       "      <td>중랑구</td>\n",
       "      <td>망우동</td>\n",
       "      <td>5</td>\n",
       "    </tr>\n",
       "  </tbody>\n",
       "</table>\n",
       "<p>18225 rows × 8 columns</p>\n",
       "</div>"
      ],
      "text/plain": [
       "             일자 요일 성별   연령 발신지_시도 발신지_구 발신지_동  통화건수\n",
       "0      20190901  일  남  30대  서울특별시   강남구   삼성동     9\n",
       "1      20190901  일  남  30대  서울특별시   강남구   논현동    10\n",
       "2      20190901  일  남  30대  서울특별시   강남구   개포동     5\n",
       "3      20190901  일  여  50대  서울특별시   강남구   삼성동     7\n",
       "4      20190901  일  여  50대  서울특별시   강남구   도곡동     5\n",
       "...         ... .. ..  ...    ...   ...   ...   ...\n",
       "18220  20190930  월  남  20대  서울특별시   중랑구    묵동     5\n",
       "18221  20190930  월  남  30대  서울특별시   중랑구   면목동     5\n",
       "18222  20190930  월  여  20대  서울특별시   중랑구   면목동    11\n",
       "18223  20190930  월  여  20대  서울특별시   중랑구   중화동     5\n",
       "18224  20190930  월  여  50대  서울특별시   중랑구   망우동     5\n",
       "\n",
       "[18225 rows x 8 columns]"
      ]
     },
     "execution_count": 66,
     "metadata": {},
     "output_type": "execute_result"
    }
   ],
   "source": [
    "pizza"
   ]
  },
  {
   "cell_type": "code",
   "execution_count": 70,
   "id": "096ab209",
   "metadata": {},
   "outputs": [
    {
     "data": {
      "image/png": "[encoded data removed]",
      "text/plain": [
       "<Figure size 720x360 with 1 Axes>"
      ]
     },
     "metadata": {
      "needs_background": "light"
     },
     "output_type": "display_data"
    }
   ],
   "source": [
    "sum_pizza =pizza.groupby('발신지_구')['통화건수'].sum().sort_values(ascending = False)\n",
    "plt.figure(figsize=(10,5))\n",
    "plt.title('피자')\n",
    "plt.bar(sum_pizza.index, sum_pizza)\n",
    "plt.xticks(rotation = 45)\n",
    "plt.show()"
   ]
  },
  {
   "cell_type": "code",
   "execution_count": 71,
   "id": "441f58e5",
   "metadata": {},
   "outputs": [],
   "source": [
    "weeks = ['월','화','수','목','금','토','일']\n",
    "group_data =chicken_data.groupby('요일')\n",
    "call_data_chicken = group_data['통화건수'].sum().reindex(weeks)\n",
    "call_data_pizza = pizza.groupby('요일')['통화건수'].sum().reindex(weeks)"
   ]
  },
  {
   "cell_type": "code",
   "execution_count": 78,
   "id": "9261452c",
   "metadata": {},
   "outputs": [
    {
     "data": {
      "image/png": "[encoded data removed]",
      "text/plain": [
       "<Figure size 432x288 with 1 Axes>"
      ]
     },
     "metadata": {
      "needs_background": "light"
     },
     "output_type": "display_data"
    }
   ],
   "source": [
    "plt.bar(call_data_chicken.index,call_data_chicken)\n",
    "plt.bar(call_data_pizza.index,call_data_pizza)\n",
    "plt.show()"
   ]
  },
  {
   "cell_type": "code",
   "execution_count": 79,
   "id": "3c1d73a9",
   "metadata": {},
   "outputs": [
    {
     "data": {
      "text/plain": [
       "발신지_구\n",
       "강서구     12042\n",
       "관악구     10218\n",
       "강남구      8961\n",
       "강북구      8757\n",
       "성동구      7959\n",
       "서대문구     7819\n",
       "노원구      7408\n",
       "중구       7349\n",
       "강동구      7025\n",
       "서초구      6536\n",
       "구로구      6137\n",
       "송파구      6042\n",
       "동대문구     5761\n",
       "영등포구     4914\n",
       "마포구      4841\n",
       "은평구      4496\n",
       "중랑구      4322\n",
       "성북구      3817\n",
       "용산구      3318\n",
       "금천구      2461\n",
       "종로구      2345\n",
       "양천구      1695\n",
       "동작구      1665\n",
       "광진구      1230\n",
       "도봉구       965\n",
       "Name: 통화건수, dtype: int64"
      ]
     },
     "execution_count": 79,
     "metadata": {},
     "output_type": "execute_result"
    }
   ],
   "source": [
    "sum_pizza"
   ]
  },
  {
   "cell_type": "code",
   "execution_count": null,
   "id": "6737d421",
   "metadata": {},
   "outputs": [],
   "source": []
  }
 ],
 "metadata": {
  "kernelspec": {
   "display_name": "Python 3",
   "language": "python",
   "name": "python3"
  },
  "language_info": {
   "codemirror_mode": {
    "name": "ipython",
    "version": 3
   },
   "file_extension": ".py",
   "mimetype": "text/x-python",
   "name": "python",
   "nbconvert_exporter": "python",
   "pygments_lexer": "ipython3",
   "version": "3.8.10"
  }
 },
 "nbformat": 4,
 "nbformat_minor": 5
}
