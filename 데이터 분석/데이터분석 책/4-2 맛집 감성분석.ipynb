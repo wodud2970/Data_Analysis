{
 "cells": [
  {
   "cell_type": "markdown",
   "id": "occupational-serum",
   "metadata": {},
   "source": [
    "# 네이버 맛집 정적 크롤링( 네이버가 서비스 안함..)"
   ]
  },
  {
   "cell_type": "code",
   "execution_count": 5,
   "id": "expired-estonia",
   "metadata": {
    "collapsed": true
   },
   "outputs": [
    {
     "ename": "JSONDecodeError",
     "evalue": "Expecting value: line 1 column 1 (char 0)",
     "output_type": "error",
     "traceback": [
      "\u001b[1;31m---------------------------------------------------------------------------\u001b[0m",
      "\u001b[1;31mJSONDecodeError\u001b[0m                           Traceback (most recent call last)",
      "\u001b[1;32m<ipython-input-5-a7d2f4e476e8>\u001b[0m in \u001b[0;36m<module>\u001b[1;34m\u001b[0m\n\u001b[0;32m     21\u001b[0m \u001b[1;31m#반환받은 API 데이터에 json.loads 함수를 사용\u001b[0m\u001b[1;33m\u001b[0m\u001b[1;33m\u001b[0m\u001b[1;33m\u001b[0m\u001b[0m\n\u001b[0;32m     22\u001b[0m \u001b[0mjson_data\u001b[0m \u001b[1;33m=\u001b[0m \u001b[0mrequests\u001b[0m\u001b[1;33m.\u001b[0m\u001b[0mget\u001b[0m\u001b[1;33m(\u001b[0m\u001b[0murl_concat\u001b[0m\u001b[1;33m)\u001b[0m\u001b[1;33m.\u001b[0m\u001b[0mtext\u001b[0m\u001b[1;33m\u001b[0m\u001b[1;33m\u001b[0m\u001b[0m\n\u001b[1;32m---> 23\u001b[1;33m \u001b[0mrestaurant_list_data\u001b[0m \u001b[1;33m=\u001b[0m \u001b[0mjson\u001b[0m\u001b[1;33m.\u001b[0m\u001b[0mloads\u001b[0m\u001b[1;33m(\u001b[0m\u001b[0mjson_data\u001b[0m\u001b[1;33m)\u001b[0m\u001b[1;33m\u001b[0m\u001b[1;33m\u001b[0m\u001b[0m\n\u001b[0m\u001b[0;32m     24\u001b[0m \u001b[1;33m\u001b[0m\u001b[0m\n\u001b[0;32m     25\u001b[0m \u001b[1;31m#관련도순 상위 100개의 고기집 리스트 정보를 추출\u001b[0m\u001b[1;33m\u001b[0m\u001b[1;33m\u001b[0m\u001b[1;33m\u001b[0m\u001b[0m\n",
      "\u001b[1;32mc:\\users\\wodud\\appdata\\local\\programs\\python\\python37\\lib\\json\\__init__.py\u001b[0m in \u001b[0;36mloads\u001b[1;34m(s, encoding, cls, object_hook, parse_float, parse_int, parse_constant, object_pairs_hook, **kw)\u001b[0m\n\u001b[0;32m    346\u001b[0m             \u001b[0mparse_int\u001b[0m \u001b[1;32mis\u001b[0m \u001b[1;32mNone\u001b[0m \u001b[1;32mand\u001b[0m \u001b[0mparse_float\u001b[0m \u001b[1;32mis\u001b[0m \u001b[1;32mNone\u001b[0m \u001b[1;32mand\u001b[0m\u001b[1;33m\u001b[0m\u001b[1;33m\u001b[0m\u001b[0m\n\u001b[0;32m    347\u001b[0m             parse_constant is None and object_pairs_hook is None and not kw):\n\u001b[1;32m--> 348\u001b[1;33m         \u001b[1;32mreturn\u001b[0m \u001b[0m_default_decoder\u001b[0m\u001b[1;33m.\u001b[0m\u001b[0mdecode\u001b[0m\u001b[1;33m(\u001b[0m\u001b[0ms\u001b[0m\u001b[1;33m)\u001b[0m\u001b[1;33m\u001b[0m\u001b[1;33m\u001b[0m\u001b[0m\n\u001b[0m\u001b[0;32m    349\u001b[0m     \u001b[1;32mif\u001b[0m \u001b[0mcls\u001b[0m \u001b[1;32mis\u001b[0m \u001b[1;32mNone\u001b[0m\u001b[1;33m:\u001b[0m\u001b[1;33m\u001b[0m\u001b[1;33m\u001b[0m\u001b[0m\n\u001b[0;32m    350\u001b[0m         \u001b[0mcls\u001b[0m \u001b[1;33m=\u001b[0m \u001b[0mJSONDecoder\u001b[0m\u001b[1;33m\u001b[0m\u001b[1;33m\u001b[0m\u001b[0m\n",
      "\u001b[1;32mc:\\users\\wodud\\appdata\\local\\programs\\python\\python37\\lib\\json\\decoder.py\u001b[0m in \u001b[0;36mdecode\u001b[1;34m(self, s, _w)\u001b[0m\n\u001b[0;32m    335\u001b[0m \u001b[1;33m\u001b[0m\u001b[0m\n\u001b[0;32m    336\u001b[0m         \"\"\"\n\u001b[1;32m--> 337\u001b[1;33m         \u001b[0mobj\u001b[0m\u001b[1;33m,\u001b[0m \u001b[0mend\u001b[0m \u001b[1;33m=\u001b[0m \u001b[0mself\u001b[0m\u001b[1;33m.\u001b[0m\u001b[0mraw_decode\u001b[0m\u001b[1;33m(\u001b[0m\u001b[0ms\u001b[0m\u001b[1;33m,\u001b[0m \u001b[0midx\u001b[0m\u001b[1;33m=\u001b[0m\u001b[0m_w\u001b[0m\u001b[1;33m(\u001b[0m\u001b[0ms\u001b[0m\u001b[1;33m,\u001b[0m \u001b[1;36m0\u001b[0m\u001b[1;33m)\u001b[0m\u001b[1;33m.\u001b[0m\u001b[0mend\u001b[0m\u001b[1;33m(\u001b[0m\u001b[1;33m)\u001b[0m\u001b[1;33m)\u001b[0m\u001b[1;33m\u001b[0m\u001b[1;33m\u001b[0m\u001b[0m\n\u001b[0m\u001b[0;32m    338\u001b[0m         \u001b[0mend\u001b[0m \u001b[1;33m=\u001b[0m \u001b[0m_w\u001b[0m\u001b[1;33m(\u001b[0m\u001b[0ms\u001b[0m\u001b[1;33m,\u001b[0m \u001b[0mend\u001b[0m\u001b[1;33m)\u001b[0m\u001b[1;33m.\u001b[0m\u001b[0mend\u001b[0m\u001b[1;33m(\u001b[0m\u001b[1;33m)\u001b[0m\u001b[1;33m\u001b[0m\u001b[1;33m\u001b[0m\u001b[0m\n\u001b[0;32m    339\u001b[0m         \u001b[1;32mif\u001b[0m \u001b[0mend\u001b[0m \u001b[1;33m!=\u001b[0m \u001b[0mlen\u001b[0m\u001b[1;33m(\u001b[0m\u001b[0ms\u001b[0m\u001b[1;33m)\u001b[0m\u001b[1;33m:\u001b[0m\u001b[1;33m\u001b[0m\u001b[1;33m\u001b[0m\u001b[0m\n",
      "\u001b[1;32mc:\\users\\wodud\\appdata\\local\\programs\\python\\python37\\lib\\json\\decoder.py\u001b[0m in \u001b[0;36mraw_decode\u001b[1;34m(self, s, idx)\u001b[0m\n\u001b[0;32m    353\u001b[0m             \u001b[0mobj\u001b[0m\u001b[1;33m,\u001b[0m \u001b[0mend\u001b[0m \u001b[1;33m=\u001b[0m \u001b[0mself\u001b[0m\u001b[1;33m.\u001b[0m\u001b[0mscan_once\u001b[0m\u001b[1;33m(\u001b[0m\u001b[0ms\u001b[0m\u001b[1;33m,\u001b[0m \u001b[0midx\u001b[0m\u001b[1;33m)\u001b[0m\u001b[1;33m\u001b[0m\u001b[1;33m\u001b[0m\u001b[0m\n\u001b[0;32m    354\u001b[0m         \u001b[1;32mexcept\u001b[0m \u001b[0mStopIteration\u001b[0m \u001b[1;32mas\u001b[0m \u001b[0merr\u001b[0m\u001b[1;33m:\u001b[0m\u001b[1;33m\u001b[0m\u001b[1;33m\u001b[0m\u001b[0m\n\u001b[1;32m--> 355\u001b[1;33m             \u001b[1;32mraise\u001b[0m \u001b[0mJSONDecodeError\u001b[0m\u001b[1;33m(\u001b[0m\u001b[1;34m\"Expecting value\"\u001b[0m\u001b[1;33m,\u001b[0m \u001b[0ms\u001b[0m\u001b[1;33m,\u001b[0m \u001b[0merr\u001b[0m\u001b[1;33m.\u001b[0m\u001b[0mvalue\u001b[0m\u001b[1;33m)\u001b[0m \u001b[1;32mfrom\u001b[0m \u001b[1;32mNone\u001b[0m\u001b[1;33m\u001b[0m\u001b[1;33m\u001b[0m\u001b[0m\n\u001b[0m\u001b[0;32m    356\u001b[0m         \u001b[1;32mreturn\u001b[0m \u001b[0mobj\u001b[0m\u001b[1;33m,\u001b[0m \u001b[0mend\u001b[0m\u001b[1;33m\u001b[0m\u001b[1;33m\u001b[0m\u001b[0m\n",
      "\u001b[1;31mJSONDecodeError\u001b[0m: Expecting value: line 1 column 1 (char 0)"
     ]
    }
   ],
   "source": [
    "#맛집 분류 \n",
    "#네이버 서비스 막힘\n",
    "%matplotlib inline\n",
    "#관려도순 상위 100개의 고기집 리스트 정보 API구하기\n",
    "import pandas as pd\n",
    "import numpy as np\n",
    "import matplotlib as plt\n",
    "import seaborn as sns\n",
    "import requests\n",
    "import json\n",
    "\n",
    "#네이버 플레이스 API를 호출하기위한 주소\n",
    "source_url = \"https://store.naver.com/sogum/api/businesses\"\n",
    "\n",
    "#검색 규칙 파라미터 추가\n",
    "url_parameter_start = 'start=1'\n",
    "url_parameter_display = '&display='\n",
    "url_parameter_query='&query=강남역+고기집'\n",
    "url_parameter_sorting = \"&sortingOrder=precision\"\n",
    "url_concat = source_url + url_parameter_start + url_parameter_display + str(100) + url_parameter_query +url_parameter_sorting\n",
    "\n",
    "#반환받은 API 데이터에 json.loads 함수를 사용\n",
    "json_data = requests.get(url_concat).text\n",
    "restaurant_list_data = json.loads(json_data)\n",
    "\n",
    "#관련도순 상위 100개의 고기집 리스트 정보를 추출\n",
    "print(str(restaurant_list_data))\n"
   ]
  },
  {
   "attachments": {
    "image.png": {
     "image/png": "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"
    }
   },
   "cell_type": "markdown",
   "id": "applicable-youth",
   "metadata": {},
   "source": [
    "![image.png](attachment:image.png)"
   ]
  },
  {
   "cell_type": "code",
   "execution_count": null,
   "id": "portable-bulgaria",
   "metadata": {},
   "outputs": [],
   "source": [
    "import requests\n",
    "from bs4 BeautifulSoup\n",
    "import re\n",
    "#크롤링에 필요한 id정보 추출\n",
    "restaurant_id_list = []\n",
    "\n",
    "\n",
    "#100개씩의 Api 호출 결과를 10회 가져온다 \n",
    "for start_idx in [1,101,201,301,401,501,601,701,801,901]:\n",
    "    \n",
    "    #네이버 플레시으 API를 호출 위한 기본주소 \n",
    "    source_url = 'https://store.naver.com/sogum/api/businesses'\n",
    "    \n",
    "    #검색 규칙 파라미터를 추가\n",
    "    url_parameter_start = 'start=' +str(start_idx)\n",
    "    url_parameter_display = '&display='\n",
    "    url_parameter_query='&query=강남역+고기집'\n",
    "    url_parameter_sorting = \"&sortingOrder=precision\"\n",
    "    url_concat = source_url + url_parameter_start + url_parameter_display + str(start_idx+99) + url_parameter_query +url_parameter_sorting\n",
    "    \n",
    "    json_data = requests.get(url_concat).text\n",
    "    restaurant_list_data = json.load(json_data)\n",
    "    # 크롤링에 필요한 각 리뷰 상세 페이지의 id를 추출\n",
    "    for restaurant in restaurant_list_data['items']:\n",
    "        if 'moreBookingReviewsPath' in restaurant:\n",
    "            restaurant_id_list.append(restaurant['id'])\n",
    "\n",
    "restaurant_id_list = list(set(restaurant_id_list)) #레스토랑 id 를 크롤링해서 집어 넣는다 \n",
    "\n",
    "\n",
    "columns = ['score', 'review']\n",
    "\n",
    "#데이터 프레임을 만든다 \n",
    "df = pd.DataFrame(columns = columns)\n",
    "\n",
    "#리뷰 상세 페이지의 기본 주소\n",
    "source_url_head = 'https://store.naver.com/restaurants/detail?id='\n",
    "source_url_tail = '&tab=bookingReview#_tab'\n",
    "\n",
    "\n",
    "for idx in range(0, len(restaurant_id_list)):\n",
    "    \n",
    "    #앞서 추출한 리뷰 상세 페이지의 레스토랑 id를 기본 주소의 파라미터로 추가\n",
    "    #레스토랑 아이디 페이지\n",
    "    req = requests.get(source_url_head + str(restaurant_id_list[idx]) + source_url_tail)\n",
    "    #아이디 내용\n",
    "    html = req.content\n",
    "    #파싱\n",
    "    soup = BeautifulSoup(html, 'lxml')\n",
    "    #review_area 파씽\n",
    "    review_area = soup.find(name = 'div', attrs = {'class':'review_area'})\n",
    "    \n",
    "    #리뷰가 없는 페이즌 아무 작업도 수행하지 않습니다  (다음꺼 수행)\n",
    "    if review_area is None:\n",
    "        continue\n",
    "    \n",
    "    #개발자 도구로 살펴본 html 구조에서 리뷰의 점수, 텍스트 부분을 추출\n",
    "    review_list = review_area.find_all(name = 'div', attrs = {'class': 'info_area'})\n",
    "    for review in review_list:\n",
    "        score = review.find(name = 'span', attrs = {'class' : 'score'}).text\n",
    "        review_txt = review.find(name='div', attrs={'class':'review_txt'}).text\n",
    "        \n",
    "        #추출한 리뷰의 점수, 리뷰텍스트를 데이터프레임으로 병합\n",
    "        row = [score,review_txt]\n",
    "        #series를 {'score': }\n",
    "        series = pd.Series(row, index=df.columns)\n",
    "        df = df.append(series, ignore_index = True)\n",
    "\n",
    "# 4점 이상의 리뷰는 긍정 리뷰, 3점이하의 리뷰는 부정리뷰로 평가\n",
    "df['y'] = df['score'].apply(lambda x: 1 if int(x) > 3 else 0)\n",
    "print(df.shape)\n",
    "df.head()\n",
    "\n",
    "\n"
   ]
  },
  {
   "cell_type": "markdown",
   "id": "optical-samuel",
   "metadata": {},
   "source": [
    "# 궁금해서 테스트 "
   ]
  },
  {
   "cell_type": "code",
   "execution_count": 17,
   "id": "russian-answer",
   "metadata": {},
   "outputs": [
    {
     "name": "stdout",
     "output_type": "stream",
     "text": [
      "score      123\n",
      "review    1234\n",
      "dtype: object\n"
     ]
    },
    {
     "data": {
      "text/html": [
       "<div>\n",
       "<style scoped>\n",
       "    .dataframe tbody tr th:only-of-type {\n",
       "        vertical-align: middle;\n",
       "    }\n",
       "\n",
       "    .dataframe tbody tr th {\n",
       "        vertical-align: top;\n",
       "    }\n",
       "\n",
       "    .dataframe thead th {\n",
       "        text-align: right;\n",
       "    }\n",
       "</style>\n",
       "<table border=\"1\" class=\"dataframe\">\n",
       "  <thead>\n",
       "    <tr style=\"text-align: right;\">\n",
       "      <th></th>\n",
       "      <th>score</th>\n",
       "      <th>review</th>\n",
       "    </tr>\n",
       "  </thead>\n",
       "  <tbody>\n",
       "    <tr>\n",
       "      <th>0</th>\n",
       "      <td>123</td>\n",
       "      <td>1234</td>\n",
       "    </tr>\n",
       "    <tr>\n",
       "      <th>1</th>\n",
       "      <td>123</td>\n",
       "      <td>1234</td>\n",
       "    </tr>\n",
       "  </tbody>\n",
       "</table>\n",
       "</div>"
      ],
      "text/plain": [
       "  score review\n",
       "0   123   1234\n",
       "1   123   1234"
      ]
     },
     "execution_count": 17,
     "metadata": {},
     "output_type": "execute_result"
    }
   ],
   "source": [
    "columns = ['score', 'review']\n",
    "\n",
    "test = pd.DataFrame(columns = columns)\n",
    "test_row = ['123','1234']\n",
    "test_series = pd.Series(test_row, index = test.columns)\n",
    "print(test_series) #test_series = {'score':['123'], 'reivew':['1234']}\n",
    "test =test.append(test_series, ignore_index = True)\n",
    "test =test.append(test_series, ignore_index = True)\n",
    "test"
   ]
  },
  {
   "cell_type": "markdown",
   "id": "structural-organizer",
   "metadata": {},
   "source": [
    "# 카카오 맛집 (동적 크롤링)"
   ]
  },
  {
   "cell_type": "code",
   "execution_count": 1,
   "id": "dress-possibility",
   "metadata": {
    "scrolled": true
   },
   "outputs": [
    {
     "name": "stdout",
     "output_type": "stream",
     "text": [
      "https://place.map.kakao.com/85570955\n",
      "https://place.map.kakao.com/1503746075\n",
      "https://place.map.kakao.com/95713992\n",
      "https://place.map.kakao.com/741391811\n",
      "https://place.map.kakao.com/2011092566\n",
      "https://place.map.kakao.com/13573220\n",
      "https://place.map.kakao.com/2062959414\n",
      "https://place.map.kakao.com/1648266796\n",
      "https://place.map.kakao.com/168079537\n",
      "https://place.map.kakao.com/263830255\n",
      "https://place.map.kakao.com/27238067\n",
      "https://place.map.kakao.com/26431943\n",
      "https://place.map.kakao.com/1780387311\n",
      "https://place.map.kakao.com/1907052666\n",
      "https://place.map.kakao.com/1052874675\n",
      "https://place.map.kakao.com/1576421052\n"
     ]
    }
   ],
   "source": [
    "from selenium import webdriver\n",
    "from bs4 import BeautifulSoup\n",
    "import re\n",
    "import time\n",
    "\n",
    "# brew 로 설치된 chromedriver의 path (Mac)\n",
    "path = '/usr/local/bin/chromedriver'\n",
    "\n",
    "# 윈도우용 크롬 웹드라이버 실행 경로 (Windows)\n",
    "excutable_path = 'C:/chromedriver.exe'\n",
    "\n",
    "# 크롤링할 사이트 주소를 정의합니다.\n",
    "source_url = \"https://map.kakao.com/\"\n",
    "\n",
    "# 크롬 드라이버를 사용합니다 (맥은 첫 줄, 윈도우는 두번째 줄 실행)\n",
    "# driver = webdriver.Chrome(path)\n",
    "driver = webdriver.Chrome(executable_path=excutable_path)\n",
    "\n",
    "# 카카오 지도에 접속합니다\n",
    "driver.get(source_url)\n",
    "\n",
    "# 검색창에 검색어를 입력합니다\n",
    "searchbox = driver.find_element_by_xpath(\"//input[@id='search.keyword.query']\")\n",
    "searchbox.send_keys(\"강남역 고기집\")\n",
    "\n",
    "# 검색버튼을 눌러서 결과를 가져옵니다\n",
    "searchbutton = driver.find_element_by_xpath(\"//button[@id='search.keyword.submit']\")\n",
    "driver.execute_script(\"arguments[0].click();\", searchbutton)\n",
    "\n",
    "# 검색 결과를 가져올 시간을 기다립니다\n",
    "time.sleep(2)\n",
    "\n",
    "# 검색 결과의 페이지 소스를 가져옵니다\n",
    "html = driver.page_source\n",
    "\n",
    "# BeautifulSoup을 이용하여 html 정보를 파싱합니다\n",
    "soup = BeautifulSoup(html, \"html.parser\")\n",
    "moreviews = soup.find_all(name=\"a\", attrs={\"class\":\"moreview\"})\n",
    "\n",
    "# a태그의 href 속성을 리스트로 추출하여, 크롤링 할 페이지 리스트를 생성합니다.\n",
    "page_urls = []\n",
    "for moreview in moreviews:\n",
    "    page_url = moreview.get(\"href\")\n",
    "    print(page_url)\n",
    "    page_urls.append(page_url)\n",
    "\n",
    "# 크롤링에 사용한 브라우저를 종료합니다.\n",
    "driver.close()"
   ]
  },
  {
   "cell_type": "markdown",
   "id": "choice-canberra",
   "metadata": {},
   "source": [
    "### [맛집 리뷰 정보 크롤링]"
   ]
  },
  {
   "cell_type": "code",
   "execution_count": 3,
   "id": "intended-intellectual",
   "metadata": {
    "scrolled": true
   },
   "outputs": [
    {
     "name": "stdout",
     "output_type": "stream",
     "text": [
      "[<em class=\"num_rate\">1<span class=\"screen_out\">점</span></em>, <em class=\"num_rate\">5<span class=\"screen_out\">점</span></em>, <em class=\"num_rate\">5<span class=\"screen_out\">점</span></em>, <em class=\"num_rate\">4<span class=\"screen_out\">점</span></em>, <em class=\"num_rate\">4<span class=\"screen_out\">점</span></em>]\n",
      "[<p class=\"txt_comment\"><span>예약할 때는 룸을 주기로 하고 홀을 주고, 덥고, 직원들이 정신이 없어 그 가격에 내가 직접 구워먹고 갈비살, 등심은 질기고 냉면은 맛이 없고 장어 양념들도 제 때 안 가져다 주고 회식으로 한시간만에 120만원을 썼는데 이런 경험 처음입니다.</span><button class=\"btn_fold\" type=\"button\">더보기</button></p>, <p class=\"txt_comment\"><span>점심식사 잘했던곳.후식커피한잔 하기도 좋고 주차가능합니다. 음식 맛있고 직원분 친절하여 절로 미소가 지어졌어요. </span><button class=\"btn_fold\" type=\"button\">더보기</button></p>, <p class=\"txt_comment\"><span>新鮮でおいしいです。</span><button class=\"btn_fold\" type=\"button\">더보기</button></p>, <p class=\"txt_comment\"><span>녹는다 녹아</span><button class=\"btn_fold\" type=\"button\">더보기</button></p>, <p class=\"txt_comment\"><span></span><button class=\"btn_fold\" type=\"button\">더보기</button></p>]\n",
      "[<em class=\"num_rate\">5<span class=\"screen_out\">점</span></em>, <em class=\"num_rate\">1<span class=\"screen_out\">점</span></em>, <em class=\"num_rate\">1<span class=\"screen_out\">점</span></em>, <em class=\"num_rate\">2<span class=\"screen_out\">점</span></em>, <em class=\"num_rate\">2<span class=\"screen_out\">점</span></em>]\n",
      "[<p class=\"txt_comment\"><span></span><button class=\"btn_fold\" type=\"button\">더보기</button></p>, <p class=\"txt_comment\"><span>원래 리뷰 아예안쓰는데 처음 씁니다.  오랜만에 왔는데 서비스는 개나 줘버리고 고기올려놓고 까먹은건지 뭔지 오지도 않고 이게 소고기인지 고무씹는건지 모르겠네요. 맛있다고 지인 데려왔는데 다신 안올거같아요 만원짜리 삼겹살집이 더 나았을듯 </span><button class=\"btn_fold\" type=\"button\">더보기</button></p>, <p class=\"txt_comment\"><span>아니 고기 몇만원어치를 먹는데 계속 안구워주고 벨을 눌러도 묵묵 부답 진짜 비싼값내고 먹는데 짜증나 죽을뻔함</span><button class=\"btn_fold\" type=\"button\">더보기</button></p>, <p class=\"txt_comment\"><span>5월초 당일전화 예약방문. 주메뉴 3개 있는 고깃집에 안심이 없다함. 착석전에 카운터에서 알려주든가. 마늘 다 타들어가서 불렀더니 멀뚱거리며 어쩌라고 하는 표정으로 서있음. 테이블수 대비 인원이 많이 부족해보임. </span><button class=\"btn_fold\" type=\"button\">더보기</button></p>, <p class=\"txt_comment\"><span>가격 대비 서비스나 실수 후 응대가 너무 별로입니다</span><button class=\"btn_fold\" type=\"button\">더보기</button></p>]\n",
      "[<em class=\"num_rate\">1<span class=\"screen_out\">점</span></em>, <em class=\"num_rate\">3<span class=\"screen_out\">점</span></em>, <em class=\"num_rate\">5<span class=\"screen_out\">점</span></em>, <em class=\"num_rate\">5<span class=\"screen_out\">점</span></em>, <em class=\"num_rate\">5<span class=\"screen_out\">점</span></em>]\n",
      "[<p class=\"txt_comment\"><span>먹고 하루지난 뒤인 지금도 계속 배아파요ㅠㅠㅠ 혹시나하고 들어와봤더니 다른분들도 그러시네요</span><button class=\"btn_fold\" type=\"button\">더보기</button></p>, <p class=\"txt_comment\"><span>이정도면 맛있다고 할수 있는것 같습니다.  가면 또 가겠지만 일부러 먹으러 찾아갈까 싶기도 한 적당한 집. 당면넣어주는게 좋았어요ㅎ</span><button class=\"btn_fold\" type=\"button\">더보기</button></p>, <p class=\"txt_comment\"><span>매번 좋은 사람들 만날때 방문하는데 매번 맛이 좋네요. </span><button class=\"btn_fold\" type=\"button\">더보기</button></p>, <p class=\"txt_comment\"><span>학원끝나고 일주일에 두세번은 가는 듯 ㅎㅋㅋㅋ 장인닭갈비 너무 맛있어요!</span><button class=\"btn_fold\" type=\"button\">더보기</button></p>, <p class=\"txt_comment\"><span>매운 닭갈비에 치즈추가하면 남부러울게 없지</span><button class=\"btn_fold\" type=\"button\">더보기</button></p>]\n",
      "[<em class=\"num_rate\">4<span class=\"screen_out\">점</span></em>, <em class=\"num_rate\">5<span class=\"screen_out\">점</span></em>, <em class=\"num_rate\">5<span class=\"screen_out\">점</span></em>, <em class=\"num_rate\">4<span class=\"screen_out\">점</span></em>, <em class=\"num_rate\">5<span class=\"screen_out\">점</span></em>]\n",
      "[<p class=\"txt_comment\"><span>맛잇으느 비싸다으</span><button class=\"btn_fold\" type=\"button\">더보기</button></p>, <p class=\"txt_comment\"><span>C'est tellement gentil ici que je peux sentir le goût coréen.</span><button class=\"btn_fold\" type=\"button\">더보기</button></p>, <p class=\"txt_comment\"><span>친절하고 너무 맛있었어요. 고기도 진짜 맛잇게 구워주시고..  근데 볶음밥은 진짜 별로에요. 비싼데 맛이없어요.. 고기많이드세요</span><button class=\"btn_fold\" type=\"button\">더보기</button></p>, <p class=\"txt_comment\"><span></span><button class=\"btn_fold\" type=\"button\">더보기</button></p>, <p class=\"txt_comment\"><span>ㅈㅁㅌㅌㄱㄹ</span><button class=\"btn_fold\" type=\"button\">더보기</button></p>]\n",
      "[<em class=\"num_rate\">5<span class=\"screen_out\">점</span></em>, <em class=\"num_rate\">5<span class=\"screen_out\">점</span></em>, <em class=\"num_rate\">2<span class=\"screen_out\">점</span></em>, <em class=\"num_rate\">1<span class=\"screen_out\">점</span></em>, <em class=\"num_rate\">1<span class=\"screen_out\">점</span></em>]\n",
      "[<p class=\"txt_comment\"><span></span><button class=\"btn_fold\" type=\"button\">더보기</button></p>, <p class=\"txt_comment\"><span></span><button class=\"btn_fold\" type=\"button\">더보기</button></p>, <p class=\"txt_comment\"><span></span><button class=\"btn_fold\" type=\"button\">더보기</button></p>, <p class=\"txt_comment\"><span>맛도 그닥.. 가성비 별로. 제일 별로는 직원이 넘 싸가지 없음.. 다들 다른 곳 가시길.. 1점도 아까움ㅠ</span><button class=\"btn_fold\" type=\"button\">더보기</button></p>, <p class=\"txt_comment\"><span>삼겹살이 160그램에 18000원. 삼겹살 목살 각 1인분씩 주문하려고 했으나 첫 주문에는 최소 2인분 주문해야 한다고;;  맛이라도 특별하면 몰라 그냥 하남돼지집 수준.  매장도 너무 시끄러움 걍 도떼기시장 ㅇㅇ 바빠서 그런가 직원들은 짜증이 기본 베이스로 깔려있음. 주차장 넓고 직원이 직접 구워주고 냄새 안 밴다는 것만 장점</span><button class=\"btn_fold\" type=\"button\">더보기</button></p>]\n",
      "[<em class=\"num_rate\">4<span class=\"screen_out\">점</span></em>, <em class=\"num_rate\">5<span class=\"screen_out\">점</span></em>, <em class=\"num_rate\">1<span class=\"screen_out\">점</span></em>, <em class=\"num_rate\">5<span class=\"screen_out\">점</span></em>, <em class=\"num_rate\">3<span class=\"screen_out\">점</span></em>]\n",
      "[<p class=\"txt_comment\"><span></span><button class=\"btn_fold\" type=\"button\">더보기</button></p>, <p class=\"txt_comment\"><span>떡도리탕</span><button class=\"btn_fold\" type=\"button\">더보기</button></p>, <p class=\"txt_comment\"><span></span><button class=\"btn_fold\" type=\"button\">더보기</button></p>, <p class=\"txt_comment\"><span>맛있댜</span><button class=\"btn_fold\" type=\"button\">더보기</button></p>, <p class=\"txt_comment\"><span></span><button class=\"btn_fold\" type=\"button\">더보기</button></p>]\n",
      "[<em class=\"num_rate\">3<span class=\"screen_out\">점</span></em>, <em class=\"num_rate\">5<span class=\"screen_out\">점</span></em>, <em class=\"num_rate\">5<span class=\"screen_out\">점</span></em>, <em class=\"num_rate\">3<span class=\"screen_out\">점</span></em>, <em class=\"num_rate\">2<span class=\"screen_out\">점</span></em>]\n",
      "[<p class=\"txt_comment\"><span>좋게 말하면 굽네치킨을 싸게 먹는 맛. 나쁘게 말하면 딱 예상한 뻔한 맛. 음료 무료인 건 좋아요!</span><button class=\"btn_fold\" type=\"button\">더보기</button></p>, <p class=\"txt_comment\"><span>강남에서 이런 가성비를 찾다니 회전율도 빨라서 전체적으로 신선합니다. 고기도 야채도.</span><button class=\"btn_fold\" type=\"button\">더보기</button></p>, <p class=\"txt_comment\"><span>그냥 술 무제한 지려</span><button class=\"btn_fold\" type=\"button\">더보기</button></p>, <p class=\"txt_comment\"><span></span><button class=\"btn_fold\" type=\"button\">더보기</button></p>, <p class=\"txt_comment\"><span></span><button class=\"btn_fold\" type=\"button\">더보기</button></p>]\n",
      "[<em class=\"num_rate\">5<span class=\"screen_out\">점</span></em>, <em class=\"num_rate\">1<span class=\"screen_out\">점</span></em>, <em class=\"num_rate\">1<span class=\"screen_out\">점</span></em>, <em class=\"num_rate\">5<span class=\"screen_out\">점</span></em>, <em class=\"num_rate\">5<span class=\"screen_out\">점</span></em>]\n",
      "[<p class=\"txt_comment\"><span> 고기는 기본적으로 프리미엄에 숯부터가 달라서 풍미가잇음 추가로 불편하면 자세를고쳐앉으세요 지들이피해의식잇어서 괜히 꼬장부리네 불평불만~</span><button class=\"btn_fold\" type=\"button\">더보기</button></p>, <p class=\"txt_comment\"><span>고기는 맛있는데 직원분들 태도는 그닥... 내 돈 주고가는데 왜 내가 가게직원 눈치를 봐야 하지?</span><button class=\"btn_fold\" type=\"button\">더보기</button></p>, <p class=\"txt_comment\"><span>20분다되도록 고기안나와서 두번이나 얘기했는데  죄송하다는 말도 그닥 성의없이 하시고 고객응대 서비스는 최악이었습니다.  고기는 맛있긴 함.</span><button class=\"btn_fold\" type=\"button\">더보기</button></p>, <p class=\"txt_comment\"><span>걍개마싯윰ㄹㅇ 좀비싸긴함</span><button class=\"btn_fold\" type=\"button\">더보기</button></p>, <p class=\"txt_comment\"><span>고기는 맛있어요~</span><button class=\"btn_fold\" type=\"button\">더보기</button></p>]\n",
      "[<em class=\"num_rate\">3<span class=\"screen_out\">점</span></em>, <em class=\"num_rate\">2<span class=\"screen_out\">점</span></em>, <em class=\"num_rate\">3<span class=\"screen_out\">점</span></em>, <em class=\"num_rate\">1<span class=\"screen_out\">점</span></em>, <em class=\"num_rate\">1<span class=\"screen_out\">점</span></em>]\n",
      "[<p class=\"txt_comment\"><span></span><button class=\"btn_fold\" type=\"button\">더보기</button></p>, <p class=\"txt_comment\"><span>너무질겨요ㅜㅜ</span><button class=\"btn_fold\" type=\"button\">더보기</button></p>, <p class=\"txt_comment\"><span>비싸긴한데 괜찮아요~</span><button class=\"btn_fold\" type=\"button\">더보기</button></p>, <p class=\"txt_comment\"><span>너무너무너무너무질겨서 삼킬수가 없네요ㅠㅠ</span><button class=\"btn_fold\" type=\"button\">더보기</button></p>, <p class=\"txt_comment\"><span>할말은 많지만 하지 않습니다</span><button class=\"btn_fold\" type=\"button\">더보기</button></p>]\n"
     ]
    },
    {
     "name": "stdout",
     "output_type": "stream",
     "text": [
      "[<em class=\"num_rate\">2<span class=\"screen_out\">점</span></em>, <em class=\"num_rate\">5<span class=\"screen_out\">점</span></em>, <em class=\"num_rate\">2<span class=\"screen_out\">점</span></em>, <em class=\"num_rate\">5<span class=\"screen_out\">점</span></em>, <em class=\"num_rate\">5<span class=\"screen_out\">점</span></em>]\n",
      "[<p class=\"txt_comment\"><span>친절하고 깨끗하지만 곱창이 너무 질겨서 실망이었어요ㅜㅜ 별점에비해 맛은 그닥..대파김치덕분에 다 먹었네요</span><button class=\"btn_fold\" type=\"button\">더보기</button></p>, <p class=\"txt_comment\"><span>곱창을 좋아해서 생각없이들어가서먹었는데 곱도많이들어있고 냄새도안나고 질긴것도없고 맛있네요  볶음밥이 신의한수!!  가게내부도 깔끔하고 좋았어요</span><button class=\"btn_fold\" type=\"button\">더보기</button></p>, <p class=\"txt_comment\"><span>그냥 평범함...ㄹㅇ</span><button class=\"btn_fold\" type=\"button\">더보기</button></p>, <p class=\"txt_comment\"><span>대충 친구랑 밥 먹으러 들어갔다가 생각보다 맛있어서 괜찮았어요 사장님도 친절하시고 감사합니당</span><button class=\"btn_fold\" type=\"button\">더보기</button></p>, <p class=\"txt_comment\"><span>어후 소주 안먹고는 안될 맛이었어요 술마실 생각 없었는데;; 진짜 맛있게 잘 먹고 배터질거같다 하면서 나오면서도 여기 또 오자 하고 나왔네요</span><button class=\"btn_fold\" type=\"button\">더보기</button></p>]\n",
      "[<em class=\"num_rate\">3<span class=\"screen_out\">점</span></em>, <em class=\"num_rate\">1<span class=\"screen_out\">점</span></em>, <em class=\"num_rate\">3<span class=\"screen_out\">점</span></em>, <em class=\"num_rate\">5<span class=\"screen_out\">점</span></em>, <em class=\"num_rate\">4<span class=\"screen_out\">점</span></em>]\n",
      "[<p class=\"txt_comment\"><span>점심 삽겹 꿀맛 냄새안나서 좋아요~</span><button class=\"btn_fold\" type=\"button\">더보기</button></p>, <p class=\"txt_comment txt_fold\"><span>머리 하나로 묶은 머리긴(어깨는 넘었음) 여자 종업원이  안익은게 너무 잘 보이는데  그냥 가 더니  먹으라는건지 기다리라는건지 5분넘게 안오시길래  물어보니 다 익은거라고 하네요 사진상 으로 보이는 부분 보여주니 불 가장 쎄게 틀어주고 그냥 가시던데  덕분에 고기 다 타고 사진상  고기도 저희가 구웠어요 이럴꺼면 그냥 저희가 구울껄 그랬어요  고기도 추가...</span><button class=\"btn_fold\" type=\"button\">더보기</button></p>, <p class=\"txt_comment\"><span>먹기 편하게 해줌.</span><button class=\"btn_fold\" type=\"button\">더보기</button></p>, <p class=\"txt_comment\"><span>맛있게 배부르게 잘 먹고 핸드폰도 테이블 무선충전으로 만충하고. 마포점에 이어 방문한 강남점도 친절하고 맛있고 좋습니다.</span><button class=\"btn_fold\" type=\"button\">더보기</button></p>, <p class=\"txt_comment\"><span>비싸지만 맛있고 정갈하게 구워줘서 좋음</span><button class=\"btn_fold\" type=\"button\">더보기</button></p>]\n",
      "[<em class=\"num_rate\">1<span class=\"screen_out\">점</span></em>, <em class=\"num_rate\">2<span class=\"screen_out\">점</span></em>, <em class=\"num_rate\">3<span class=\"screen_out\">점</span></em>, <em class=\"num_rate\">5<span class=\"screen_out\">점</span></em>, <em class=\"num_rate\">5<span class=\"screen_out\">점</span></em>]\n",
      "[<p class=\"txt_comment\"><span>하누세트 20만원짜리 먹었는데 양도 적고 무엇보다 등심도 질기고 양념갈비도 짜고 고기맛이 없어 정말정말 가성비 떨어지는 식당이었습니다. 음식점에서 이렇게 돈이 아까울줄은..처음갔는데 평점에 속은집. </span><button class=\"btn_fold\" type=\"button\">더보기</button></p>, <p class=\"txt_comment\"><span>서비스가 매우 안좋습니다. 소고기 구울때는 구워주고, 삼겹살 먹으면 알아서하라고 합니다.ㅋㅋ 말을 해도 당연하다는듯이.. ?  돼지고기만 먹었으면 모르지만 함께 먹어도 이런 말을 한다는게 어이가...</span><button class=\"btn_fold\" type=\"button\">더보기</button></p>, <p class=\"txt_comment\"><span>황제세트랑 삼합먹었는데.. 고기 구어주는데 숯이 약해 흐물흐물했음 삼합은 맛있어요</span><button class=\"btn_fold\" type=\"button\">더보기</button></p>, <p class=\"txt_comment\"><span>급하게 갔는데도 잘 해주시고  고기도 너무 맛나요  맛있게 구워주시고  잘 먹다가 좋은 시간보내고 갑니다 ㅎㅎ</span><button class=\"btn_fold\" type=\"button\">더보기</button></p>, <p class=\"txt_comment txt_fold\"><span>부모님 모시고 갔는데 좋은 시간 만들어주셔서 감사합니다 :) 조용한 자리에 미리 세팅도 완료해서 준비해주셨고 고기도 처음부터 끝까지 맛있게 구워주셨어요! 메뉴 고를줄 몰라서 이것저것 여쭤봤는데 양이랑 가격 적당한걸로 고르도록 도와주시고 음식이 빨리빨리 나와서 좋았어요. 셀프바도 맛있게, 많이 이용 잘 했습니다 ㅎㅎㅎ, 냄새도 안 배고 좋더라고요 리뷰 보고 ...</span><button class=\"btn_fold\" type=\"button\">더보기</button></p>]\n",
      "[<em class=\"num_rate\">1<span class=\"screen_out\">점</span></em>, <em class=\"num_rate\">5<span class=\"screen_out\">점</span></em>, <em class=\"num_rate\">4<span class=\"screen_out\">점</span></em>, <em class=\"num_rate\">5<span class=\"screen_out\">점</span></em>, <em class=\"num_rate\">1<span class=\"screen_out\">점</span></em>]\n",
      "[<p class=\"txt_comment\"><span>후기 신고해서 삭제하네요  두꺼비 닮은 알바가 불친절해요 많이불친절해요</span><button class=\"btn_fold\" type=\"button\">더보기</button></p>, <p class=\"txt_comment\"><span>제가 가본 냉동삼겹살집중 원탑. 호일 안쓰는게 가장 큰 장점.  냉동의 그 고유한 맛 굿입니다 고사리가 특히 굿굿 사장님은 친절하세요  알바들은 어딜가나 어쩔수없다고 생각함. 제가 갔을 땐 다들 친절하셨음</span><button class=\"btn_fold\" type=\"button\">더보기</button></p>, <p class=\"txt_comment\"><span>고사리 부시고 싶을 때 갑니다. 돈가스도 좋아요. </span><button class=\"btn_fold\" type=\"button\">더보기</button></p>, <p class=\"txt_comment\"><span>저 왔을때는 직원분들 너무 친절하셧구용 싼맛에 먹기좋은 고기같아요!! 돼지냄새 예민하신분들께는 잡내가 좀 날수도있는데 1인분 4900원인거치곤 너무 맛잇게 먹었습니당~ 주전자 우동도 짱. 걍 음식들 다 싸고 양이 엄청많아요!</span><button class=\"btn_fold\" type=\"button\">더보기</button></p>, <p class=\"txt_comment\"><span></span><button class=\"btn_fold\" type=\"button\">더보기</button></p>]\n",
      "[<em class=\"num_rate\">5<span class=\"screen_out\">점</span></em>, <em class=\"num_rate\">5<span class=\"screen_out\">점</span></em>, <em class=\"num_rate\">5<span class=\"screen_out\">점</span></em>, <em class=\"num_rate\">5<span class=\"screen_out\">점</span></em>, <em class=\"num_rate\">5<span class=\"screen_out\">점</span></em>]\n",
      "[<p class=\"txt_comment\"><span>목살 퍽퍽하지 않고 맛있음:)</span><button class=\"btn_fold\" type=\"button\">더보기</button></p>, <p class=\"txt_comment\"><span>꽃삼겹, 통삼겹, 물냉, 된장찌개, 후식아이스크림</span><button class=\"btn_fold\" type=\"button\">더보기</button></p>, <p class=\"txt_comment\"><span>맛있게먹었다 융숭한대접에감사한다</span><button class=\"btn_fold\" type=\"button\">더보기</button></p>, <p class=\"txt_comment\"><span>맛은 항상 만족. 인테리어나 식탁 배치도 마음에 듦.</span><button class=\"btn_fold\" type=\"button\">더보기</button></p>, <p class=\"txt_comment\"><span>메뉴가 다 맛있네요. 후식 아이스크림도 좋습니다</span><button class=\"btn_fold\" type=\"button\">더보기</button></p>]\n",
      "[<em class=\"num_rate\">5<span class=\"screen_out\">점</span></em>, <em class=\"num_rate\">5<span class=\"screen_out\">점</span></em>, <em class=\"num_rate\">5<span class=\"screen_out\">점</span></em>, <em class=\"num_rate\">5<span class=\"screen_out\">점</span></em>, <em class=\"num_rate\">2<span class=\"screen_out\">점</span></em>]\n",
      "[<p class=\"txt_comment\"><span></span><button class=\"btn_fold\" type=\"button\">더보기</button></p>, <p class=\"txt_comment\"><span>김희X 직원분이 상당히 고기를 잘 구우십니다 ~ !</span><button class=\"btn_fold\" type=\"button\">더보기</button></p>, <p class=\"txt_comment\"><span>맛있습니다</span><button class=\"btn_fold\" type=\"button\">더보기</button></p>, <p class=\"txt_comment\"><span>흠 존맛인정 </span><button class=\"btn_fold\" type=\"button\">더보기</button></p>, <p class=\"txt_comment txt_fold\"><span>장점 - 1. 맛있음 2.콜키지 프리 3.위치  단점 - 1. ⭐️불친절⭐️ 말하고 있는데 무시하고 가는 직원은 처음 봄ㅋㅋ근데 더 짜증나는건 들어올 때 부터 기분 나빴는데 그 직원이 처음부터 끝까지 고기 구워줌 검정색 마스크 코 반까지만 쓰고 나이가 좀 있으시던 분^^ 옆테이블은 나이대가 높아서 그런지 열심히 설명해주더니ㅋㅋ 우리는 걍 고기만 구워 줌  ...</span><button class=\"btn_fold\" type=\"button\">더보기</button></p>]\n",
      "[<em class=\"num_rate\">2<span class=\"screen_out\">점</span></em>, <em class=\"num_rate\">1<span class=\"screen_out\">점</span></em>, <em class=\"num_rate\">4<span class=\"screen_out\">점</span></em>, <em class=\"num_rate\">1<span class=\"screen_out\">점</span></em>, <em class=\"num_rate\">5<span class=\"screen_out\">점</span></em>]\n",
      "[<p class=\"txt_comment\"><span>이렇게 대기가 긴 맛집인줄 모르고 갔다가 엄청 기다림 예써라는 어플로 대기 하던데 혹시 갈 예정이면 어플로 확인하는거 추천함 곱도리탕은 맛있지만 대창 때문에 느끼했던 기억... 나중에 덮밥 먹으러 다시 와보고 싶긴함 ☻</span><button class=\"btn_fold\" type=\"button\">더보기</button></p>, <p class=\"txt_comment\"><span>단짠의 정석. 진짜 정석으로 달고 짬. 질리는 맛.  사장님이랑 와이프로 추정되는 서빙해주신 분 매우 친절하셨음. 친절하신것은 인정!  골목안에 작게 했을때 이전하기 전에도 갔었고 그 이후에도 갔는데 갈수록 더 달고 더 짜져서 안간지 꽤 됐는데..  안가게 된 이유는 너무 달고 너무 짜져서지..ㅡㅡ</span><button class=\"btn_fold\" type=\"button\">더보기</button></p>, <p class=\"txt_comment\"><span>만족스러움! 맛있어용</span><button class=\"btn_fold\" type=\"button\">더보기</button></p>, <p class=\"txt_comment\"><span>곱창은 없고 대창만 들어있어서 느끼한데 양념은 너무 매워서 위에 탈이나 고생했습니다ㅠㅠ </span><button class=\"btn_fold\" type=\"button\">더보기</button></p>, <p class=\"txt_comment\"><span>대창덮밥도 맛있고 곱도리탕도 맛나요 완전 소주각입니다.  자리가 쫍아서 테이블마다 가까운게 흠이지만 맛있어서 ㅋㅋ 상관없어유</span><button class=\"btn_fold\" type=\"button\">더보기</button></p>]\n"
     ]
    }
   ],
   "source": [
    "import pandas as pd\n",
    "columns = ['score', 'review']\n",
    "df = pd.DataFrame(columns=columns)\n",
    "\n",
    "# driver = webdriver.Chrome(path)  # for Mac\n",
    "driver = webdriver.Chrome(executable_path=excutable_path)  # for Windows\n",
    "#내가 정적으로 바꿔서 해보기\n",
    "for page_url in page_urls:\n",
    "    \n",
    "    # 상세보기 페이지에 접속합니다\n",
    "    driver.get(page_url)\n",
    "    time.sleep(2)\n",
    "    \n",
    "    # 첫 페이지 리뷰를 크롤링합니다\n",
    "    html = driver.page_source\n",
    "    soup = BeautifulSoup(html, 'html.parser')\n",
    "    contents_div = soup.find(name=\"div\", attrs={\"class\":\"evaluation_review\"})\n",
    "    \n",
    "    # 별점을 가져옵니다.\n",
    "    rates = contents_div.find_all(name=\"em\", attrs={\"class\":\"num_rate\"})\n",
    "    print(rates)\n",
    "    \n",
    "    # 리뷰를 가져옵니다.\n",
    "    reviews = contents_div.find_all(name=\"p\", attrs={\"class\":\"txt_comment\"})\n",
    "    print(reviews)\n",
    "    \n",
    "    for rate, review in zip(rates, reviews):\n",
    "        row = [rate.text[0], review.find(name=\"span\").text]\n",
    "        #시리즈로 만들고 \n",
    "        series = pd.Series(row, index=df.columns)\n",
    "        #데이터프레임에 넣어주기\n",
    "        df = df.append(series, ignore_index=True)\n",
    "    \n",
    "    # 2-5페이지의 리뷰를 크롤링합니다\n",
    "    for button_num in range(2, 6):\n",
    "        # 오류가 나는 경우(리뷰 페이지가 없는 경우), 수행하지 않습니다.\n",
    "        try:\n",
    "            #다음 버튼\n",
    "            another_reviews = driver.find_element_by_xpath(\"//a[@data-page='\" + str(button_num) + \"']\")\n",
    "            another_reviews.click()\n",
    "            time.sleep(2)\n",
    "            \n",
    "            # 페이지 리뷰를 크롤링합니다\n",
    "            html = driver.page_source\n",
    "            soup = BeautifulSoup(html, 'html.parser')\n",
    "            contents_div = soup.find(name=\"div\", attrs={\"class\":\"evaluation_review\"})\n",
    "\n",
    "            # 별점을 가져옵니다.\n",
    "            rates = contents_div.find_all(name=\"em\", attrs={\"class\":\"num_rate\"})\n",
    "\n",
    "            # 리뷰를 가져옵니다.\n",
    "            reviews = contents_div.find_all(name=\"p\", attrs={\"class\":\"txt_comment\"})\n",
    "            #리뷰 한개씩 짤라서 저장\n",
    "            for rate, review in zip(rates, reviews):\n",
    "                #rate : text에 첫번째꺼 점수 , review에 span text가 리뷰\n",
    "                row = [rate.text[0], review.find(name=\"span\").text]\n",
    "                series = pd.Series(row, index=df.columns)\n",
    "                df = df.append(series, ignore_index=True)\n",
    "        except:\n",
    "            break    \n",
    "driver.close()"
   ]
  },
  {
   "cell_type": "code",
   "execution_count": 3,
   "id": "little-handbook",
   "metadata": {},
   "outputs": [
    {
     "name": "stdout",
     "output_type": "stream",
     "text": [
      "(383, 3)\n"
     ]
    },
    {
     "data": {
      "text/html": [
       "<div>\n",
       "<style scoped>\n",
       "    .dataframe tbody tr th:only-of-type {\n",
       "        vertical-align: middle;\n",
       "    }\n",
       "\n",
       "    .dataframe tbody tr th {\n",
       "        vertical-align: top;\n",
       "    }\n",
       "\n",
       "    .dataframe thead th {\n",
       "        text-align: right;\n",
       "    }\n",
       "</style>\n",
       "<table border=\"1\" class=\"dataframe\">\n",
       "  <thead>\n",
       "    <tr style=\"text-align: right;\">\n",
       "      <th></th>\n",
       "      <th>score</th>\n",
       "      <th>review</th>\n",
       "      <th>y</th>\n",
       "    </tr>\n",
       "  </thead>\n",
       "  <tbody>\n",
       "    <tr>\n",
       "      <th>0</th>\n",
       "      <td>1</td>\n",
       "      <td>예약할 때는 룸을 주기로 하고 홀을 주고, 덥고, 직원들이 정신이 없어 그 가격에 ...</td>\n",
       "      <td>0</td>\n",
       "    </tr>\n",
       "    <tr>\n",
       "      <th>1</th>\n",
       "      <td>5</td>\n",
       "      <td>점심식사 잘했던곳.후식커피한잔 하기도 좋고 주차가능합니다. 음식 맛있고 직원분 친절...</td>\n",
       "      <td>1</td>\n",
       "    </tr>\n",
       "    <tr>\n",
       "      <th>2</th>\n",
       "      <td>5</td>\n",
       "      <td>新鮮でおいしいです。</td>\n",
       "      <td>1</td>\n",
       "    </tr>\n",
       "    <tr>\n",
       "      <th>3</th>\n",
       "      <td>4</td>\n",
       "      <td>녹는다 녹아</td>\n",
       "      <td>1</td>\n",
       "    </tr>\n",
       "    <tr>\n",
       "      <th>4</th>\n",
       "      <td>4</td>\n",
       "      <td>nan</td>\n",
<<<<<<< HEAD
=======
       "      <td>1</td>\n",
       "    </tr>\n",
       "  </tbody>\n",
       "</table>\n",
       "</div>"
      ],
      "text/plain": [
       "   score                                             review  y\n",
       "0      1  예약할 때는 룸을 주기로 하고 홀을 주고, 덥고, 직원들이 정신이 없어 그 가격에 ...  0\n",
       "1      5  점심식사 잘했던곳.후식커피한잔 하기도 좋고 주차가능합니다. 음식 맛있고 직원분 친절...  1\n",
       "2      5                                         新鮮でおいしいです。  1\n",
       "3      4                                             녹는다 녹아  1\n",
       "4      4                                                nan  1"
      ]
     },
     "execution_count": 3,
     "metadata": {},
     "output_type": "execute_result"
    }
   ],
   "source": [
    "import pandas as pd\n",
    "# 4점 이상의 리뷰는 긍정 리뷰, 3점 이하의 리뷰는 부정 리뷰로 평가합니다.\n",
    "df['y'] = df['score'].apply(lambda x: 1 if float(x) > 3 else 0)\n",
    "print(df.shape)\n",
    "df.head()"
   ]
  },
  {
   "cell_type": "code",
   "execution_count": null,
   "id": "bridal-minnesota",
   "metadata": {},
   "outputs": [],
   "source": [
    "#데이터 저장\n",
    "df.to_csv(\"review_data.csv\", index=False)"
   ]
  },
  {
   "cell_type": "code",
   "execution_count": 1,
   "id": "strong-classics",
   "metadata": {},
   "outputs": [
    {
     "data": {
      "text/html": [
       "<div>\n",
       "<style scoped>\n",
       "    .dataframe tbody tr th:only-of-type {\n",
       "        vertical-align: middle;\n",
       "    }\n",
       "\n",
       "    .dataframe tbody tr th {\n",
       "        vertical-align: top;\n",
       "    }\n",
       "\n",
       "    .dataframe thead th {\n",
       "        text-align: right;\n",
       "    }\n",
       "</style>\n",
       "<table border=\"1\" class=\"dataframe\">\n",
       "  <thead>\n",
       "    <tr style=\"text-align: right;\">\n",
       "      <th></th>\n",
       "      <th>score</th>\n",
       "      <th>review</th>\n",
       "      <th>y</th>\n",
       "    </tr>\n",
       "  </thead>\n",
       "  <tbody>\n",
       "    <tr>\n",
       "      <th>0</th>\n",
       "      <td>1</td>\n",
       "      <td>예약할 때는 룸을 주기로 하고 홀을 주고, 덥고, 직원들이 정신이 없어 그 가격에 ...</td>\n",
       "      <td>0</td>\n",
       "    </tr>\n",
       "    <tr>\n",
       "      <th>1</th>\n",
       "      <td>5</td>\n",
       "      <td>점심식사 잘했던곳.후식커피한잔 하기도 좋고 주차가능합니다. 음식 맛있고 직원분 친절...</td>\n",
       "      <td>1</td>\n",
       "    </tr>\n",
       "    <tr>\n",
       "      <th>2</th>\n",
       "      <td>5</td>\n",
       "      <td>新鮮でおいしいです。</td>\n",
       "      <td>1</td>\n",
       "    </tr>\n",
       "    <tr>\n",
       "      <th>3</th>\n",
       "      <td>4</td>\n",
       "      <td>녹는다 녹아</td>\n",
       "      <td>1</td>\n",
       "    </tr>\n",
       "    <tr>\n",
       "      <th>4</th>\n",
       "      <td>4</td>\n",
       "      <td>nan</td>\n",
       "      <td>1</td>\n",
       "    </tr>\n",
       "    <tr>\n",
       "      <th>...</th>\n",
       "      <td>...</td>\n",
       "      <td>...</td>\n",
       "      <td>...</td>\n",
       "    </tr>\n",
       "    <tr>\n",
       "      <th>378</th>\n",
       "      <td>5</td>\n",
       "      <td>7시에가서1시간왜이팅..기다리는거 싨머하는데..참고기다려봄..근데 먹고나보니 강남역...</td>\n",
       "      <td>1</td>\n",
       "    </tr>\n",
       "    <tr>\n",
       "      <th>379</th>\n",
       "      <td>4</td>\n",
       "      <td>맛있게 잘 먹었습니다!</td>\n",
       "      <td>1</td>\n",
       "    </tr>\n",
       "    <tr>\n",
       "      <th>380</th>\n",
       "      <td>4</td>\n",
       "      <td>맛있는데 웨이팅까지해서 먹을건... 모르겠어요</td>\n",
       "      <td>1</td>\n",
       "    </tr>\n",
       "    <tr>\n",
       "      <th>381</th>\n",
       "      <td>2</td>\n",
       "      <td>음...... 음... 덮밥에 소스가 너무 많아서 단 밥이 됐어요... 대창 역시나...</td>\n",
       "      <td>0</td>\n",
       "    </tr>\n",
       "    <tr>\n",
       "      <th>382</th>\n",
       "      <td>1</td>\n",
       "      <td>대창덮밥 너무 느끼하고 소스 너무 많이줘서 단짠이 심했네요..</td>\n",
       "      <td>0</td>\n",
       "    </tr>\n",
       "  </tbody>\n",
       "</table>\n",
       "<p>383 rows × 3 columns</p>\n",
       "</div>"
      ],
      "text/plain": [
       "     score                                             review  y\n",
       "0        1  예약할 때는 룸을 주기로 하고 홀을 주고, 덥고, 직원들이 정신이 없어 그 가격에 ...  0\n",
       "1        5  점심식사 잘했던곳.후식커피한잔 하기도 좋고 주차가능합니다. 음식 맛있고 직원분 친절...  1\n",
       "2        5                                         新鮮でおいしいです。  1\n",
       "3        4                                             녹는다 녹아  1\n",
       "4        4                                                nan  1\n",
       "..     ...                                                ... ..\n",
       "378      5  7시에가서1시간왜이팅..기다리는거 싨머하는데..참고기다려봄..근데 먹고나보니 강남역...  1\n",
       "379      4                                       맛있게 잘 먹었습니다!  1\n",
       "380      4                          맛있는데 웨이팅까지해서 먹을건... 모르겠어요  1\n",
       "381      2  음...... 음... 덮밥에 소스가 너무 많아서 단 밥이 됐어요... 대창 역시나...  0\n",
       "382      1                 대창덮밥 너무 느끼하고 소스 너무 많이줘서 단짠이 심했네요..  0\n",
       "\n",
       "[383 rows x 3 columns]"
      ]
     },
     "execution_count": 1,
     "metadata": {},
     "output_type": "execute_result"
    }
   ],
   "source": [
    "import pandas as pd\n",
    "df = pd.read_csv(\"review_data.csv\")\n",
    "df = df.astype({'review':'str'})\n",
    "df"
   ]
  },
  {
   "cell_type": "code",
   "execution_count": 2,
   "id": "acknowledged-pickup",
   "metadata": {
    "scrolled": true
   },
   "outputs": [
    {
     "data": {
      "text/html": [
       "<div>\n",
       "<style scoped>\n",
       "    .dataframe tbody tr th:only-of-type {\n",
       "        vertical-align: middle;\n",
       "    }\n",
       "\n",
       "    .dataframe tbody tr th {\n",
       "        vertical-align: top;\n",
       "    }\n",
       "\n",
       "    .dataframe thead th {\n",
       "        text-align: right;\n",
       "    }\n",
       "</style>\n",
       "<table border=\"1\" class=\"dataframe\">\n",
       "  <thead>\n",
       "    <tr style=\"text-align: right;\">\n",
       "      <th></th>\n",
       "      <th>score</th>\n",
       "      <th>y</th>\n",
       "      <th>ko_text</th>\n",
       "    </tr>\n",
       "  </thead>\n",
       "  <tbody>\n",
       "    <tr>\n",
       "      <th>0</th>\n",
       "      <td>1</td>\n",
       "      <td>0</td>\n",
       "      <td>예약할 때는 룸을 주기로 하고 홀을 주고 덥고 직원들이 정신이 없어 그 가격에 내가...</td>\n",
       "    </tr>\n",
       "    <tr>\n",
       "      <th>1</th>\n",
       "      <td>5</td>\n",
       "      <td>1</td>\n",
       "      <td>점심식사 잘했던곳후식커피한잔 하기도 좋고 주차가능합니다 음식 맛있고 직원분 친절하여...</td>\n",
       "    </tr>\n",
       "    <tr>\n",
       "      <th>2</th>\n",
       "      <td>5</td>\n",
       "      <td>1</td>\n",
       "      <td></td>\n",
       "    </tr>\n",
       "    <tr>\n",
       "      <th>3</th>\n",
       "      <td>4</td>\n",
       "      <td>1</td>\n",
       "      <td>녹는다 녹아</td>\n",
       "    </tr>\n",
       "    <tr>\n",
       "      <th>4</th>\n",
       "      <td>4</td>\n",
       "      <td>1</td>\n",
       "      <td></td>\n",
       "    </tr>\n",
       "    <tr>\n",
       "      <th>...</th>\n",
       "      <td>...</td>\n",
       "      <td>...</td>\n",
       "      <td>...</td>\n",
       "    </tr>\n",
       "    <tr>\n",
       "      <th>378</th>\n",
       "      <td>5</td>\n",
       "      <td>1</td>\n",
       "      <td>시에가서시간왜이팅기다리는거 싨머하는데참고기다려봄근데 먹고나보니 강남역에 저녁시간이고...</td>\n",
       "    </tr>\n",
       "    <tr>\n",
       "      <th>379</th>\n",
       "      <td>4</td>\n",
       "      <td>1</td>\n",
       "      <td>맛있게 잘 먹었습니다</td>\n",
       "    </tr>\n",
       "    <tr>\n",
       "      <th>380</th>\n",
       "      <td>4</td>\n",
       "      <td>1</td>\n",
       "      <td>맛있는데 웨이팅까지해서 먹을건 모르겠어요</td>\n",
       "    </tr>\n",
       "    <tr>\n",
       "      <th>381</th>\n",
       "      <td>2</td>\n",
       "      <td>0</td>\n",
       "      <td>음 음 덮밥에 소스가 너무 많아서 단 밥이 됐어요 대창 역시나 너무 느끼하네요 느끼...</td>\n",
       "    </tr>\n",
       "    <tr>\n",
       "      <th>382</th>\n",
       "      <td>1</td>\n",
       "      <td>0</td>\n",
       "      <td>대창덮밥 너무 느끼하고 소스 너무 많이줘서 단짠이 심했네요</td>\n",
       "    </tr>\n",
       "  </tbody>\n",
       "</table>\n",
       "<p>383 rows × 3 columns</p>\n",
       "</div>"
      ],
      "text/plain": [
       "     score  y                                            ko_text\n",
       "0        1  0  예약할 때는 룸을 주기로 하고 홀을 주고 덥고 직원들이 정신이 없어 그 가격에 내가...\n",
       "1        5  1  점심식사 잘했던곳후식커피한잔 하기도 좋고 주차가능합니다 음식 맛있고 직원분 친절하여...\n",
       "2        5  1                                                   \n",
       "3        4  1                                             녹는다 녹아\n",
       "4        4  1                                                   \n",
       "..     ... ..                                                ...\n",
       "378      5  1  시에가서시간왜이팅기다리는거 싨머하는데참고기다려봄근데 먹고나보니 강남역에 저녁시간이고...\n",
       "379      4  1                                        맛있게 잘 먹었습니다\n",
       "380      4  1                             맛있는데 웨이팅까지해서 먹을건 모르겠어요\n",
       "381      2  0  음 음 덮밥에 소스가 너무 많아서 단 밥이 됐어요 대창 역시나 너무 느끼하네요 느끼...\n",
       "382      1  0                   대창덮밥 너무 느끼하고 소스 너무 많이줘서 단짠이 심했네요\n",
       "\n",
       "[383 rows x 3 columns]"
      ]
     },
     "execution_count": 2,
     "metadata": {},
     "output_type": "execute_result"
    }
   ],
   "source": [
    "import re\n",
    "\n",
    "#텍스트 정제 함수: 한글 이외의 문자는 전부 제거\n",
    "def text_cleaning(text):\n",
    "    #한글의 정규표현식으로 한글만 추출\n",
    "    hangul = re.compile('[^ ㄱ-ㅣ 가-힣]+')\n",
    "    result = hangul.sub('',text)\n",
    "    return result\n",
    "\n",
    "#함수를 적용하여 리뷰에서 한글만 추출\n",
    "df['ko_text'] = df['review'].apply(lambda x : text_cleaning(x))\n",
    "del df['review']\n",
    "df"
   ]
  },
  {
   "cell_type": "code",
   "execution_count": 3,
   "id": "cultural-buying",
   "metadata": {},
   "outputs": [
    {
     "name": "stdout",
     "output_type": "stream",
     "text": [
      "<class 'pandas.core.frame.DataFrame'>\n",
      "RangeIndex: 383 entries, 0 to 382\n",
      "Data columns (total 3 columns):\n",
      " #   Column   Non-Null Count  Dtype \n",
      "---  ------   --------------  ----- \n",
      " 0   score    383 non-null    int64 \n",
      " 1   y        383 non-null    int64 \n",
      " 2   ko_text  383 non-null    object\n",
      "dtypes: int64(2), object(1)\n",
      "memory usage: 9.1+ KB\n"
     ]
    }
   ],
   "source": [
    "df.info()"
   ]
  },
  {
   "cell_type": "code",
   "execution_count": 4,
   "id": "golden-serbia",
   "metadata": {},
   "outputs": [
    {
     "data": {
      "text/html": [
       "<div>\n",
       "<style scoped>\n",
       "    .dataframe tbody tr th:only-of-type {\n",
       "        vertical-align: middle;\n",
       "    }\n",
       "\n",
       "    .dataframe tbody tr th {\n",
       "        vertical-align: top;\n",
       "    }\n",
       "\n",
       "    .dataframe thead th {\n",
       "        text-align: right;\n",
       "    }\n",
       "</style>\n",
       "<table border=\"1\" class=\"dataframe\">\n",
       "  <thead>\n",
       "    <tr style=\"text-align: right;\">\n",
       "      <th></th>\n",
       "      <th>score</th>\n",
       "      <th>y</th>\n",
       "      <th>ko_text</th>\n",
       "    </tr>\n",
       "  </thead>\n",
       "  <tbody>\n",
       "    <tr>\n",
       "      <th>0</th>\n",
       "      <td>1</td>\n",
       "      <td>0</td>\n",
       "      <td>예약할 때는 룸을 주기로 하고 홀을 주고 덥고 직원들이 정신이 없어 그 가격에 내가...</td>\n",
       "    </tr>\n",
       "    <tr>\n",
       "      <th>1</th>\n",
       "      <td>5</td>\n",
       "      <td>1</td>\n",
       "      <td>점심식사 잘했던곳후식커피한잔 하기도 좋고 주차가능합니다 음식 맛있고 직원분 친절하여...</td>\n",
       "    </tr>\n",
       "    <tr>\n",
       "      <th>2</th>\n",
       "      <td>4</td>\n",
       "      <td>1</td>\n",
       "      <td>녹는다 녹아</td>\n",
       "    </tr>\n",
       "    <tr>\n",
       "      <th>3</th>\n",
       "      <td>5</td>\n",
       "      <td>1</td>\n",
       "      <td>흠잡을곳 없는 반찬이 정갈합니다</td>\n",
       "    </tr>\n",
       "    <tr>\n",
       "      <th>4</th>\n",
       "      <td>5</td>\n",
       "      <td>1</td>\n",
       "      <td>코로나 땜에 걱정했는데 방역수칙도 잘 지키시고 살치실이랑 등심 부드러워서 너무 좋아...</td>\n",
       "    </tr>\n",
       "    <tr>\n",
       "      <th>...</th>\n",
       "      <td>...</td>\n",
       "      <td>...</td>\n",
       "      <td>...</td>\n",
       "    </tr>\n",
       "    <tr>\n",
       "      <th>308</th>\n",
       "      <td>5</td>\n",
       "      <td>1</td>\n",
       "      <td>시에가서시간왜이팅기다리는거 싨머하는데참고기다려봄근데 먹고나보니 강남역에 저녁시간이고...</td>\n",
       "    </tr>\n",
       "    <tr>\n",
       "      <th>309</th>\n",
       "      <td>4</td>\n",
       "      <td>1</td>\n",
       "      <td>맛있게 잘 먹었습니다</td>\n",
       "    </tr>\n",
       "    <tr>\n",
       "      <th>310</th>\n",
       "      <td>4</td>\n",
       "      <td>1</td>\n",
       "      <td>맛있는데 웨이팅까지해서 먹을건 모르겠어요</td>\n",
       "    </tr>\n",
       "    <tr>\n",
       "      <th>311</th>\n",
       "      <td>2</td>\n",
       "      <td>0</td>\n",
       "      <td>음 음 덮밥에 소스가 너무 많아서 단 밥이 됐어요 대창 역시나 너무 느끼하네요 느끼...</td>\n",
       "    </tr>\n",
       "    <tr>\n",
       "      <th>312</th>\n",
>>>>>>> 4ede27618a1ed5754e5870a0526f702b7b872a60
       "      <td>1</td>\n",
       "    </tr>\n",
       "  </tbody>\n",
       "</table>\n",
       "</div>"
      ],
      "text/plain": [
       "   score                                             review  y\n",
       "0      1  예약할 때는 룸을 주기로 하고 홀을 주고, 덥고, 직원들이 정신이 없어 그 가격에 ...  0\n",
       "1      5  점심식사 잘했던곳.후식커피한잔 하기도 좋고 주차가능합니다. 음식 맛있고 직원분 친절...  1\n",
       "2      5                                         新鮮でおいしいです。  1\n",
       "3      4                                             녹는다 녹아  1\n",
       "4      4                                                nan  1"
      ]
     },
<<<<<<< HEAD
     "execution_count": 3,
=======
     "execution_count": 4,
>>>>>>> 4ede27618a1ed5754e5870a0526f702b7b872a60
     "metadata": {},
     "output_type": "execute_result"
    }
   ],
   "source": [
    "import pandas as pd\n",
    "# 4점 이상의 리뷰는 긍정 리뷰, 3점 이하의 리뷰는 부정 리뷰로 평가합니다.\n",
    "df['y'] = df['score'].apply(lambda x: 1 if float(x) > 3 else 0)\n",
    "print(df.shape)\n",
    "df.head()"
   ]
  },
  {
   "cell_type": "code",
   "execution_count": null,
   "id": "bridal-minnesota",
   "metadata": {},
   "outputs": [],
   "source": [
    "#데이터 저장\n",
    "df.to_csv(\"review_data.csv\", index=False)"
   ]
  },
  {
   "cell_type": "code",
<<<<<<< HEAD
   "execution_count": 4,
   "id": "strong-classics",
=======
   "execution_count": 5,
   "id": "chubby-offset",
>>>>>>> 4ede27618a1ed5754e5870a0526f702b7b872a60
   "metadata": {},
   "outputs": [],
   "source": [
    "import pandas as pd\n",
    "df = pd.read_csv(\"review_data.csv\")\n",
    "df = df.astype({'review':'str'})\n",
    "df\n",
    "\n",
    "import re\n",
    "\n",
    "#텍스트 정제 함수: 한글 이외의 문자는 전부 제거\n",
    "def text_cleaning(text):\n",
    "    #한글의 정규표현식으로 한글만 추출\n",
    "    hangul = re.compile('[^ ㄱ-ㅣ 가-힣]+')\n",
    "    result = hangul.sub('',text)\n",
    "    return result\n",
    "\n",
    "#함수를 적용하여 리뷰에서 한글만 추출\n",
    "df['ko_text'] = df['review'].apply(lambda x : text_cleaning(x))\n",
    "del df['review']\n",
    "df\n",
    "\n",
    "import numpy as np\n",
    "df = df.astype({'ko_text':'str'})\n",
    "df=df[df['ko_text']!=\"\"]\n",
    "df=df.reset_index(drop = True)\n",
    "df\n",
    "\n",
    "\n",
    "\n",
    "### 형태소 추출\n",
    "\n",
    "from konlpy.tag import Okt\n",
    "#konlpy 라이브러리로 텍스트 데이터에서 형태소를 추출\n",
    "def get_pos(x):\n",
    "    tagger = Okt()\n",
    "    pos = tagger.pos(x)\n",
    "    pos = ['{}/{}'.format(word,tag) for word, tag in pos]\n",
    "    return pos"
   ]
  },
  {
   "cell_type": "code",
<<<<<<< HEAD
   "execution_count": 5,
=======
   "execution_count": 6,
>>>>>>> 4ede27618a1ed5754e5870a0526f702b7b872a60
   "id": "binary-allah",
   "metadata": {},
   "outputs": [
    {
     "data": {
      "text/plain": [
       "'예약할 때는 룸을 주기로 하고 홀을 주고 덥고 직원들이 정신이 없어 그 가격에 내가 직접 구워먹고 갈비살 등심은 질기고 냉면은 맛이 없고 장어 양념들도 제 때 안 가져다 주고 회식으로 한시간만에 만원을 썼는데 이런 경험 처음입니다'"
      ]
     },
<<<<<<< HEAD
     "execution_count": 5,
=======
     "execution_count": 6,
>>>>>>> 4ede27618a1ed5754e5870a0526f702b7b872a60
     "metadata": {},
     "output_type": "execute_result"
    }
   ],
   "source": [
    "df['ko_text'][0]"
   ]
  },
  {
   "cell_type": "code",
<<<<<<< HEAD
   "execution_count": 6,
=======
   "execution_count": 7,
>>>>>>> 4ede27618a1ed5754e5870a0526f702b7b872a60
   "id": "weighted-yacht",
   "metadata": {},
   "outputs": [
    {
     "name": "stdout",
     "output_type": "stream",
     "text": [
      "['예약/Noun', '할/Verb', '때/Noun', '는/Josa', '룸/Noun', '을/Josa', '주기/Noun', '로/Josa', '하고/Verb', '홀/Noun', '을/Josa', '주고/Verb', '덥고/Adjective', '직원/Noun', '들/Suffix', '이/Josa', '정신/Noun', '이/Josa', '없어/Adjective', '그/Noun', '가격/Noun', '에/Josa', '내/Noun', '가/Josa', '직접/Noun', '구워/Verb', '먹고/Verb', '갈비살/Noun', '등심/Noun', '은/Josa', '질/Noun', '기고/Noun', '냉면/Noun', '은/Josa', '맛/Noun', '이/Josa', '없고/Adjective', '장어/Noun', '양념/Noun', '들/Suffix', '도/Josa', '제/Noun', '때/Noun', '안/Noun', '가져다/Verb', '주고/Verb', '회식/Noun', '으로/Josa', '한/Determiner', '시간/Noun', '만에/Josa', '만원/Noun', '을/Josa', '썼는데/Verb', '이런/Adjective', '경험/Noun', '처음/Noun', '입니다/Adjective']\n"
     ]
    }
   ],
   "source": [
    "#형태소 추출 동작 테스트 \n",
    "result = get_pos(df['ko_text'][0])\n",
    "print(result)"
   ]
  },
  {
   "cell_type": "code",
   "execution_count": 9,
   "id": "moderate-translator",
   "metadata": {},
   "outputs": [
    {
     "name": "stdout",
     "output_type": "stream",
     "text": [
      "(313, 2438)\n"
     ]
    }
   ],
   "source": [
    "#벡터화\n",
    "from sklearn.feature_extraction.text import CountVectorizer\n",
    "\n",
    "#형태소를 벡터 형태의 학습 데이터셋(X 데이터)으로 변환\n",
    "index_vectorizer = CountVectorizer(tokenizer = lambda x : get_pos(x))\n",
    "X = index_vectorizer.fit_transform(df['ko_text'].tolist())\n",
    "#토큰화로 열을 늘려준다 \n",
    "print(X.shape)"
   ]
  },
  {
   "cell_type": "code",
   "execution_count": 10,
   "id": "09cc8d4a",
   "metadata": {},
   "outputs": [
    {
     "name": "stdout",
     "output_type": "stream",
     "text": [
      "{'예약/Noun': 1594, '할/Verb': 2336, '때/Noun': 690, '는/Josa': 486, '룸/Noun': 723, '을/Josa': 1698, '주기/N,,\n"
     ]
    }
   ],
   "source": [
    "print(str(index_vectorizer.vocabulary_)[:100]+',,')"
   ]
  },
  {
   "cell_type": "code",
   "execution_count": 11,
   "id": "81138f05",
   "metadata": {},
   "outputs": [
    {
     "name": "stdout",
     "output_type": "stream",
     "text": [
      "예약할 때는 룸을 주기로 하고 홀을 주고 덥고 직원들이 정신이 없어 그 가격에 내가 직접 구워먹고 갈비살 등심은 질기고 냉면은 맛이 없고 장어 양념들도 제 때 안 가져다 주고 회식으로 한시간만에 만원을 썼는데 이런 경험 처음입니다\n",
      "  (0, 1594)\t1\n",
      "  (0, 2336)\t1\n",
      "  (0, 690)\t2\n",
      "  (0, 486)\t1\n",
      "  (0, 723)\t1\n",
      "  (0, 1698)\t3\n",
      "  (0, 1992)\t1\n",
      "  (0, 718)\t1\n",
      "  (0, 2274)\t1\n",
      "  (0, 2400)\t1\n",
      "  (0, 1990)\t2\n",
      "  (0, 575)\t1\n",
      "  (0, 2041)\t1\n",
      "  (0, 654)\t2\n",
      "  (0, 1712)\t3\n",
      "  (0, 1927)\t1\n",
      "  (0, 1535)\t1\n",
      "  (0, 260)\t1\n",
      "  (0, 35)\t1\n",
      "  (0, 1551)\t1\n",
      "  (0, 420)\t1\n",
      "  (0, 30)\t1\n",
      "  (0, 2043)\t1\n",
      "  (0, 222)\t1\n",
      "  (0, 839)\t1\n",
      "  (0, 83)\t1\n",
      "  (0, 677)\t1\n",
      "  (0, 1697)\t2\n",
      "  (0, 2046)\t1\n",
      "  (0, 302)\t1\n",
      "  (0, 431)\t1\n",
      "  (0, 777)\t1\n",
      "  (0, 1520)\t1\n",
      "  (0, 1862)\t1\n",
      "  (0, 1478)\t1\n",
      "  (0, 585)\t1\n",
      "  (0, 1930)\t1\n",
      "  (0, 1408)\t1\n",
      "  (0, 66)\t1\n",
      "  (0, 2414)\t1\n",
      "  (0, 1692)\t1\n",
      "  (0, 2320)\t1\n",
      "  (0, 1282)\t1\n",
      "  (0, 753)\t1\n",
      "  (0, 754)\t1\n",
      "  (0, 1354)\t1\n",
      "  (0, 1732)\t1\n",
      "  (0, 164)\t1\n",
      "  (0, 2111)\t1\n",
      "  (0, 1799)\t1\n"
     ]
    }
   ],
   "source": [
    "print(df['ko_text'][0])\n",
    "print(X[0])"
   ]
  },
  {
   "cell_type": "markdown",
   "id": "1eb98d66",
   "metadata": {},
   "source": [
    "## TF-IDF(Term Frequency-Inverse Document Frequecy)\n",
    "\n",
    "- 단어 빈도를 나타내는 Tf와 문서 빈도를 나타내는 DF의 역수(Inverse)인 IDF를 곱한 값을 의미합니다.\n",
    "- 만약 1번 텍스트에 '맛집' 이라는 단어가 3번 등장하고, 모든 데이터에서 '맛집'이라는 단어가 10개의 텍스트에 등장한다고 할 때,\n",
    "- TF : 3 IDF : 0.1이된다 따라서 TF-IDF는 다른 문서들에서는 등장하지 않지만 현재 문서에서는 많이 등장하는 단어를 의미하며 그단어가 현재 문서에서 얼마나 중요한지를 피처로 나타내는 방법\n"
   ]
  },
  {
   "cell_type": "code",
   "execution_count": 12,
   "id": "31d9f256",
   "metadata": {},
   "outputs": [
    {
     "name": "stdout",
     "output_type": "stream",
     "text": [
      "(313, 2438)\n",
      "  (0, 2414)\t0.12238914390959485\n",
      "  (0, 2400)\t0.15552599271448392\n",
      "  (0, 2336)\t0.1197659293266783\n",
      "  (0, 2320)\t0.12528897309578083\n",
      "  (0, 2274)\t0.1414665792463585\n",
      "  (0, 2111)\t0.1197659293266783\n",
      "  (0, 2046)\t0.12528897309578083\n",
      "  (0, 2043)\t0.12528897309578083\n",
      "  (0, 2041)\t0.08038761628790153\n",
      "  (0, 1992)\t0.16668557699642333\n",
      "  (0, 1990)\t0.282933158492717\n",
      "  (0, 1930)\t0.128530706322896\n",
      "  (0, 1927)\t0.13644855737772027\n",
      "  (0, 1862)\t0.13644855737772027\n",
      "  (0, 1799)\t0.10196886072158479\n",
      "  (0, 1732)\t0.1414665792463585\n",
      "  (0, 1712)\t0.1714593354755764\n",
      "  (0, 1698)\t0.26858672912392567\n",
      "  (0, 1697)\t0.14174335961185974\n",
      "  (0, 1692)\t0.09124965257614828\n",
      "  (0, 1594)\t0.1197659293266783\n",
      "  (0, 1551)\t0.062222626545806854\n",
      "  (0, 1535)\t0.15552599271448392\n",
      "  (0, 1520)\t0.11516811289275837\n",
      "  (0, 1478)\t0.13220588034028785\n",
      "  (0, 1408)\t0.11516811289275837\n",
      "  (0, 1354)\t0.16668557699642333\n",
      "  (0, 1282)\t0.1173711220409566\n",
      "  (0, 839)\t0.10945327098613235\n",
      "  (0, 777)\t0.07045147437121156\n",
      "  (0, 754)\t0.13644855737772027\n",
      "  (0, 753)\t0.16668557699642333\n",
      "  (0, 723)\t0.13644855737772027\n",
      "  (0, 718)\t0.09829368670419293\n",
      "  (0, 690)\t0.2013769879798293\n",
      "  (0, 677)\t0.13220588034028785\n",
      "  (0, 654)\t0.17741453790209144\n",
      "  (0, 585)\t0.060427016793379244\n",
      "  (0, 575)\t0.16668557699642333\n",
      "  (0, 486)\t0.08355466040173698\n",
      "  (0, 431)\t0.1476081416596597\n",
      "  (0, 420)\t0.13220588034028785\n",
      "  (0, 302)\t0.1414665792463585\n",
      "  (0, 260)\t0.13220588034028785\n",
      "  (0, 222)\t0.13644855737772027\n",
      "  (0, 164)\t0.16668557699642333\n",
      "  (0, 83)\t0.16668557699642333\n",
      "  (0, 66)\t0.15552599271448392\n",
      "  (0, 35)\t0.09215212429089176\n",
      "  (0, 30)\t0.07400775869465029\n"
     ]
    }
   ],
   "source": [
    "from sklearn.feature_extraction.text import TfidfTransformer\n",
    "\n",
    "#TF-IDF 방법으로 형태소를 벡터 형태의 학습 데이터셋(X 데이터)으로 변환합니다\n",
    "tfidf_vectorizer = TfidfTransformer()\n",
    "X = tfidf_vectorizer.fit_transform(X)\n",
    "\n",
    "print(X.shape)\n",
    "print(X[0])"
   ]
  },
  {
   "cell_type": "markdown",
   "id": "104a492c",
   "metadata": {},
   "source": [
    "# 분류 : 긍정/부정 리뷰 분류"
   ]
  },
  {
   "cell_type": "code",
   "execution_count": 13,
   "id": "783899b8",
   "metadata": {},
   "outputs": [
    {
     "name": "stdout",
     "output_type": "stream",
     "text": [
      "(219, 2438) (94, 2438)\n",
      "(219,) (94,)\n"
     ]
    }
   ],
   "source": [
    "from sklearn.model_selection import train_test_split\n",
    "\n",
    "y = df['y']\n",
    "x_train, x_test, y_train, y_test = train_test_split(X, y, test_size = 0.3)\n",
    "\n",
    "print(x_train.shape, x_test.shape)\n",
    "print(y_train.shape, y_test.shape)"
   ]
  },
  {
   "cell_type": "markdown",
   "id": "0e0252ad",
   "metadata": {},
   "source": [
    "## 분류 모델링: 로지스틱 회귀 모델\n"
   ]
  },
  {
   "cell_type": "code",
   "execution_count": 14,
   "id": "9e34aa2a",
   "metadata": {},
   "outputs": [],
   "source": [
    "from sklearn.linear_model import LogisticRegression\n",
    "from sklearn.metrics import accuracy_score, precision_score, recall_score, f1_score\n",
    "\n",
    "#로지스틱 회귀 모델을 학습\n",
    "lr = LogisticRegression(random_state=50)\n",
    "lr.fit(x_train, y_train)\n",
    "y_pred =lr.predict(x_test)\n",
    "y_pred_probability = lr.predict_proba(x_test)[:,1]"
   ]
  },
  {
   "cell_type": "code",
   "execution_count": 16,
   "id": "c805ba4e",
   "metadata": {},
   "outputs": [
    {
     "name": "stdout",
     "output_type": "stream",
     "text": [
      "0.6914893617021277 0.6875 0.9322033898305084 0.7913669064748202\n"
     ]
    }
   ],
   "source": [
    "#로지스틱 회귀 모델의 성능을 평가\n",
    "print(accuracy_score(y_test,y_pred), precision_score(y_test,y_pred), recall_score(y_test,y_pred), f1_score(y_test,y_pred))"
   ]
  },
  {
   "cell_type": "code",
   "execution_count": 17,
   "id": "e76acc9e",
   "metadata": {},
   "outputs": [
    {
     "name": "stdout",
     "output_type": "stream",
     "text": [
      "[[10 25]\n",
      " [ 4 55]]\n"
     ]
    }
   ],
   "source": [
    "from sklearn.metrics import confusion_matrix\n",
    "\n",
    "#Confusion_matrix 출력\n",
    "confmat = confusion_matrix(y_true = y_test, y_pred = y_pred)\n",
    "print(confmat)"
   ]
  },
  {
   "cell_type": "code",
   "execution_count": 18,
   "id": "2a6968b0",
   "metadata": {},
   "outputs": [
    {
     "data": {
      "text/plain": [
       "1    183\n",
       "0    130\n",
       "Name: y, dtype: int64"
      ]
     },
     "execution_count": 18,
     "metadata": {},
     "output_type": "execute_result"
    }
   ],
   "source": [
    "#이 분류 모델은 모든 데이터를 1(긍정)로 예측하고 있다 그래서 적절한 샘플링 방법으로 클래스의 불균형을 해결해야한다\n",
    "\n",
    "#y 가 0과 1을 각각 얼마나 가지고 있는지를 출력\n",
    "df['y'].value_counts()"
   ]
  },
  {
   "cell_type": "code",
   "execution_count": 20,
   "id": "ddceba3f",
   "metadata": {},
   "outputs": [
    {
     "name": "stdout",
     "output_type": "stream",
     "text": [
      "(70, 2438)\n",
      "(30, 2438)\n"
     ]
    }
   ],
   "source": [
    "#두 클래스간의 비율을 동일하게 맞추는 방법  y가 1인 50개의 샘플, y가 0 50개의 샘플을 임의 추출\n",
    "\n",
    "#1:1 비율로 랜덤 샘플링을 수행\n",
    "positive_random_idx = df[df['y']==1].sample(50, random_state = 30).index.tolist()\n",
    "negative_random_idx = df[df['y']==0].sample(50, random_state = 30).index.tolist()\n",
    "\n",
    "#랜덤 데이터로 데이터셋 을 나눕니다\n",
    "random_idx = positive_random_idx + negative_random_idx #인덱스 리스트 \n",
    "sample_X = X[random_idx, :] #x 인덱스 선택\n",
    "y = df['y'][random_idx] #y값 랜덤 인덱스\n",
    "x_train, x_test, y_train, y_test = train_test_split(sample_X, y, test_size=0.3)\n",
    "print(x_train.shape)\n",
    "print(x_test.shape)"
   ]
  },
  {
   "cell_type": "code",
   "execution_count": 21,
   "id": "49e10cf3",
   "metadata": {},
   "outputs": [
    {
     "name": "stdout",
     "output_type": "stream",
     "text": [
      "0.7666666666666667 0.8333333333333334 0.6666666666666666 0.7407407407407408\n"
     ]
    }
   ],
   "source": [
    "lr = LogisticRegression(random_state=59)\n",
    "lr.fit(x_train, y_train)\n",
    "y_pred = lr.predict(x_test)\n",
    "y_pred_probability = lr.predict_proba(x_test)[:,1]\n",
    "#성능이 더 좋아진걸 확인 할수 있다 \n",
    "print(accuracy_score(y_test,y_pred),precision_score(y_test,y_pred),recall_score(y_test,y_pred),f1_score(y_test,y_pred))\n"
   ]
  },
  {
   "cell_type": "code",
   "execution_count": 22,
   "id": "2898d78e",
   "metadata": {},
   "outputs": [
    {
     "name": "stdout",
     "output_type": "stream",
     "text": [
      "[[13  2]\n",
      " [ 5 10]]\n"
     ]
    }
   ],
   "source": [
    "#Confusion Matrix를 출력\n",
    "confmat = confusion_matrix(y_true=y_test, y_pred=y_pred)\n",
    "print(confmat)"
   ]
  },
  {
   "cell_type": "markdown",
   "id": "eccd7f6a",
   "metadata": {},
   "source": [
    "## 분석: 중요 키워드 분석하기 (영향력 추출하기)\n"
   ]
  },
  {
   "cell_type": "code",
   "execution_count": 25,
   "id": "c0f6f0bf",
   "metadata": {},
   "outputs": [
    {
     "name": "stdout",
     "output_type": "stream",
     "text": [
      "[(0.5894693997922896, 1841), (0.5719768708883648, 786), (0.3754851196097518, 787), (0.3114609843892558, 92), (0.3015324134268496, 585)]\n",
      "[(-0.4184043993083469, 265), (-0.43817130713496466, 1551), (-0.44579784270807676, 1697), (-0.4727408978842768, 194), (-0.5347952335013452, 1698)]\n"
     ]
    },
    {
     "data": {
      "image/png": "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\n",
      "text/plain": [
       "<Figure size 720x576 with 1 Axes>"
      ]
     },
     "metadata": {
      "needs_background": "light"
     },
     "output_type": "display_data"
    }
   ],
   "source": [
    "#학습한 회귀 모델의 계수를 출력합니다\n",
    "import matplotlib.pyplot as plt\n",
    "plt.rcParams['figure.figsize'] = [10,8]\n",
    "plt.bar(range(len(lr.coef_[0])), lr.coef_[0]) #\n",
    "#value 값을 정렬 해준다 \n",
    "print( sorted( ((value,index) for index, value in enumerate(lr.coef_[0])), reverse=True )[:5] )\n",
    "print( sorted( ((value,index) for index, value in enumerate(lr.coef_[0])), reverse=True )[-5:] )"
   ]
  },
  {
   "cell_type": "markdown",
   "id": "56e5b09c",
   "metadata": {},
   "source": [
    "# 중요 변수의 형태소\n"
   ]
  },
  {
   "cell_type": "code",
   "execution_count": 26,
   "id": "fb8c690b",
   "metadata": {},
   "outputs": [
    {
     "name": "stdout",
     "output_type": "stream",
     "text": [
      "{1594: '예약/Noun', 2336: '할/Verb', 690: '때/Noun', 486: '는/Josa', 723: '룸/Noun', 1698: '을/Josa', 1992:...\n"
     ]
    }
   ],
   "source": [
    "#회귀 모델의 계수를 높은 순으로 정렬\n",
    "coef_pos_index = sorted(( (value, index) for index, value in enumerate(lr.coef_[0]) ), reverse=True)\n",
    "\n",
    "#회귀 모델의 계수를 index_vectorizer에 맵핑하여 어떤 형태소인지 출력할 수 있게 합니다 #단어사전 같은거 \n",
    "invert_index_vectorizer = {v:k for k, v in index_vectorizer.vocabulary_.items()}\n",
    "\n",
    "#계수가 높은 순으로 피처에 형태소를 맵핑한 결과를 출력, 계수가 높은 피처는 리뷰에 긍정적인 영향을 주는 형태소이다\n",
    "print(str(invert_index_vectorizer)[:100]+'...')"
   ]
  },
  {
   "cell_type": "code",
   "execution_count": 41,
   "id": "c9f74fbe",
   "metadata": {},
   "outputs": [
    {
     "name": "stdout",
     "output_type": "stream",
     "text": [
      "[('잘/Verb', 0.5894693997922896), ('채전/Verb', 0.28642190248183774), ('녹아/Verb', 0.2757200581401769), ('녹는다/Verb', 0.2757200581401769), ('싸고/Verb', 0.26726436875025483), ('구워주시고/Verb', 0.26058871772706954), ('먹었습니다/Verb', 0.2014810790839194), ('않는/Verb', 0.19510527785771536), ('않고/Verb', 0.17603043450652986), ('찾아가서/Verb', 0.16801118291918402), ('먹었다/Verb', 0.1657572102141867), ('감사한다/Verb', 0.1657572102141867), ('잘/VerbPrefix', 0.1655075773713074), ('먹는/Verb', 0.16124005211407755), ('먹어요/Verb', 0.15676284944078595), ('우십니다/Verb', 0.15572827141057574), ('여긴/Verb', 0.14867081801711074), ('되어/Verb', 0.14600039910458062), ('먹고싶을/Verb', 0.1439059240802688), ('먹자마자/Verb', 0.13661765481902297)]\n",
      "\n",
      "\n",
      "\n",
      "[('됨/Verb', -0.11048260786596639), ('가시길/Verb', -0.11244175279444592), ('가는게/Verb', -0.1147753676464544), ('나갈/Verb', -0.11841015716270782), ('돌아서/Verb', -0.12055286518912019), ('였음/Verb', -0.13330286302848776), ('났습니다/Verb', -0.13727075428580787), ('건지/Verb', -0.1511672707864169), ('마세요/Verb', -0.15411046558569513), ('씹다/Verb', -0.16014060711823339), ('뱉다/Verb', -0.16014060711823339), ('구워주는/Verb', -0.17881977753676645), ('모르지만/Verb', -0.1819462273117767), ('적다/Verb', -0.191650779891226), ('잡내/Verb', -0.19821567537472207), ('안/VerbPrefix', -0.1989155800423271), ('먹을수/Verb', -0.20979291805585376), ('만든게/Verb', -0.23784191903899501), ('해요/Verb', -0.2566912437246324), ('비추/Verb', -0.3477606508036099)]\n"
     ]
    }
   ],
   "source": [
    "#긍정 상위 20개와 부정 20개\n",
    "num = []\n",
    "for coef in coef_pos_index:\n",
    "    if 'Verb' in invert_index_vectorizer[coef[1]]:\n",
    "        num.append((invert_index_vectorizer[coef[1]], coef[0]))\n",
    "print(num[:20])\n",
    "print('\\n\\n')\n",
    "print(num[-20:])"
   ]
  },
  {
   "cell_type": "code",
   "execution_count": 46,
   "id": "67e182b5",
   "metadata": {},
   "outputs": [
    {
     "name": "stdout",
     "output_type": "stream",
     "text": [
      "[('가는/Verb', 0.13657965242054582), ('나고/Verb', 0.13622568560888734), ('보였어요/Verb', 0.13364517907656243), ('갑니당/Verb', 0.13364517907656243), ('왔습니다/Verb', 0.13097557644333502), ('하는데/Verb', 0.12350615239623114), ('구워줘서/Verb', 0.11503719392915636), ('먹으세요/Verb', 0.11479464441601968), ('내려서/Verb', 0.1141471319153446), ('구으세요/Verb', 0.1141471319153446), ('크고/Verb', 0.10753944718574611), ('하질/Verb', 0.10651270869851001), ('믿고/Verb', 0.10651270869851001), ('했던/Verb', 0.1037453832429978), ('하기도/Verb', 0.1037453832429978), ('지어졌어요/Verb', 0.1037453832429978), ('지키시고/Verb', 0.10266626255853047), ('살치실이랑/Verb', 0.10266626255853047), ('남깁니다/Verb', 0.10266626255853047), ('데려간/Verb', 0.1025921183927632), ('먹었어요/Verb', 0.10165621069358441), ('보내고/Verb', 0.09725210344768345), ('갔는데도/Verb', 0.09725210344768345), ('터지는/Verb', 0.09493529521944573), ('찐/Verb', 0.09493529521944573), ('맞게/Verb', 0.09493529521944573), ('터질거/Verb', 0.09317572788903825), ('먹고는/Verb', 0.09317572788903825), ('마실/Verb', 0.09317572788903825), ('나왔네요/Verb', 0.09317572788903825), ('나오면서도/Verb', 0.09317572788903825), ('해준거/Verb', 0.08441901894865862), ('보다/Verb', 0.08441901894865862), ('하면서/Verb', 0.08251161431790932), ('지/Verb', 0.08128772877262799), ('잇음/Verb', 0.08128772877262799), ('잇어서/Verb', 0.08128772877262799), ('앉으세요/Verb', 0.08128772877262799), ('들이/Verb', 0.08128772877262799), ('고쳐/Verb', 0.08128772877262799), ('이었어요/Verb', 0.07872862786995571), ('큰/Verb', 0.07615507082096956), ('쓰는게/Verb', 0.07615507082096956), ('갔을/Verb', 0.07615507082096956), ('왔어요/Verb', 0.07164668982881771), ('가본/Verb', 0.07105649572744538), ('채전은/Verb', 0.06529347927874316), ('찍어/Verb', 0.06529347927874316), ('않나요/Verb', 0.06529347927874316), ('먹죠/Verb', 0.06529347927874316), ('되요/Verb', 0.06529347927874316), ('한건데/Verb', 0.06176086218193916), ('튀기듯이/Verb', 0.06176086218193916), ('볶고/Verb', 0.06176086218193916), ('먹어야/Verb', 0.060922086755154696), ('주는데/Verb', 0.05762597805300589), ('해주셨고/Verb', 0.05664536061454299), ('봤는데/Verb', 0.05664536061454299), ('배고/Verb', 0.05664536061454299), ('몰라서/Verb', 0.05664536061454299), ('만들어주셔서/Verb', 0.05664536061454299), ('도와주시고/Verb', 0.05664536061454299), ('구워주셨어요/Verb', 0.05664536061454299), ('고를줄/Verb', 0.05664536061454299), ('고르도록/Verb', 0.05664536061454299), ('않은/Verb', 0.05469223107509782), ('먹을만/Verb', 0.05469223107509782), ('감사합니다/Verb', 0.050162206980471885), ('먹다가/Verb', 0.04780803194192151), ('하지/Verb', 0.03365376748095242), ('구워/Verb', 0.03322706522288993), ('하게/Verb', 0.025190182331234347), ('먹고/Verb', 0.024602085720743842), ('할/Verb', 0.023663085101526215), ('먹으러/Verb', 0.015886414264198866), ('버리고/Verb', 0.009900367558647368), ('했는데/Verb', 0.0097098496086388), ('해서/Verb', 0.007345762168688385), ('나와서/Verb', 0.005146898475186052), ('갔는데/Verb', 0.004675074057611074), ('흘리고/Verb', 0.0), ('헤맸는데/Verb', 0.0), ('했지만/Verb', 0.0), ('했을까요/Verb', 0.0), ('했으므로/Verb', 0.0), ('했어요/Verb', 0.0), ('했는데요/Verb', 0.0), ('했고/Verb', 0.0), ('했/Verb', 0.0), ('해줘야하는데/Verb', 0.0), ('해줌/Verb', 0.0), ('해주더니/Verb', 0.0), ('해주는/Verb', 0.0), ('해주고/Verb', 0.0), ('해야하는지는/Verb', 0.0), ('해야하는거/Verb', 0.0), ('해야/Verb', 0.0), ('해보니/Verb', 0.0), ('해놓고/Verb', 0.0), ('해/Verb', 0.0), ('할말은/Verb', 0.0), ('할께/Verb', 0.0), ('할것도/Verb', 0.0), ('한다고/Verb', 0.0), ('한꺼/Verb', 0.0), ('하여/Verb', 0.0), ('하신다/Verb', 0.0), ('하신/Verb', 0.0), ('하시려/Verb', 0.0), ('하시나요/Verb', 0.0), ('하시고/Verb', 0.0), ('하세요/Verb', 0.0), ('하려고/Verb', 0.0), ('하러/Verb', 0.0), ('하던것처럼/Verb', 0.0), ('하더라구요/Verb', 0.0), ('하니/Verb', 0.0), ('하길래/Verb', 0.0), ('하기에도/Verb', 0.0), ('하기에/Verb', 0.0), ('하겠다는/Verb', 0.0), ('팅기/Verb', 0.0), ('튀김전이어서/Verb', 0.0), ('튀긴/Verb', 0.0), ('터짐/Verb', 0.0), ('터지게/Verb', 0.0), ('태우시고/Verb', 0.0), ('태우듯이/Verb', 0.0), ('찾아볼/Verb', 0.0), ('찾아갔는데/Verb', 0.0), ('찾아갈까/Verb', 0.0), ('찾다니/Verb', 0.0), ('참/Verb', 0.0), ('차있어서/Verb', 0.0), ('차이는/Verb', 0.0), ('차는/Verb', 0.0), ('찍어서/Verb', 0.0), ('쩔어있고/Verb', 0.0), ('짠이/Verb', 0.0), ('짠단/Verb', 0.0), ('짠/Verb', 0.0), ('짜요/Verb', 0.0), ('짜리/Verb', 0.0), ('짜긴/Verb', 0.0), ('짜고/Verb', 0.0), ('질기/Verb', 0.0), ('지켜봤는데/Verb', 0.0), ('지우지/Verb', 0.0), ('지려/Verb', 0.0), ('지날/Verb', 0.0), ('즐길/Verb', 0.0), ('줘/Verb', 0.0), ('준다면서/Verb', 0.0), ('주든가/Verb', 0.0), ('주는/Verb', 0.0), ('주나요/Verb', 0.0), ('주고가는데/Verb', 0.0), ('적음/Verb', 0.0), ('적은거/Verb', 0.0), ('적은/Verb', 0.0), ('적어요/Verb', 0.0), ('적고/Verb', 0.0), ('적게/Verb', 0.0), ('잡치게/Verb', 0.0), ('잡은/Verb', 0.0), ('잡아주는/Verb', 0.0), ('잡아서/Verb', 0.0), ('잡내가/Verb', 0.0), ('잘라주/Verb', 0.0), ('잘라/Verb', 0.0), ('잘나오구요/Verb', 0.0), ('자르는/Verb', 0.0), ('잇게/Verb', 0.0), ('잃으면/Verb', 0.0), ('인당/Verb', 0.0), ('이었습니다/Verb', 0.0), ('이었는데/Verb', 0.0), ('이었구/Verb', 0.0), ('이었고/Verb', 0.0), ('이어/Verb', 0.0), ('이러기/Verb', 0.0), ('왔을/Verb', 0.0), ('왔는데/Verb', 0.0), ('와야겠네요/Verb', 0.0), ('옮겨/Verb', 0.0), ('올리고/Verb', 0.0), ('올려진/Verb', 0.0), ('올려놓고/Verb', 0.0), ('올려/Verb', 0.0), ('올랐어요/Verb', 0.0), ('올라간/Verb', 0.0), ('올게요/Verb', 0.0), ('올거/Verb', 0.0), ('오르구/Verb', 0.0), ('오고싶을/Verb', 0.0), ('오고싶은/Verb', 0.0), ('였으나/Verb', 0.0), ('였어요/Verb', 0.0), ('였어여/Verb', 0.0), ('였던걸/Verb', 0.0), ('였다/Verb', 0.0), ('였고/Verb', 0.0), ('업음/Verb', 0.0), ('알았음/Verb', 0.0), ('알았는데/Verb', 0.0), ('알려주/Verb', 0.0), ('알려/Verb', 0.0), ('알겠는데/Verb', 0.0), ('않지만/Verb', 0.0), ('않음/Verb', 0.0), ('않은데/Verb', 0.0), ('않은것/Verb', 0.0), ('않았지만/Verb', 0.0), ('않았으나/Verb', 0.0), ('않았다/Verb', 0.0), ('않아요/Verb', 0.0), ('않습니다/Verb', 0.0), ('않네요/Verb', 0.0), ('않네여/Verb', 0.0), ('앉자마자/Verb', 0.0), ('앉아도/Verb', 0.0), ('씻은/Verb', 0.0), ('씻는거/Verb', 0.0), ('씹는/Verb', 0.0), ('씁니다/Verb', 0.0), ('씀/Verb', 0.0), ('쓰이긴/Verb', 0.0), ('쓰시는거/Verb', 0.0), ('쓰는데/Verb', 0.0), ('쓰는/Verb', 0.0), ('쓰고/Verb', 0.0), ('쏘/Verb', 0.0), ('썼더니/Verb', 0.0), ('썰어서/Verb', 0.0), ('썬/Verb', 0.0), ('써줌/Verb', 0.0), ('싸서/Verb', 0.0), ('싸긴/Verb', 0.0), ('싸게/Verb', 0.0), ('싸/VerbPrefix', 0.0), ('싶음/Verb', 0.0), ('싶을/Verb', 0.0), ('싶으면/Verb', 0.0), ('싶어/Verb', 0.0), ('싶기도/Verb', 0.0), ('시킨것도/Verb', 0.0), ('시키는걸/Verb', 0.0), ('시켰으면/Verb', 0.0), ('시켰는데/Verb', 0.0), ('시켜/Verb', 0.0), ('서있음/Verb', 0.0), ('서야/Verb', 0.0), ('서는/Verb', 0.0), ('생겼습니다/Verb', 0.0), ('생겨서/Verb', 0.0), ('생각났는데/Verb', 0.0), ('생각나는/Verb', 0.0), ('생각나고/Verb', 0.0), ('삼킬수가/Verb', 0.0), ('살치/Verb', 0.0), ('살이었음/Verb', 0.0), ('살면서/Verb', 0.0), ('사준다/Verb', 0.0), ('사세요/Verb', 0.0), ('사먹을/Verb', 0.0), ('사는/Verb', 0.0), ('사갔는데/Verb', 0.0), ('빼곤/Verb', 0.0), ('빼고는/Verb', 0.0), ('빠지고/Verb', 0.0), ('빠지/Verb', 0.0), ('빠져나가는/Verb', 0.0), ('비었던데/Verb', 0.0), ('비는/Verb', 0.0), ('붙어있어요/Verb', 0.0), ('붙어있는/Verb', 0.0), ('붙어/Verb', 0.0), ('불렀더니/Verb', 0.0), ('불러도/Verb', 0.0), ('분이셔서/Verb', 0.0), ('봤더라/Verb', 0.0), ('봐주셔서/Verb', 0.0), ('봐야/Verb', 0.0), ('봐서/Verb', 0.0), ('본것/Verb', 0.0), ('보일테니까/Verb', 0.0), ('보이도록/Verb', 0.0), ('보였네요/Verb', 0.0), ('보면/Verb', 0.0), ('보는/Verb', 0.0), ('버려서/Verb', 0.0), ('밴다는/Verb', 0.0), ('받음/Verb', 0.0), ('받을/Verb', 0.0), ('받았습니다/Verb', 0.0), ('받기/Verb', 0.0), ('받고/Verb', 0.0), ('바라는게/Verb', 0.0), ('바꿔주는건/Verb', 0.0), ('바꿔/Verb', 0.0), ('물으면/Verb', 0.0), ('물어봤는데/Verb', 0.0), ('물어보면/Verb', 0.0), ('묻은/Verb', 0.0), ('몰랐다고/Verb', 0.0), ('몰라/Verb', 0.0), ('모르겠음/Verb', 0.0), ('모르겠네요/Verb', 0.0), ('먹음/Verb', 0.0), ('먹을만한/Verb', 0.0), ('먹을건/Verb', 0.0), ('먹을거면/Verb', 0.0), ('먹은게/Verb', 0.0), ('먹으면서/Verb', 0.0), ('먹으며/Verb', 0.0), ('먹었/Verb', 0.0), ('먹어서/Verb', 0.0), ('먹더라도/Verb', 0.0), ('먹다/Verb', 0.0), ('먹는줄/Verb', 0.0), ('먹는데/Verb', 0.0), ('먹는것도/Verb', 0.0), ('먹기전부터/Verb', 0.0), ('먹고싶진/Verb', 0.0), ('먹고싶었으나/Verb', 0.0), ('먹고다음/Verb', 0.0), ('먹고다/Verb', 0.0), ('먹고나서/Verb', 0.0), ('먹고나니/Verb', 0.0), ('먹고나/Verb', 0.0), ('먹고가요/Verb', 0.0), ('먹/Verb', 0.0), ('맵구/Verb', 0.0), ('맡/Verb', 0.0), ('맞고/Verb', 0.0), ('만들수있는/Verb', 0.0), ('마시면서/Verb', 0.0), ('마시고/Verb', 0.0), ('마셨나/Verb', 0.0), ('마셔/Verb', 0.0), ('떼는거/Verb', 0.0), ('떼기/Verb', 0.0), ('떨어지는/Verb', 0.0), ('떠주는데/Verb', 0.0), ('떠오르더라구요/Verb', 0.0), ('떠난다/Verb', 0.0), ('땡김소/Verb', 0.0), ('땀안/Verb', 0.0), ('딴데가세요/Verb', 0.0), ('따져도/Verb', 0.0), ('따먹었습니다/Verb', 0.0), ('따라/Verb', 0.0), ('듦/Verb', 0.0), ('들으시곤/Verb', 0.0), ('들었습니다/Verb', 0.0), ('들어있고/Verb', 0.0), ('들어왔는데/Verb', 0.0), ('들어와/Verb', 0.0), ('들어갔다가/Verb', 0.0), ('들어간거라고/Verb', 0.0), ('들어가자마자/Verb', 0.0), ('들어가서/Verb', 0.0), ('들어가는데/Verb', 0.0), ('들어가는/Verb', 0.0), ('들어가구/Verb', 0.0), ('들어/Verb', 0.0), ('들께는/Verb', 0.0), ('드시면/Verb', 0.0), ('드시는/Verb', 0.0), ('드세용/Verb', 0.0), ('드세요/Verb', 0.0), ('드립니다/Verb', 0.0), ('드려요/Verb', 0.0), ('드는/Verb', 0.0), ('둠을/Verb', 0.0), ('둠/Verb', 0.0), ('둘이가면/Verb', 0.0), ('둔/Verb', 0.0), ('될듯/Verb', 0.0), ('되도록/Verb', 0.0), ('되는데/Verb', 0.0), ('됐어요/Verb', 0.0), ('됐네요/Verb', 0.0), ('돼서/Verb', 0.0), ('돌아다면서/Verb', 0.0), ('데려왔는데/Verb', 0.0), ('던지시더라구요/Verb', 0.0), ('댓글단/Verb', 0.0), ('대박나세용/Verb', 0.0), ('닿는/Verb', 0.0), ('닮은/Verb', 0.0), ('다쳐도/Verb', 0.0), ('다신/Verb', 0.0), ('다시는/Verb', 0.0), ('다리는거/Verb', 0.0), ('다녀요/Verb', 0.0), ('다녀왔는데/Verb', 0.0), ('니당/Verb', 0.0), ('늦은/Verb', 0.0), ('늦게/Verb', 0.0), ('느낄/Verb', 0.0), ('느끼고/Verb', 0.0), ('느껴졌습니다/Verb', 0.0), ('눌러도/Verb', 0.0), ('놓고/Verb', 0.0), ('놀랐습니다/Verb', 0.0), ('놀랐던/Verb', 0.0), ('놀라실/Verb', 0.0), ('녹아요/Verb', 0.0), ('넣어주는게/Verb', 0.0), ('넘마/Verb', 0.0), ('냈는데/Verb', 0.0), ('냅고/Verb', 0.0), ('내려가지를/Verb', 0.0), ('내고/Verb', 0.0), ('났는지/Verb', 0.0), ('남겨주세요/Verb', 0.0), ('날라/Verb', 0.0), ('나왔는데/Verb', 0.0), ('나온다/Verb', 0.0), ('나온/Verb', 0.0), ('나오다/Verb', 0.0), ('나오는/Verb', 0.0), ('나오기/Verb', 0.0), ('나오고/Verb', 0.0), ('나았을듯/Verb', 0.0), ('나는줄/Verb', 0.0), ('나가는/Verb', 0.0), ('끝나고/Verb', 0.0), ('꼽힘/Verb', 0.0), ('꼈어요/Verb', 0.0), ('껴요/Verb', 0.0), ('깔려있음/Verb', 0.0), ('까요/Verb', 0.0), ('까먹은/Verb', 0.0), ('기다릴/Verb', 0.0), ('기다리는거/Verb', 0.0), ('기다려야하는지/Verb', 0.0), ('기다려서/Verb', 0.0), ('기다려/Verb', 0.0), ('그치만/Verb', 0.0), ('굽느라/Verb', 0.0), ('구워지는/Verb', 0.0), ('구워주시는/Verb', 0.0), ('구워주셔서/Verb', 0.0), ('구워주러/Verb', 0.0), ('구워주니까/Verb', 0.0), ('구워주는것도/Verb', 0.0), ('구워져서/Verb', 0.0), ('구워서/Verb', 0.0), ('곁들여/Verb', 0.0), ('걸린/Verb', 0.0), ('거치곤/Verb', 0.0), ('감사합니당/Verb', 0.0), ('감도/Verb', 0.0), ('갈만/Verb', 0.0), ('간하면/Verb', 0.0), ('가져다줄/Verb', 0.0), ('가져다가/Verb', 0.0), ('가네요/Verb', 0.0), ('가고싶지/Verb', 0.0), ('가겠지만/Verb', 0.0), ('가져다/Verb', -0.00022492911060793453), ('하네요/Verb', -0.0010188795445732867), ('갑니다/Verb', -0.0015191011990550256), ('먹어/Verb', -0.007351978743923682), ('하고/Verb', -0.016470898500218604), ('여쭤/Verb', -0.026617509052925585), ('보니/Verb', -0.03134888725612009), ('들/Verb', -0.03385729190211085), ('했으나/Verb', -0.035731904423920345), ('할수/Verb', -0.035731904423920345), ('되/Verb', -0.035731904423920345), ('했어도/Verb', -0.03829580510710053), ('하니까/Verb', -0.03829580510710053), ('하냐/Verb', -0.03829580510710053), ('않냐/Verb', -0.03829580510710053), ('물으니/Verb', -0.03829580510710053), ('맞춰서/Verb', -0.03829580510710053), ('돌아오는/Verb', -0.03829580510710053), ('가서/Verb', -0.038393952409691234), ('했습니다/Verb', -0.03915956862212467), ('하면/Verb', -0.040118029274619126), ('한/Verb', -0.04140547459212214), ('모르겠어요/Verb', -0.04286692809409718), ('보세요/Verb', -0.044377450747196096), ('맞다/Verb', -0.044377450747196096), ('들어올/Verb', -0.044377450747196096), ('드셔/Verb', -0.044377450747196096), ('질긴/Verb', -0.04516635377624898), ('빠지는/Verb', -0.04516635377624898), ('봤더니/Verb', -0.04516635377624898), ('해주시고/Verb', -0.04601366252718714), ('하였습니다/Verb', -0.04601366252718714), ('하며/Verb', -0.04601366252718714), ('적네라고/Verb', -0.04601366252718714), ('놓여있어서/Verb', -0.04601366252718714), ('남아있는/Verb', -0.04601366252718714), ('나가셨습니다/Verb', -0.04601366252718714), ('나가기/Verb', -0.04601366252718714), ('구웠던/Verb', -0.04601366252718714), ('가져가/Verb', -0.04601366252718714), ('가려는데/Verb', -0.04601366252718714), ('가/Verb', -0.04618129127109522), ('덮/Verb', -0.04657665607764576), ('했을/Verb', -0.04691210894837924), ('해주던가/Verb', -0.04756170241591945), ('크/Verb', -0.04756170241591945), ('않나/Verb', -0.04756170241591945), ('시켰더니/Verb', -0.04756170241591945), ('세게/Verb', -0.04756170241591945), ('비빈/Verb', -0.04756170241591945), ('벗고/Verb', -0.04756170241591945), ('만지고있지/Verb', -0.04756170241591945), ('돼있도/Verb', -0.04756170241591945), ('하셔서/Verb', -0.048407212251907514), ('튀고/Verb', -0.048407212251907514), ('시킬/Verb', -0.048407212251907514), ('쉽습니다/Verb', -0.048407212251907514), ('먹었는지/Verb', -0.048407212251907514), ('뒤집으면/Verb', -0.048407212251907514), ('겨진/Verb', -0.048407212251907514), ('먹으라는/Verb', -0.04865850276967964), ('해주신/Verb', -0.050278232028616025), ('짠의/Verb', -0.050278232028616025), ('질리는/Verb', -0.050278232028616025), ('된/Verb', -0.050278232028616025), ('되는/Verb', -0.050278232028616025), ('됐는데/Verb', -0.050278232028616025), ('갔었고/Verb', -0.050278232028616025), ('가게/Verb', -0.050278232028616025), ('했네요/Verb', -0.05058093361949722), ('짜/Verb', -0.05058093361949722), ('이었/Verb', -0.05058093361949722), ('사먹었네요/Verb', -0.05058093361949722), ('기대도/Verb', -0.05058093361949722), ('갈/Verb', -0.05072527431775246), ('틀어주고/Verb', -0.052149936280013076), ('익은게/Verb', -0.052149936280013076), ('익은거라고/Verb', -0.052149936280013076), ('오시길래/Verb', -0.052149936280013076), ('보이는데/Verb', -0.052149936280013076), ('보여주니/Verb', -0.052149936280013076), ('물어보니/Verb', -0.052149936280013076), ('묶은/Verb', -0.052149936280013076), ('넘었음/Verb', -0.052149936280013076), ('넘게/Verb', -0.052149936280013076), ('기다리라는/Verb', -0.052149936280013076), ('구웠어요/Verb', -0.052149936280013076), ('가시던데/Verb', -0.052149936280013076), ('했음/Verb', -0.054444108474788006), ('하는건/Verb', -0.05763745510122376), ('와/Verb', -0.057817384042721465), ('갔다가/Verb', -0.057817384042721465), ('지움/Verb', -0.061480671276928966), ('왔다가/Verb', -0.061480671276928966), ('쓰니/Verb', -0.061480671276928966), ('붙어있는데/Verb', -0.061480671276928966), ('하시는건/Verb', -0.0617731627522234), ('인이가도/Verb', -0.0617731627522234), ('써/Verb', -0.0617731627522234), ('싼데/Verb', -0.0617731627522234), ('시키셔야/Verb', -0.0617731627522234), ('됩니다/Verb', -0.0617731627522234), ('서/Verb', -0.061964917196626466), ('모르겠는데/Verb', -0.061964917196626466), ('하던데/Verb', -0.06196600228282816), ('하는거/Verb', -0.06196600228282816), ('써라는/Verb', -0.06196600228282816), ('싶긴/Verb', -0.06196600228282816), ('모르고/Verb', -0.06196600228282816), ('썼는데/Verb', -0.06200193081574499), ('합니다/Verb', -0.06269760834301431), ('먹어도/Verb', -0.06269760834301431), ('구워주고/Verb', -0.06269760834301431), ('싼/Verb', -0.06320205826632323), ('해야하고/Verb', -0.06641113678931292), ('입는/Verb', -0.06641113678931292), ('떨어질/Verb', -0.06641113678931292), ('되고/Verb', -0.06641113678931292), ('찾아/Verb', -0.06837110299328673), ('먹었는데/Verb', -0.070924732311659), ('먹었으면/Verb', -0.07659140722185125), ('할수있나싶네요/Verb', -0.0772076433195315), ('가시는거라면/Verb', -0.0772076433195315), ('못/VerbPrefix', -0.0796784323921416), ('쳐다볼듯/Verb', -0.08007030355911669), ('알았습니다/Verb', -0.08007030355911669), ('썼으면/Verb', -0.08007030355911669), ('나가는줄/Verb', -0.08007030355911669), ('먹은/Verb', -0.08691005175018263), ('먹었네요/Verb', -0.08785278275405062), ('된다고/Verb', -0.08809940576504575), ('먹을/Verb', -0.09106763277148276), ('보이는/Verb', -0.0915915547584764), ('하기/Verb', -0.09172509970874698), ('비해/Verb', -0.09256529549743481), ('할께요/Verb', -0.0967551362150305), ('굽네요/Verb', -0.09733518428259494), ('뱉고싶은/Verb', -0.09910783768736103), ('넘/Verb', -0.09957261134416655), ('먹으면/Verb', -0.10036432183217645), ('하는/Verb', -0.1020286846558471), ('임데/Verb', -0.1036976869646301), ('와서/Verb', -0.1036976869646301), ('모르니/Verb', -0.1036976869646301), ('들어있어서/Verb', -0.10448269518335601), ('느끼한데/Verb', -0.10448269518335601), ('주고/Verb', -0.1052424716910094), ('긴/Verb', -0.10647588681240111), ('본/Verb', -0.10912151898389678), ('됨/Verb', -0.11048260786596639), ('가시길/Verb', -0.11244175279444592), ('가는게/Verb', -0.1147753676464544), ('나갈/Verb', -0.11841015716270782), ('돌아서/Verb', -0.12055286518912019), ('였음/Verb', -0.13330286302848776), ('났습니다/Verb', -0.13727075428580787), ('건지/Verb', -0.1511672707864169), ('마세요/Verb', -0.15411046558569513), ('씹다/Verb', -0.16014060711823339), ('뱉다/Verb', -0.16014060711823339), ('구워주는/Verb', -0.17881977753676645), ('모르지만/Verb', -0.1819462273117767), ('적다/Verb', -0.191650779891226), ('잡내/Verb', -0.19821567537472207), ('안/VerbPrefix', -0.1989155800423271), ('먹을수/Verb', -0.20979291805585376), ('만든게/Verb', -0.23784191903899501), ('해요/Verb', -0.2566912437246324), ('비추/Verb', -0.3477606508036099)]\n",
      "[('잘/Verb', 0.5894693997922896), ('채전/Verb', 0.28642190248183774), ('녹아/Verb', 0.2757200581401769), ('녹는다/Verb', 0.2757200581401769), ('싸고/Verb', 0.26726436875025483), ('구워주시고/Verb', 0.26058871772706954), ('먹었습니다/Verb', 0.2014810790839194), ('않는/Verb', 0.19510527785771536), ('않고/Verb', 0.17603043450652986), ('찾아가서/Verb', 0.16801118291918402), ('먹었다/Verb', 0.1657572102141867), ('감사한다/Verb', 0.1657572102141867), ('잘/VerbPrefix', 0.1655075773713074), ('먹는/Verb', 0.16124005211407755), ('먹어요/Verb', 0.15676284944078595), ('우십니다/Verb', 0.15572827141057574), ('여긴/Verb', 0.14867081801711074), ('되어/Verb', 0.14600039910458062), ('먹고싶을/Verb', 0.1439059240802688), ('먹자마자/Verb', 0.13661765481902297), ('가는/Verb', 0.13657965242054582), ('나고/Verb', 0.13622568560888734), ('보였어요/Verb', 0.13364517907656243), ('갑니당/Verb', 0.13364517907656243), ('왔습니다/Verb', 0.13097557644333502), ('하는데/Verb', 0.12350615239623114), ('구워줘서/Verb', 0.11503719392915636), ('먹으세요/Verb', 0.11479464441601968), ('내려서/Verb', 0.1141471319153446), ('구으세요/Verb', 0.1141471319153446), ('크고/Verb', 0.10753944718574611), ('하질/Verb', 0.10651270869851001), ('믿고/Verb', 0.10651270869851001), ('했던/Verb', 0.1037453832429978), ('하기도/Verb', 0.1037453832429978), ('지어졌어요/Verb', 0.1037453832429978), ('지키시고/Verb', 0.10266626255853047), ('살치실이랑/Verb', 0.10266626255853047), ('남깁니다/Verb', 0.10266626255853047), ('데려간/Verb', 0.1025921183927632), ('먹었어요/Verb', 0.10165621069358441), ('보내고/Verb', 0.09725210344768345), ('갔는데도/Verb', 0.09725210344768345), ('터지는/Verb', 0.09493529521944573), ('찐/Verb', 0.09493529521944573), ('맞게/Verb', 0.09493529521944573), ('터질거/Verb', 0.09317572788903825), ('먹고는/Verb', 0.09317572788903825), ('마실/Verb', 0.09317572788903825), ('나왔네요/Verb', 0.09317572788903825), ('나오면서도/Verb', 0.09317572788903825), ('해준거/Verb', 0.08441901894865862), ('보다/Verb', 0.08441901894865862), ('하면서/Verb', 0.08251161431790932), ('지/Verb', 0.08128772877262799), ('잇음/Verb', 0.08128772877262799), ('잇어서/Verb', 0.08128772877262799), ('앉으세요/Verb', 0.08128772877262799), ('들이/Verb', 0.08128772877262799), ('고쳐/Verb', 0.08128772877262799), ('이었어요/Verb', 0.07872862786995571), ('큰/Verb', 0.07615507082096956), ('쓰는게/Verb', 0.07615507082096956), ('갔을/Verb', 0.07615507082096956), ('왔어요/Verb', 0.07164668982881771), ('가본/Verb', 0.07105649572744538), ('채전은/Verb', 0.06529347927874316), ('찍어/Verb', 0.06529347927874316), ('않나요/Verb', 0.06529347927874316), ('먹죠/Verb', 0.06529347927874316), ('되요/Verb', 0.06529347927874316), ('한건데/Verb', 0.06176086218193916), ('튀기듯이/Verb', 0.06176086218193916), ('볶고/Verb', 0.06176086218193916), ('먹어야/Verb', 0.060922086755154696), ('주는데/Verb', 0.05762597805300589), ('해주셨고/Verb', 0.05664536061454299), ('봤는데/Verb', 0.05664536061454299), ('배고/Verb', 0.05664536061454299), ('몰라서/Verb', 0.05664536061454299), ('만들어주셔서/Verb', 0.05664536061454299), ('도와주시고/Verb', 0.05664536061454299), ('구워주셨어요/Verb', 0.05664536061454299), ('고를줄/Verb', 0.05664536061454299), ('고르도록/Verb', 0.05664536061454299), ('않은/Verb', 0.05469223107509782), ('먹을만/Verb', 0.05469223107509782), ('감사합니다/Verb', 0.050162206980471885), ('먹다가/Verb', 0.04780803194192151), ('하지/Verb', 0.03365376748095242), ('구워/Verb', 0.03322706522288993), ('하게/Verb', 0.025190182331234347), ('먹고/Verb', 0.024602085720743842), ('할/Verb', 0.023663085101526215), ('먹으러/Verb', 0.015886414264198866), ('버리고/Verb', 0.009900367558647368), ('했는데/Verb', 0.0097098496086388), ('해서/Verb', 0.007345762168688385), ('나와서/Verb', 0.005146898475186052), ('갔는데/Verb', 0.004675074057611074), ('흘리고/Verb', 0.0), ('헤맸는데/Verb', 0.0), ('했지만/Verb', 0.0), ('했을까요/Verb', 0.0), ('했으므로/Verb', 0.0), ('했어요/Verb', 0.0), ('했는데요/Verb', 0.0), ('했고/Verb', 0.0), ('했/Verb', 0.0), ('해줘야하는데/Verb', 0.0), ('해줌/Verb', 0.0), ('해주더니/Verb', 0.0), ('해주는/Verb', 0.0), ('해주고/Verb', 0.0), ('해야하는지는/Verb', 0.0), ('해야하는거/Verb', 0.0), ('해야/Verb', 0.0), ('해보니/Verb', 0.0), ('해놓고/Verb', 0.0), ('해/Verb', 0.0), ('할말은/Verb', 0.0), ('할께/Verb', 0.0), ('할것도/Verb', 0.0), ('한다고/Verb', 0.0), ('한꺼/Verb', 0.0), ('하여/Verb', 0.0), ('하신다/Verb', 0.0), ('하신/Verb', 0.0), ('하시려/Verb', 0.0), ('하시나요/Verb', 0.0), ('하시고/Verb', 0.0), ('하세요/Verb', 0.0), ('하려고/Verb', 0.0), ('하러/Verb', 0.0), ('하던것처럼/Verb', 0.0), ('하더라구요/Verb', 0.0), ('하니/Verb', 0.0), ('하길래/Verb', 0.0), ('하기에도/Verb', 0.0), ('하기에/Verb', 0.0), ('하겠다는/Verb', 0.0), ('팅기/Verb', 0.0), ('튀김전이어서/Verb', 0.0), ('튀긴/Verb', 0.0), ('터짐/Verb', 0.0), ('터지게/Verb', 0.0), ('태우시고/Verb', 0.0), ('태우듯이/Verb', 0.0), ('찾아볼/Verb', 0.0), ('찾아갔는데/Verb', 0.0), ('찾아갈까/Verb', 0.0), ('찾다니/Verb', 0.0), ('참/Verb', 0.0), ('차있어서/Verb', 0.0), ('차이는/Verb', 0.0), ('차는/Verb', 0.0), ('찍어서/Verb', 0.0), ('쩔어있고/Verb', 0.0), ('짠이/Verb', 0.0), ('짠단/Verb', 0.0), ('짠/Verb', 0.0), ('짜요/Verb', 0.0), ('짜리/Verb', 0.0), ('짜긴/Verb', 0.0), ('짜고/Verb', 0.0), ('질기/Verb', 0.0), ('지켜봤는데/Verb', 0.0), ('지우지/Verb', 0.0), ('지려/Verb', 0.0), ('지날/Verb', 0.0), ('즐길/Verb', 0.0), ('줘/Verb', 0.0), ('준다면서/Verb', 0.0), ('주든가/Verb', 0.0), ('주는/Verb', 0.0), ('주나요/Verb', 0.0), ('주고가는데/Verb', 0.0), ('적음/Verb', 0.0), ('적은거/Verb', 0.0), ('적은/Verb', 0.0), ('적어요/Verb', 0.0), ('적고/Verb', 0.0), ('적게/Verb', 0.0), ('잡치게/Verb', 0.0), ('잡은/Verb', 0.0), ('잡아주는/Verb', 0.0), ('잡아서/Verb', 0.0), ('잡내가/Verb', 0.0), ('잘라주/Verb', 0.0), ('잘라/Verb', 0.0), ('잘나오구요/Verb', 0.0), ('자르는/Verb', 0.0), ('잇게/Verb', 0.0), ('잃으면/Verb', 0.0), ('인당/Verb', 0.0), ('이었습니다/Verb', 0.0), ('이었는데/Verb', 0.0), ('이었구/Verb', 0.0), ('이었고/Verb', 0.0), ('이어/Verb', 0.0), ('이러기/Verb', 0.0), ('왔을/Verb', 0.0), ('왔는데/Verb', 0.0), ('와야겠네요/Verb', 0.0), ('옮겨/Verb', 0.0), ('올리고/Verb', 0.0), ('올려진/Verb', 0.0), ('올려놓고/Verb', 0.0), ('올려/Verb', 0.0), ('올랐어요/Verb', 0.0), ('올라간/Verb', 0.0), ('올게요/Verb', 0.0), ('올거/Verb', 0.0), ('오르구/Verb', 0.0), ('오고싶을/Verb', 0.0), ('오고싶은/Verb', 0.0), ('였으나/Verb', 0.0), ('였어요/Verb', 0.0), ('였어여/Verb', 0.0), ('였던걸/Verb', 0.0), ('였다/Verb', 0.0), ('였고/Verb', 0.0), ('업음/Verb', 0.0), ('알았음/Verb', 0.0), ('알았는데/Verb', 0.0), ('알려주/Verb', 0.0), ('알려/Verb', 0.0), ('알겠는데/Verb', 0.0), ('않지만/Verb', 0.0), ('않음/Verb', 0.0), ('않은데/Verb', 0.0), ('않은것/Verb', 0.0), ('않았지만/Verb', 0.0), ('않았으나/Verb', 0.0), ('않았다/Verb', 0.0), ('않아요/Verb', 0.0), ('않습니다/Verb', 0.0), ('않네요/Verb', 0.0), ('않네여/Verb', 0.0), ('앉자마자/Verb', 0.0), ('앉아도/Verb', 0.0), ('씻은/Verb', 0.0), ('씻는거/Verb', 0.0), ('씹는/Verb', 0.0), ('씁니다/Verb', 0.0), ('씀/Verb', 0.0), ('쓰이긴/Verb', 0.0), ('쓰시는거/Verb', 0.0), ('쓰는데/Verb', 0.0), ('쓰는/Verb', 0.0), ('쓰고/Verb', 0.0), ('쏘/Verb', 0.0), ('썼더니/Verb', 0.0), ('썰어서/Verb', 0.0), ('썬/Verb', 0.0), ('써줌/Verb', 0.0), ('싸서/Verb', 0.0), ('싸긴/Verb', 0.0), ('싸게/Verb', 0.0), ('싸/VerbPrefix', 0.0), ('싶음/Verb', 0.0), ('싶을/Verb', 0.0), ('싶으면/Verb', 0.0), ('싶어/Verb', 0.0), ('싶기도/Verb', 0.0), ('시킨것도/Verb', 0.0), ('시키는걸/Verb', 0.0), ('시켰으면/Verb', 0.0), ('시켰는데/Verb', 0.0), ('시켜/Verb', 0.0), ('서있음/Verb', 0.0), ('서야/Verb', 0.0), ('서는/Verb', 0.0), ('생겼습니다/Verb', 0.0), ('생겨서/Verb', 0.0), ('생각났는데/Verb', 0.0), ('생각나는/Verb', 0.0), ('생각나고/Verb', 0.0), ('삼킬수가/Verb', 0.0), ('살치/Verb', 0.0), ('살이었음/Verb', 0.0), ('살면서/Verb', 0.0), ('사준다/Verb', 0.0), ('사세요/Verb', 0.0), ('사먹을/Verb', 0.0), ('사는/Verb', 0.0), ('사갔는데/Verb', 0.0), ('빼곤/Verb', 0.0), ('빼고는/Verb', 0.0), ('빠지고/Verb', 0.0), ('빠지/Verb', 0.0), ('빠져나가는/Verb', 0.0), ('비었던데/Verb', 0.0), ('비는/Verb', 0.0), ('붙어있어요/Verb', 0.0), ('붙어있는/Verb', 0.0), ('붙어/Verb', 0.0), ('불렀더니/Verb', 0.0), ('불러도/Verb', 0.0), ('분이셔서/Verb', 0.0), ('봤더라/Verb', 0.0), ('봐주셔서/Verb', 0.0), ('봐야/Verb', 0.0), ('봐서/Verb', 0.0), ('본것/Verb', 0.0), ('보일테니까/Verb', 0.0), ('보이도록/Verb', 0.0), ('보였네요/Verb', 0.0), ('보면/Verb', 0.0), ('보는/Verb', 0.0), ('버려서/Verb', 0.0), ('밴다는/Verb', 0.0), ('받음/Verb', 0.0), ('받을/Verb', 0.0), ('받았습니다/Verb', 0.0), ('받기/Verb', 0.0), ('받고/Verb', 0.0), ('바라는게/Verb', 0.0), ('바꿔주는건/Verb', 0.0), ('바꿔/Verb', 0.0), ('물으면/Verb', 0.0), ('물어봤는데/Verb', 0.0), ('물어보면/Verb', 0.0), ('묻은/Verb', 0.0), ('몰랐다고/Verb', 0.0), ('몰라/Verb', 0.0), ('모르겠음/Verb', 0.0), ('모르겠네요/Verb', 0.0), ('먹음/Verb', 0.0), ('먹을만한/Verb', 0.0), ('먹을건/Verb', 0.0), ('먹을거면/Verb', 0.0), ('먹은게/Verb', 0.0), ('먹으면서/Verb', 0.0), ('먹으며/Verb', 0.0), ('먹었/Verb', 0.0), ('먹어서/Verb', 0.0), ('먹더라도/Verb', 0.0), ('먹다/Verb', 0.0), ('먹는줄/Verb', 0.0), ('먹는데/Verb', 0.0), ('먹는것도/Verb', 0.0), ('먹기전부터/Verb', 0.0), ('먹고싶진/Verb', 0.0), ('먹고싶었으나/Verb', 0.0), ('먹고다음/Verb', 0.0), ('먹고다/Verb', 0.0), ('먹고나서/Verb', 0.0), ('먹고나니/Verb', 0.0), ('먹고나/Verb', 0.0), ('먹고가요/Verb', 0.0), ('먹/Verb', 0.0), ('맵구/Verb', 0.0), ('맡/Verb', 0.0), ('맞고/Verb', 0.0), ('만들수있는/Verb', 0.0), ('마시면서/Verb', 0.0), ('마시고/Verb', 0.0), ('마셨나/Verb', 0.0), ('마셔/Verb', 0.0), ('떼는거/Verb', 0.0), ('떼기/Verb', 0.0), ('떨어지는/Verb', 0.0), ('떠주는데/Verb', 0.0), ('떠오르더라구요/Verb', 0.0), ('떠난다/Verb', 0.0), ('땡김소/Verb', 0.0), ('땀안/Verb', 0.0), ('딴데가세요/Verb', 0.0), ('따져도/Verb', 0.0), ('따먹었습니다/Verb', 0.0), ('따라/Verb', 0.0), ('듦/Verb', 0.0), ('들으시곤/Verb', 0.0), ('들었습니다/Verb', 0.0), ('들어있고/Verb', 0.0), ('들어왔는데/Verb', 0.0), ('들어와/Verb', 0.0), ('들어갔다가/Verb', 0.0), ('들어간거라고/Verb', 0.0), ('들어가자마자/Verb', 0.0), ('들어가서/Verb', 0.0), ('들어가는데/Verb', 0.0), ('들어가는/Verb', 0.0), ('들어가구/Verb', 0.0), ('들어/Verb', 0.0), ('들께는/Verb', 0.0), ('드시면/Verb', 0.0), ('드시는/Verb', 0.0), ('드세용/Verb', 0.0), ('드세요/Verb', 0.0), ('드립니다/Verb', 0.0), ('드려요/Verb', 0.0), ('드는/Verb', 0.0), ('둠을/Verb', 0.0), ('둠/Verb', 0.0), ('둘이가면/Verb', 0.0), ('둔/Verb', 0.0), ('될듯/Verb', 0.0), ('되도록/Verb', 0.0), ('되는데/Verb', 0.0), ('됐어요/Verb', 0.0), ('됐네요/Verb', 0.0), ('돼서/Verb', 0.0), ('돌아다면서/Verb', 0.0), ('데려왔는데/Verb', 0.0), ('던지시더라구요/Verb', 0.0), ('댓글단/Verb', 0.0), ('대박나세용/Verb', 0.0), ('닿는/Verb', 0.0), ('닮은/Verb', 0.0), ('다쳐도/Verb', 0.0), ('다신/Verb', 0.0), ('다시는/Verb', 0.0), ('다리는거/Verb', 0.0), ('다녀요/Verb', 0.0), ('다녀왔는데/Verb', 0.0), ('니당/Verb', 0.0), ('늦은/Verb', 0.0), ('늦게/Verb', 0.0), ('느낄/Verb', 0.0), ('느끼고/Verb', 0.0), ('느껴졌습니다/Verb', 0.0), ('눌러도/Verb', 0.0), ('놓고/Verb', 0.0), ('놀랐습니다/Verb', 0.0), ('놀랐던/Verb', 0.0), ('놀라실/Verb', 0.0), ('녹아요/Verb', 0.0), ('넣어주는게/Verb', 0.0), ('넘마/Verb', 0.0), ('냈는데/Verb', 0.0), ('냅고/Verb', 0.0), ('내려가지를/Verb', 0.0), ('내고/Verb', 0.0), ('났는지/Verb', 0.0), ('남겨주세요/Verb', 0.0), ('날라/Verb', 0.0), ('나왔는데/Verb', 0.0), ('나온다/Verb', 0.0), ('나온/Verb', 0.0), ('나오다/Verb', 0.0), ('나오는/Verb', 0.0), ('나오기/Verb', 0.0), ('나오고/Verb', 0.0), ('나았을듯/Verb', 0.0), ('나는줄/Verb', 0.0), ('나가는/Verb', 0.0), ('끝나고/Verb', 0.0), ('꼽힘/Verb', 0.0), ('꼈어요/Verb', 0.0), ('껴요/Verb', 0.0), ('깔려있음/Verb', 0.0), ('까요/Verb', 0.0), ('까먹은/Verb', 0.0), ('기다릴/Verb', 0.0), ('기다리는거/Verb', 0.0), ('기다려야하는지/Verb', 0.0), ('기다려서/Verb', 0.0), ('기다려/Verb', 0.0), ('그치만/Verb', 0.0), ('굽느라/Verb', 0.0), ('구워지는/Verb', 0.0), ('구워주시는/Verb', 0.0), ('구워주셔서/Verb', 0.0), ('구워주러/Verb', 0.0), ('구워주니까/Verb', 0.0), ('구워주는것도/Verb', 0.0), ('구워져서/Verb', 0.0), ('구워서/Verb', 0.0), ('곁들여/Verb', 0.0), ('걸린/Verb', 0.0), ('거치곤/Verb', 0.0), ('감사합니당/Verb', 0.0), ('감도/Verb', 0.0), ('갈만/Verb', 0.0), ('간하면/Verb', 0.0), ('가져다줄/Verb', 0.0), ('가져다가/Verb', 0.0), ('가네요/Verb', 0.0), ('가고싶지/Verb', 0.0), ('가겠지만/Verb', 0.0), ('가져다/Verb', -0.00022492911060793453), ('하네요/Verb', -0.0010188795445732867), ('갑니다/Verb', -0.0015191011990550256), ('먹어/Verb', -0.007351978743923682), ('하고/Verb', -0.016470898500218604), ('여쭤/Verb', -0.026617509052925585), ('보니/Verb', -0.03134888725612009), ('들/Verb', -0.03385729190211085), ('했으나/Verb', -0.035731904423920345), ('할수/Verb', -0.035731904423920345), ('되/Verb', -0.035731904423920345), ('했어도/Verb', -0.03829580510710053), ('하니까/Verb', -0.03829580510710053), ('하냐/Verb', -0.03829580510710053), ('않냐/Verb', -0.03829580510710053), ('물으니/Verb', -0.03829580510710053), ('맞춰서/Verb', -0.03829580510710053), ('돌아오는/Verb', -0.03829580510710053), ('가서/Verb', -0.038393952409691234), ('했습니다/Verb', -0.03915956862212467), ('하면/Verb', -0.040118029274619126), ('한/Verb', -0.04140547459212214), ('모르겠어요/Verb', -0.04286692809409718), ('보세요/Verb', -0.044377450747196096), ('맞다/Verb', -0.044377450747196096), ('들어올/Verb', -0.044377450747196096), ('드셔/Verb', -0.044377450747196096), ('질긴/Verb', -0.04516635377624898), ('빠지는/Verb', -0.04516635377624898), ('봤더니/Verb', -0.04516635377624898), ('해주시고/Verb', -0.04601366252718714), ('하였습니다/Verb', -0.04601366252718714), ('하며/Verb', -0.04601366252718714), ('적네라고/Verb', -0.04601366252718714), ('놓여있어서/Verb', -0.04601366252718714), ('남아있는/Verb', -0.04601366252718714), ('나가셨습니다/Verb', -0.04601366252718714), ('나가기/Verb', -0.04601366252718714), ('구웠던/Verb', -0.04601366252718714), ('가져가/Verb', -0.04601366252718714), ('가려는데/Verb', -0.04601366252718714), ('가/Verb', -0.04618129127109522), ('덮/Verb', -0.04657665607764576), ('했을/Verb', -0.04691210894837924), ('해주던가/Verb', -0.04756170241591945), ('크/Verb', -0.04756170241591945), ('않나/Verb', -0.04756170241591945), ('시켰더니/Verb', -0.04756170241591945), ('세게/Verb', -0.04756170241591945), ('비빈/Verb', -0.04756170241591945), ('벗고/Verb', -0.04756170241591945), ('만지고있지/Verb', -0.04756170241591945), ('돼있도/Verb', -0.04756170241591945), ('하셔서/Verb', -0.048407212251907514), ('튀고/Verb', -0.048407212251907514), ('시킬/Verb', -0.048407212251907514), ('쉽습니다/Verb', -0.048407212251907514), ('먹었는지/Verb', -0.048407212251907514), ('뒤집으면/Verb', -0.048407212251907514), ('겨진/Verb', -0.048407212251907514), ('먹으라는/Verb', -0.04865850276967964), ('해주신/Verb', -0.050278232028616025), ('짠의/Verb', -0.050278232028616025), ('질리는/Verb', -0.050278232028616025), ('된/Verb', -0.050278232028616025), ('되는/Verb', -0.050278232028616025), ('됐는데/Verb', -0.050278232028616025), ('갔었고/Verb', -0.050278232028616025), ('가게/Verb', -0.050278232028616025), ('했네요/Verb', -0.05058093361949722), ('짜/Verb', -0.05058093361949722), ('이었/Verb', -0.05058093361949722), ('사먹었네요/Verb', -0.05058093361949722), ('기대도/Verb', -0.05058093361949722), ('갈/Verb', -0.05072527431775246), ('틀어주고/Verb', -0.052149936280013076), ('익은게/Verb', -0.052149936280013076), ('익은거라고/Verb', -0.052149936280013076), ('오시길래/Verb', -0.052149936280013076), ('보이는데/Verb', -0.052149936280013076), ('보여주니/Verb', -0.052149936280013076), ('물어보니/Verb', -0.052149936280013076), ('묶은/Verb', -0.052149936280013076), ('넘었음/Verb', -0.052149936280013076), ('넘게/Verb', -0.052149936280013076), ('기다리라는/Verb', -0.052149936280013076), ('구웠어요/Verb', -0.052149936280013076), ('가시던데/Verb', -0.052149936280013076), ('했음/Verb', -0.054444108474788006), ('하는건/Verb', -0.05763745510122376), ('와/Verb', -0.057817384042721465), ('갔다가/Verb', -0.057817384042721465), ('지움/Verb', -0.061480671276928966), ('왔다가/Verb', -0.061480671276928966), ('쓰니/Verb', -0.061480671276928966), ('붙어있는데/Verb', -0.061480671276928966), ('하시는건/Verb', -0.0617731627522234), ('인이가도/Verb', -0.0617731627522234), ('써/Verb', -0.0617731627522234), ('싼데/Verb', -0.0617731627522234), ('시키셔야/Verb', -0.0617731627522234), ('됩니다/Verb', -0.0617731627522234), ('서/Verb', -0.061964917196626466), ('모르겠는데/Verb', -0.061964917196626466), ('하던데/Verb', -0.06196600228282816), ('하는거/Verb', -0.06196600228282816), ('써라는/Verb', -0.06196600228282816), ('싶긴/Verb', -0.06196600228282816), ('모르고/Verb', -0.06196600228282816), ('썼는데/Verb', -0.06200193081574499), ('합니다/Verb', -0.06269760834301431), ('먹어도/Verb', -0.06269760834301431), ('구워주고/Verb', -0.06269760834301431), ('싼/Verb', -0.06320205826632323), ('해야하고/Verb', -0.06641113678931292), ('입는/Verb', -0.06641113678931292), ('떨어질/Verb', -0.06641113678931292), ('되고/Verb', -0.06641113678931292), ('찾아/Verb', -0.06837110299328673), ('먹었는데/Verb', -0.070924732311659), ('먹었으면/Verb', -0.07659140722185125), ('할수있나싶네요/Verb', -0.0772076433195315), ('가시는거라면/Verb', -0.0772076433195315), ('못/VerbPrefix', -0.0796784323921416), ('쳐다볼듯/Verb', -0.08007030355911669), ('알았습니다/Verb', -0.08007030355911669), ('썼으면/Verb', -0.08007030355911669), ('나가는줄/Verb', -0.08007030355911669), ('먹은/Verb', -0.08691005175018263), ('먹었네요/Verb', -0.08785278275405062), ('된다고/Verb', -0.08809940576504575), ('먹을/Verb', -0.09106763277148276), ('보이는/Verb', -0.0915915547584764), ('하기/Verb', -0.09172509970874698), ('비해/Verb', -0.09256529549743481), ('할께요/Verb', -0.0967551362150305), ('굽네요/Verb', -0.09733518428259494), ('뱉고싶은/Verb', -0.09910783768736103), ('넘/Verb', -0.09957261134416655), ('먹으면/Verb', -0.10036432183217645), ('하는/Verb', -0.1020286846558471), ('임데/Verb', -0.1036976869646301), ('와서/Verb', -0.1036976869646301), ('모르니/Verb', -0.1036976869646301), ('들어있어서/Verb', -0.10448269518335601), ('느끼한데/Verb', -0.10448269518335601), ('주고/Verb', -0.1052424716910094), ('긴/Verb', -0.10647588681240111), ('본/Verb', -0.10912151898389678)]\n",
      "[('감자/Noun', 0.3114609843892558), ('거기/Noun', 0.2806499350955711), ('매번/Noun', 0.2789371106946222), ('최고/Noun', 0.25258984808261836), ('갈비/Noun', 0.2503174045950553), ('육즙/Noun', 0.23200290919347732), ('웨이팅/Noun', 0.22064944872664283), ('이름/Noun', 0.21605050100689208), ('완전/Noun', 0.2119192868568683), ('고기/Noun', 0.19400846911720018)]\n"
     ]
    },
    {
     "data": {
      "text/plain": [
       "[('맛있게/Adjective', 0.5719768708883648),\n",
       " ('맛있고/Adjective', 0.3754851196097518),\n",
       " ('만족했어요/Adjective', 0.2926271190372642),\n",
       " ('맛있어요/Adjective', 0.2881506354549355),\n",
       " ('있습니다/Adjective', 0.2801316096891562),\n",
       " ('맛있네요/Adjective', 0.26672128464372274),\n",
       " ('좋아서/Adjective', 0.2525556150202813),\n",
       " ('맛있음/Adjective', 0.24108576256437864),\n",
       " ('정갈하게/Adjective', 0.20746285543041781),\n",
       " ('비싸지만/Adjective', 0.19357323605082843)]"
      ]
     },
     "execution_count": 46,
     "metadata": {},
     "output_type": "execute_result"
    }
   ],
   "source": [
    "num = []\n",
    "for coef in coef_pos_index:\n",
    "    if 'Verb' in invert_index_vectorizer[coef[1]]:\n",
    "        num.append((invert_index_vectorizer[coef[1]], coef[0]))\n",
    "print(num[20:])\n",
    "print(num[:-20])\n",
    "\n",
    "noun_list = []\n",
    "adjective_list = []\n",
    "#명사 형용사 계수가 높은 상위 10개의 형태소 추출\n",
    "for coef in coef_pos_index[:100]:\n",
    "    pos_category =invert_index_vectorizer[coef[1]].split('/')[1]\n",
    "    if pos_category =='Noun':\n",
    "        noun_list.append((invert_index_vectorizer[coef[1]], coef[0]))\n",
    "    elif pos_category =='Adjective':\n",
    "        adjective_list.append((invert_index_vectorizer[coef[1]], coef[0]))\n",
    "        \n",
    "print(noun_list[:10])\n",
    "adjective_list[:10]"
   ]
  },
  {
   "cell_type": "code",
   "execution_count": null,
   "id": "6bdc8768",
   "metadata": {},
   "outputs": [],
   "source": []
  }
 ],
 "metadata": {
  "kernelspec": {
   "display_name": "text",
   "language": "python",
   "name": "text"
  },
  "language_info": {
   "codemirror_mode": {
    "name": "ipython",
    "version": 3
   },
   "file_extension": ".py",
   "mimetype": "text/x-python",
   "name": "python",
   "nbconvert_exporter": "python",
   "pygments_lexer": "ipython3",
   "version": "3.7.10"
  }
 },
 "nbformat": 4,
 "nbformat_minor": 5
}
