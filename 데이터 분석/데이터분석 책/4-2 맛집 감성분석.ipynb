{
 "cells": [
  {
   "cell_type": "markdown",
   "id": "occupational-serum",
   "metadata": {},
   "source": [
    "# 네이버 맛집 정적 크롤링( 네이버가 서비스 안함..)"
   ]
  },
  {
   "cell_type": "code",
   "execution_count": 5,
   "id": "expired-estonia",
   "metadata": {
    "collapsed": true
   },
   "outputs": [
    {
     "ename": "JSONDecodeError",
     "evalue": "Expecting value: line 1 column 1 (char 0)",
     "output_type": "error",
     "traceback": [
      "\u001b[1;31m---------------------------------------------------------------------------\u001b[0m",
      "\u001b[1;31mJSONDecodeError\u001b[0m                           Traceback (most recent call last)",
      "\u001b[1;32m<ipython-input-5-a7d2f4e476e8>\u001b[0m in \u001b[0;36m<module>\u001b[1;34m\u001b[0m\n\u001b[0;32m     21\u001b[0m \u001b[1;31m#반환받은 API 데이터에 json.loads 함수를 사용\u001b[0m\u001b[1;33m\u001b[0m\u001b[1;33m\u001b[0m\u001b[1;33m\u001b[0m\u001b[0m\n\u001b[0;32m     22\u001b[0m \u001b[0mjson_data\u001b[0m \u001b[1;33m=\u001b[0m \u001b[0mrequests\u001b[0m\u001b[1;33m.\u001b[0m\u001b[0mget\u001b[0m\u001b[1;33m(\u001b[0m\u001b[0murl_concat\u001b[0m\u001b[1;33m)\u001b[0m\u001b[1;33m.\u001b[0m\u001b[0mtext\u001b[0m\u001b[1;33m\u001b[0m\u001b[1;33m\u001b[0m\u001b[0m\n\u001b[1;32m---> 23\u001b[1;33m \u001b[0mrestaurant_list_data\u001b[0m \u001b[1;33m=\u001b[0m \u001b[0mjson\u001b[0m\u001b[1;33m.\u001b[0m\u001b[0mloads\u001b[0m\u001b[1;33m(\u001b[0m\u001b[0mjson_data\u001b[0m\u001b[1;33m)\u001b[0m\u001b[1;33m\u001b[0m\u001b[1;33m\u001b[0m\u001b[0m\n\u001b[0m\u001b[0;32m     24\u001b[0m \u001b[1;33m\u001b[0m\u001b[0m\n\u001b[0;32m     25\u001b[0m \u001b[1;31m#관련도순 상위 100개의 고기집 리스트 정보를 추출\u001b[0m\u001b[1;33m\u001b[0m\u001b[1;33m\u001b[0m\u001b[1;33m\u001b[0m\u001b[0m\n",
      "\u001b[1;32mc:\\users\\wodud\\appdata\\local\\programs\\python\\python37\\lib\\json\\__init__.py\u001b[0m in \u001b[0;36mloads\u001b[1;34m(s, encoding, cls, object_hook, parse_float, parse_int, parse_constant, object_pairs_hook, **kw)\u001b[0m\n\u001b[0;32m    346\u001b[0m             \u001b[0mparse_int\u001b[0m \u001b[1;32mis\u001b[0m \u001b[1;32mNone\u001b[0m \u001b[1;32mand\u001b[0m \u001b[0mparse_float\u001b[0m \u001b[1;32mis\u001b[0m \u001b[1;32mNone\u001b[0m \u001b[1;32mand\u001b[0m\u001b[1;33m\u001b[0m\u001b[1;33m\u001b[0m\u001b[0m\n\u001b[0;32m    347\u001b[0m             parse_constant is None and object_pairs_hook is None and not kw):\n\u001b[1;32m--> 348\u001b[1;33m         \u001b[1;32mreturn\u001b[0m \u001b[0m_default_decoder\u001b[0m\u001b[1;33m.\u001b[0m\u001b[0mdecode\u001b[0m\u001b[1;33m(\u001b[0m\u001b[0ms\u001b[0m\u001b[1;33m)\u001b[0m\u001b[1;33m\u001b[0m\u001b[1;33m\u001b[0m\u001b[0m\n\u001b[0m\u001b[0;32m    349\u001b[0m     \u001b[1;32mif\u001b[0m \u001b[0mcls\u001b[0m \u001b[1;32mis\u001b[0m \u001b[1;32mNone\u001b[0m\u001b[1;33m:\u001b[0m\u001b[1;33m\u001b[0m\u001b[1;33m\u001b[0m\u001b[0m\n\u001b[0;32m    350\u001b[0m         \u001b[0mcls\u001b[0m \u001b[1;33m=\u001b[0m \u001b[0mJSONDecoder\u001b[0m\u001b[1;33m\u001b[0m\u001b[1;33m\u001b[0m\u001b[0m\n",
      "\u001b[1;32mc:\\users\\wodud\\appdata\\local\\programs\\python\\python37\\lib\\json\\decoder.py\u001b[0m in \u001b[0;36mdecode\u001b[1;34m(self, s, _w)\u001b[0m\n\u001b[0;32m    335\u001b[0m \u001b[1;33m\u001b[0m\u001b[0m\n\u001b[0;32m    336\u001b[0m         \"\"\"\n\u001b[1;32m--> 337\u001b[1;33m         \u001b[0mobj\u001b[0m\u001b[1;33m,\u001b[0m \u001b[0mend\u001b[0m \u001b[1;33m=\u001b[0m \u001b[0mself\u001b[0m\u001b[1;33m.\u001b[0m\u001b[0mraw_decode\u001b[0m\u001b[1;33m(\u001b[0m\u001b[0ms\u001b[0m\u001b[1;33m,\u001b[0m \u001b[0midx\u001b[0m\u001b[1;33m=\u001b[0m\u001b[0m_w\u001b[0m\u001b[1;33m(\u001b[0m\u001b[0ms\u001b[0m\u001b[1;33m,\u001b[0m \u001b[1;36m0\u001b[0m\u001b[1;33m)\u001b[0m\u001b[1;33m.\u001b[0m\u001b[0mend\u001b[0m\u001b[1;33m(\u001b[0m\u001b[1;33m)\u001b[0m\u001b[1;33m)\u001b[0m\u001b[1;33m\u001b[0m\u001b[1;33m\u001b[0m\u001b[0m\n\u001b[0m\u001b[0;32m    338\u001b[0m         \u001b[0mend\u001b[0m \u001b[1;33m=\u001b[0m \u001b[0m_w\u001b[0m\u001b[1;33m(\u001b[0m\u001b[0ms\u001b[0m\u001b[1;33m,\u001b[0m \u001b[0mend\u001b[0m\u001b[1;33m)\u001b[0m\u001b[1;33m.\u001b[0m\u001b[0mend\u001b[0m\u001b[1;33m(\u001b[0m\u001b[1;33m)\u001b[0m\u001b[1;33m\u001b[0m\u001b[1;33m\u001b[0m\u001b[0m\n\u001b[0;32m    339\u001b[0m         \u001b[1;32mif\u001b[0m \u001b[0mend\u001b[0m \u001b[1;33m!=\u001b[0m \u001b[0mlen\u001b[0m\u001b[1;33m(\u001b[0m\u001b[0ms\u001b[0m\u001b[1;33m)\u001b[0m\u001b[1;33m:\u001b[0m\u001b[1;33m\u001b[0m\u001b[1;33m\u001b[0m\u001b[0m\n",
      "\u001b[1;32mc:\\users\\wodud\\appdata\\local\\programs\\python\\python37\\lib\\json\\decoder.py\u001b[0m in \u001b[0;36mraw_decode\u001b[1;34m(self, s, idx)\u001b[0m\n\u001b[0;32m    353\u001b[0m             \u001b[0mobj\u001b[0m\u001b[1;33m,\u001b[0m \u001b[0mend\u001b[0m \u001b[1;33m=\u001b[0m \u001b[0mself\u001b[0m\u001b[1;33m.\u001b[0m\u001b[0mscan_once\u001b[0m\u001b[1;33m(\u001b[0m\u001b[0ms\u001b[0m\u001b[1;33m,\u001b[0m \u001b[0midx\u001b[0m\u001b[1;33m)\u001b[0m\u001b[1;33m\u001b[0m\u001b[1;33m\u001b[0m\u001b[0m\n\u001b[0;32m    354\u001b[0m         \u001b[1;32mexcept\u001b[0m \u001b[0mStopIteration\u001b[0m \u001b[1;32mas\u001b[0m \u001b[0merr\u001b[0m\u001b[1;33m:\u001b[0m\u001b[1;33m\u001b[0m\u001b[1;33m\u001b[0m\u001b[0m\n\u001b[1;32m--> 355\u001b[1;33m             \u001b[1;32mraise\u001b[0m \u001b[0mJSONDecodeError\u001b[0m\u001b[1;33m(\u001b[0m\u001b[1;34m\"Expecting value\"\u001b[0m\u001b[1;33m,\u001b[0m \u001b[0ms\u001b[0m\u001b[1;33m,\u001b[0m \u001b[0merr\u001b[0m\u001b[1;33m.\u001b[0m\u001b[0mvalue\u001b[0m\u001b[1;33m)\u001b[0m \u001b[1;32mfrom\u001b[0m \u001b[1;32mNone\u001b[0m\u001b[1;33m\u001b[0m\u001b[1;33m\u001b[0m\u001b[0m\n\u001b[0m\u001b[0;32m    356\u001b[0m         \u001b[1;32mreturn\u001b[0m \u001b[0mobj\u001b[0m\u001b[1;33m,\u001b[0m \u001b[0mend\u001b[0m\u001b[1;33m\u001b[0m\u001b[1;33m\u001b[0m\u001b[0m\n",
      "\u001b[1;31mJSONDecodeError\u001b[0m: Expecting value: line 1 column 1 (char 0)"
     ]
    }
   ],
   "source": [
    "#맛집 분류 \n",
    "#네이버 서비스 막힘\n",
    "%matplotlib inline\n",
    "#관려도순 상위 100개의 고기집 리스트 정보 API구하기\n",
    "import pandas as pd\n",
    "import numpy as np\n",
    "import matplotlib as plt\n",
    "import seaborn as sns\n",
    "import requests\n",
    "import json\n",
    "\n",
    "#네이버 플레이스 API를 호출하기위한 주소\n",
    "source_url = \"https://store.naver.com/sogum/api/businesses\"\n",
    "\n",
    "#검색 규칙 파라미터 추가\n",
    "url_parameter_start = 'start=1'\n",
    "url_parameter_display = '&display='\n",
    "url_parameter_query='&query=강남역+고기집'\n",
    "url_parameter_sorting = \"&sortingOrder=precision\"\n",
    "url_concat = source_url + url_parameter_start + url_parameter_display + str(100) + url_parameter_query +url_parameter_sorting\n",
    "\n",
    "#반환받은 API 데이터에 json.loads 함수를 사용\n",
    "json_data = requests.get(url_concat).text\n",
    "restaurant_list_data = json.loads(json_data)\n",
    "\n",
    "#관련도순 상위 100개의 고기집 리스트 정보를 추출\n",
    "print(str(restaurant_list_data))\n"
   ]
  },
  {
   "attachments": {
    "image.png": {
     "image/png": "[encoded data removed]"
    }
   },
   "cell_type": "markdown",
   "id": "applicable-youth",
   "metadata": {},
   "source": [
    "![image.png](attachment:image.png)"
   ]
  },
  {
   "cell_type": "code",
   "execution_count": null,
   "id": "portable-bulgaria",
   "metadata": {},
   "outputs": [],
   "source": [
    "import requests\n",
    "from bs4 BeautifulSoup\n",
    "import re\n",
    "#크롤링에 필요한 id정보 추출\n",
    "restaurant_id_list = []\n",
    "\n",
    "\n",
    "#100개씩의 Api 호출 결과를 10회 가져온다 \n",
    "for start_idx in [1,101,201,301,401,501,601,701,801,901]:\n",
    "    \n",
    "    #네이버 플레시으 API를 호출 위한 기본주소 \n",
    "    source_url = 'https://store.naver.com/sogum/api/businesses'\n",
    "    \n",
    "    #검색 규칙 파라미터를 추가\n",
    "    url_parameter_start = 'start=' +str(start_idx)\n",
    "    url_parameter_display = '&display='\n",
    "    url_parameter_query='&query=강남역+고기집'\n",
    "    url_parameter_sorting = \"&sortingOrder=precision\"\n",
    "    url_concat = source_url + url_parameter_start + url_parameter_display + str(start_idx+99) + url_parameter_query +url_parameter_sorting\n",
    "    \n",
    "    json_data = requests.get(url_concat).text\n",
    "    restaurant_list_data = json.load(json_data)\n",
    "    # 크롤링에 필요한 각 리뷰 상세 페이지의 id를 추출\n",
    "    for restaurant in restaurant_list_data['items']:\n",
    "        if 'moreBookingReviewsPath' in restaurant:\n",
    "            restaurant_id_list.append(restaurant['id'])\n",
    "\n",
    "restaurant_id_list = list(set(restaurant_id_list)) #레스토랑 id 를 크롤링해서 집어 넣는다 \n",
    "\n",
    "\n",
    "columns = ['score', 'review']\n",
    "\n",
    "#데이터 프레임을 만든다 \n",
    "df = pd.DataFrame(columns = columns)\n",
    "\n",
    "#리뷰 상세 페이지의 기본 주소\n",
    "source_url_head = 'https://store.naver.com/restaurants/detail?id='\n",
    "source_url_tail = '&tab=bookingReview#_tab'\n",
    "\n",
    "\n",
    "for idx in range(0, len(restaurant_id_list)):\n",
    "    \n",
    "    #앞서 추출한 리뷰 상세 페이지의 레스토랑 id를 기본 주소의 파라미터로 추가\n",
    "    #레스토랑 아이디 페이지\n",
    "    req = requests.get(source_url_head + str(restaurant_id_list[idx]) + source_url_tail)\n",
    "    #아이디 내용\n",
    "    html = req.content\n",
    "    #파싱\n",
    "    soup = BeautifulSoup(html, 'lxml')\n",
    "    #review_area 파씽\n",
    "    review_area = soup.find(name = 'div', attrs = {'class':'review_area'})\n",
    "    \n",
    "    #리뷰가 없는 페이즌 아무 작업도 수행하지 않습니다  (다음꺼 수행)\n",
    "    if review_area is None:\n",
    "        continue\n",
    "    \n",
    "    #개발자 도구로 살펴본 html 구조에서 리뷰의 점수, 텍스트 부분을 추출\n",
    "    review_list = review_area.find_all(name = 'div', attrs = {'class': 'info_area'})\n",
    "    for review in review_list:\n",
    "        score = review.find(name = 'span', attrs = {'class' : 'score'}).text\n",
    "        review_txt = review.find(name='div', attrs={'class':'review_txt'}).text\n",
    "        \n",
    "        #추출한 리뷰의 점수, 리뷰텍스트를 데이터프레임으로 병합\n",
    "        row = [score,review_txt]\n",
    "        #series를 {'score': }\n",
    "        series = pd.Series(row, index=df.columns)\n",
    "        df = df.append(series, ignore_index = True)\n",
    "\n",
    "# 4점 이상의 리뷰는 긍정 리뷰, 3점이하의 리뷰는 부정리뷰로 평가\n",
    "df['y'] = df['score'].apply(lambda x: 1 if int(x) > 3 else 0)\n",
    "print(df.shape)\n",
    "df.head()\n",
    "\n",
    "\n"
   ]
  },
  {
   "cell_type": "markdown",
   "id": "optical-samuel",
   "metadata": {},
   "source": [
    "# 궁금해서 테스트 "
   ]
  },
  {
   "cell_type": "code",
   "execution_count": 17,
   "id": "russian-answer",
   "metadata": {},
   "outputs": [
    {
     "name": "stdout",
     "output_type": "stream",
     "text": [
      "score      123\n",
      "review    1234\n",
      "dtype: object\n"
     ]
    },
    {
     "data": {
      "text/html": [
       "<div>\n",
       "<style scoped>\n",
       "    .dataframe tbody tr th:only-of-type {\n",
       "        vertical-align: middle;\n",
       "    }\n",
       "\n",
       "    .dataframe tbody tr th {\n",
       "        vertical-align: top;\n",
       "    }\n",
       "\n",
       "    .dataframe thead th {\n",
       "        text-align: right;\n",
       "    }\n",
       "</style>\n",
       "<table border=\"1\" class=\"dataframe\">\n",
       "  <thead>\n",
       "    <tr style=\"text-align: right;\">\n",
       "      <th></th>\n",
       "      <th>score</th>\n",
       "      <th>review</th>\n",
       "    </tr>\n",
       "  </thead>\n",
       "  <tbody>\n",
       "    <tr>\n",
       "      <th>0</th>\n",
       "      <td>123</td>\n",
       "      <td>1234</td>\n",
       "    </tr>\n",
       "    <tr>\n",
       "      <th>1</th>\n",
       "      <td>123</td>\n",
       "      <td>1234</td>\n",
       "    </tr>\n",
       "  </tbody>\n",
       "</table>\n",
       "</div>"
      ],
      "text/plain": [
       "  score review\n",
       "0   123   1234\n",
       "1   123   1234"
      ]
     },
     "execution_count": 17,
     "metadata": {},
     "output_type": "execute_result"
    }
   ],
   "source": [
    "columns = ['score', 'review']\n",
    "\n",
    "test = pd.DataFrame(columns = columns)\n",
    "test_row = ['123','1234']\n",
    "test_series = pd.Series(test_row, index = test.columns)\n",
    "print(test_series) #test_series = {'score':['123'], 'reivew':['1234']}\n",
    "test =test.append(test_series, ignore_index = True)\n",
    "test =test.append(test_series, ignore_index = True)\n",
    "test"
   ]
  },
  {
   "cell_type": "markdown",
   "id": "structural-organizer",
   "metadata": {},
   "source": [
    "# 카카오 맛집 (동적 크롤링)"
   ]
  },
  {
   "cell_type": "code",
   "execution_count": 1,
   "id": "dress-possibility",
   "metadata": {
    "scrolled": true
   },
   "outputs": [
    {
     "name": "stdout",
     "output_type": "stream",
     "text": [
      "https://place.map.kakao.com/85570955\n",
      "https://place.map.kakao.com/1503746075\n",
      "https://place.map.kakao.com/95713992\n",
      "https://place.map.kakao.com/741391811\n",
      "https://place.map.kakao.com/2011092566\n",
      "https://place.map.kakao.com/13573220\n",
      "https://place.map.kakao.com/2062959414\n",
      "https://place.map.kakao.com/1648266796\n",
      "https://place.map.kakao.com/168079537\n",
      "https://place.map.kakao.com/263830255\n",
      "https://place.map.kakao.com/27238067\n",
      "https://place.map.kakao.com/26431943\n",
      "https://place.map.kakao.com/1780387311\n",
      "https://place.map.kakao.com/1907052666\n",
      "https://place.map.kakao.com/1052874675\n",
      "https://place.map.kakao.com/1576421052\n"
     ]
    }
   ],
   "source": [
    "from selenium import webdriver\n",
    "from bs4 import BeautifulSoup\n",
    "import re\n",
    "import time\n",
    "\n",
    "# brew 로 설치된 chromedriver의 path (Mac)\n",
    "path = '/usr/local/bin/chromedriver'\n",
    "\n",
    "# 윈도우용 크롬 웹드라이버 실행 경로 (Windows)\n",
    "excutable_path = 'C:/chromedriver.exe'\n",
    "\n",
    "# 크롤링할 사이트 주소를 정의합니다.\n",
    "source_url = \"https://map.kakao.com/\"\n",
    "\n",
    "# 크롬 드라이버를 사용합니다 (맥은 첫 줄, 윈도우는 두번째 줄 실행)\n",
    "# driver = webdriver.Chrome(path)\n",
    "driver = webdriver.Chrome(executable_path=excutable_path)\n",
    "\n",
    "# 카카오 지도에 접속합니다\n",
    "driver.get(source_url)\n",
    "\n",
    "# 검색창에 검색어를 입력합니다\n",
    "searchbox = driver.find_element_by_xpath(\"//input[@id='search.keyword.query']\")\n",
    "searchbox.send_keys(\"강남역 고기집\")\n",
    "\n",
    "# 검색버튼을 눌러서 결과를 가져옵니다\n",
    "searchbutton = driver.find_element_by_xpath(\"//button[@id='search.keyword.submit']\")\n",
    "driver.execute_script(\"arguments[0].click();\", searchbutton)\n",
    "\n",
    "# 검색 결과를 가져올 시간을 기다립니다\n",
    "time.sleep(2)\n",
    "\n",
    "# 검색 결과의 페이지 소스를 가져옵니다\n",
    "html = driver.page_source\n",
    "\n",
    "# BeautifulSoup을 이용하여 html 정보를 파싱합니다\n",
    "soup = BeautifulSoup(html, \"html.parser\")\n",
    "moreviews = soup.find_all(name=\"a\", attrs={\"class\":\"moreview\"})\n",
    "\n",
    "# a태그의 href 속성을 리스트로 추출하여, 크롤링 할 페이지 리스트를 생성합니다.\n",
    "page_urls = []\n",
    "for moreview in moreviews:\n",
    "    page_url = moreview.get(\"href\")\n",
    "    print(page_url)\n",
    "    page_urls.append(page_url)\n",
    "\n",
    "# 크롤링에 사용한 브라우저를 종료합니다.\n",
    "driver.close()"
   ]
  },
  {
   "cell_type": "markdown",
   "id": "choice-canberra",
   "metadata": {},
   "source": [
    "### [맛집 리뷰 정보 크롤링]"
   ]
  },
  {
   "cell_type": "code",
   "execution_count": 3,
   "id": "intended-intellectual",
   "metadata": {},
   "outputs": [
    {
     "name": "stdout",
     "output_type": "stream",
     "text": [
      "[<em class=\"num_rate\">1<span class=\"screen_out\">점</span></em>, <em class=\"num_rate\">5<span class=\"screen_out\">점</span></em>, <em class=\"num_rate\">5<span class=\"screen_out\">점</span></em>, <em class=\"num_rate\">4<span class=\"screen_out\">점</span></em>, <em class=\"num_rate\">4<span class=\"screen_out\">점</span></em>]\n",
      "[<p class=\"txt_comment\"><span>예약할 때는 룸을 주기로 하고 홀을 주고, 덥고, 직원들이 정신이 없어 그 가격에 내가 직접 구워먹고 갈비살, 등심은 질기고 냉면은 맛이 없고 장어 양념들도 제 때 안 가져다 주고 회식으로 한시간만에 120만원을 썼는데 이런 경험 처음입니다.</span><button class=\"btn_fold\" type=\"button\">더보기</button></p>, <p class=\"txt_comment\"><span>점심식사 잘했던곳.후식커피한잔 하기도 좋고 주차가능합니다. 음식 맛있고 직원분 친절하여 절로 미소가 지어졌어요. </span><button class=\"btn_fold\" type=\"button\">더보기</button></p>, <p class=\"txt_comment\"><span>新鮮でおいしいです。</span><button class=\"btn_fold\" type=\"button\">더보기</button></p>, <p class=\"txt_comment\"><span>녹는다 녹아</span><button class=\"btn_fold\" type=\"button\">더보기</button></p>, <p class=\"txt_comment\"><span></span><button class=\"btn_fold\" type=\"button\">더보기</button></p>]\n",
      "[<em class=\"num_rate\">5<span class=\"screen_out\">점</span></em>, <em class=\"num_rate\">1<span class=\"screen_out\">점</span></em>, <em class=\"num_rate\">1<span class=\"screen_out\">점</span></em>, <em class=\"num_rate\">2<span class=\"screen_out\">점</span></em>, <em class=\"num_rate\">2<span class=\"screen_out\">점</span></em>]\n",
      "[<p class=\"txt_comment\"><span></span><button class=\"btn_fold\" type=\"button\">더보기</button></p>, <p class=\"txt_comment\"><span>원래 리뷰 아예안쓰는데 처음 씁니다.  오랜만에 왔는데 서비스는 개나 줘버리고 고기올려놓고 까먹은건지 뭔지 오지도 않고 이게 소고기인지 고무씹는건지 모르겠네요. 맛있다고 지인 데려왔는데 다신 안올거같아요 만원짜리 삼겹살집이 더 나았을듯 </span><button class=\"btn_fold\" type=\"button\">더보기</button></p>, <p class=\"txt_comment\"><span>아니 고기 몇만원어치를 먹는데 계속 안구워주고 벨을 눌러도 묵묵 부답 진짜 비싼값내고 먹는데 짜증나 죽을뻔함</span><button class=\"btn_fold\" type=\"button\">더보기</button></p>, <p class=\"txt_comment\"><span>5월초 당일전화 예약방문. 주메뉴 3개 있는 고깃집에 안심이 없다함. 착석전에 카운터에서 알려주든가. 마늘 다 타들어가서 불렀더니 멀뚱거리며 어쩌라고 하는 표정으로 서있음. 테이블수 대비 인원이 많이 부족해보임. </span><button class=\"btn_fold\" type=\"button\">더보기</button></p>, <p class=\"txt_comment\"><span>가격 대비 서비스나 실수 후 응대가 너무 별로입니다</span><button class=\"btn_fold\" type=\"button\">더보기</button></p>]\n",
      "[<em class=\"num_rate\">1<span class=\"screen_out\">점</span></em>, <em class=\"num_rate\">3<span class=\"screen_out\">점</span></em>, <em class=\"num_rate\">5<span class=\"screen_out\">점</span></em>, <em class=\"num_rate\">5<span class=\"screen_out\">점</span></em>, <em class=\"num_rate\">5<span class=\"screen_out\">점</span></em>]\n",
      "[<p class=\"txt_comment\"><span>먹고 하루지난 뒤인 지금도 계속 배아파요ㅠㅠㅠ 혹시나하고 들어와봤더니 다른분들도 그러시네요</span><button class=\"btn_fold\" type=\"button\">더보기</button></p>, <p class=\"txt_comment\"><span>이정도면 맛있다고 할수 있는것 같습니다.  가면 또 가겠지만 일부러 먹으러 찾아갈까 싶기도 한 적당한 집. 당면넣어주는게 좋았어요ㅎ</span><button class=\"btn_fold\" type=\"button\">더보기</button></p>, <p class=\"txt_comment\"><span>매번 좋은 사람들 만날때 방문하는데 매번 맛이 좋네요. </span><button class=\"btn_fold\" type=\"button\">더보기</button></p>, <p class=\"txt_comment\"><span>학원끝나고 일주일에 두세번은 가는 듯 ㅎㅋㅋㅋ 장인닭갈비 너무 맛있어요!</span><button class=\"btn_fold\" type=\"button\">더보기</button></p>, <p class=\"txt_comment\"><span>매운 닭갈비에 치즈추가하면 남부러울게 없지</span><button class=\"btn_fold\" type=\"button\">더보기</button></p>]\n",
      "[<em class=\"num_rate\">4<span class=\"screen_out\">점</span></em>, <em class=\"num_rate\">5<span class=\"screen_out\">점</span></em>, <em class=\"num_rate\">5<span class=\"screen_out\">점</span></em>, <em class=\"num_rate\">4<span class=\"screen_out\">점</span></em>, <em class=\"num_rate\">5<span class=\"screen_out\">점</span></em>]\n",
      "[<p class=\"txt_comment\"><span>맛잇으느 비싸다으</span><button class=\"btn_fold\" type=\"button\">더보기</button></p>, <p class=\"txt_comment\"><span>C'est tellement gentil ici que je peux sentir le goût coréen.</span><button class=\"btn_fold\" type=\"button\">더보기</button></p>, <p class=\"txt_comment\"><span>친절하고 너무 맛있었어요. 고기도 진짜 맛잇게 구워주시고..  근데 볶음밥은 진짜 별로에요. 비싼데 맛이없어요.. 고기많이드세요</span><button class=\"btn_fold\" type=\"button\">더보기</button></p>, <p class=\"txt_comment\"><span></span><button class=\"btn_fold\" type=\"button\">더보기</button></p>, <p class=\"txt_comment\"><span>ㅈㅁㅌㅌㄱㄹ</span><button class=\"btn_fold\" type=\"button\">더보기</button></p>]\n",
      "[<em class=\"num_rate\">5<span class=\"screen_out\">점</span></em>, <em class=\"num_rate\">5<span class=\"screen_out\">점</span></em>, <em class=\"num_rate\">2<span class=\"screen_out\">점</span></em>, <em class=\"num_rate\">1<span class=\"screen_out\">점</span></em>, <em class=\"num_rate\">1<span class=\"screen_out\">점</span></em>]\n",
      "[<p class=\"txt_comment\"><span></span><button class=\"btn_fold\" type=\"button\">더보기</button></p>, <p class=\"txt_comment\"><span></span><button class=\"btn_fold\" type=\"button\">더보기</button></p>, <p class=\"txt_comment\"><span></span><button class=\"btn_fold\" type=\"button\">더보기</button></p>, <p class=\"txt_comment\"><span>맛도 그닥.. 가성비 별로. 제일 별로는 직원이 넘 싸가지 없음.. 다들 다른 곳 가시길.. 1점도 아까움ㅠ</span><button class=\"btn_fold\" type=\"button\">더보기</button></p>, <p class=\"txt_comment\"><span>삼겹살이 160그램에 18000원. 삼겹살 목살 각 1인분씩 주문하려고 했으나 첫 주문에는 최소 2인분 주문해야 한다고;;  맛이라도 특별하면 몰라 그냥 하남돼지집 수준.  매장도 너무 시끄러움 걍 도떼기시장 ㅇㅇ 바빠서 그런가 직원들은 짜증이 기본 베이스로 깔려있음. 주차장 넓고 직원이 직접 구워주고 냄새 안 밴다는 것만 장점</span><button class=\"btn_fold\" type=\"button\">더보기</button></p>]\n",
      "[<em class=\"num_rate\">4<span class=\"screen_out\">점</span></em>, <em class=\"num_rate\">5<span class=\"screen_out\">점</span></em>, <em class=\"num_rate\">1<span class=\"screen_out\">점</span></em>, <em class=\"num_rate\">5<span class=\"screen_out\">점</span></em>, <em class=\"num_rate\">3<span class=\"screen_out\">점</span></em>]\n",
      "[<p class=\"txt_comment\"><span></span><button class=\"btn_fold\" type=\"button\">더보기</button></p>, <p class=\"txt_comment\"><span>떡도리탕</span><button class=\"btn_fold\" type=\"button\">더보기</button></p>, <p class=\"txt_comment\"><span></span><button class=\"btn_fold\" type=\"button\">더보기</button></p>, <p class=\"txt_comment\"><span>맛있댜</span><button class=\"btn_fold\" type=\"button\">더보기</button></p>, <p class=\"txt_comment\"><span></span><button class=\"btn_fold\" type=\"button\">더보기</button></p>]\n",
      "[<em class=\"num_rate\">3<span class=\"screen_out\">점</span></em>, <em class=\"num_rate\">5<span class=\"screen_out\">점</span></em>, <em class=\"num_rate\">5<span class=\"screen_out\">점</span></em>, <em class=\"num_rate\">3<span class=\"screen_out\">점</span></em>, <em class=\"num_rate\">2<span class=\"screen_out\">점</span></em>]\n",
      "[<p class=\"txt_comment\"><span>좋게 말하면 굽네치킨을 싸게 먹는 맛. 나쁘게 말하면 딱 예상한 뻔한 맛. 음료 무료인 건 좋아요!</span><button class=\"btn_fold\" type=\"button\">더보기</button></p>, <p class=\"txt_comment\"><span>강남에서 이런 가성비를 찾다니 회전율도 빨라서 전체적으로 신선합니다. 고기도 야채도.</span><button class=\"btn_fold\" type=\"button\">더보기</button></p>, <p class=\"txt_comment\"><span>그냥 술 무제한 지려</span><button class=\"btn_fold\" type=\"button\">더보기</button></p>, <p class=\"txt_comment\"><span></span><button class=\"btn_fold\" type=\"button\">더보기</button></p>, <p class=\"txt_comment\"><span></span><button class=\"btn_fold\" type=\"button\">더보기</button></p>]\n",
      "[<em class=\"num_rate\">5<span class=\"screen_out\">점</span></em>, <em class=\"num_rate\">1<span class=\"screen_out\">점</span></em>, <em class=\"num_rate\">1<span class=\"screen_out\">점</span></em>, <em class=\"num_rate\">5<span class=\"screen_out\">점</span></em>, <em class=\"num_rate\">5<span class=\"screen_out\">점</span></em>]\n",
      "[<p class=\"txt_comment\"><span> 고기는 기본적으로 프리미엄에 숯부터가 달라서 풍미가잇음 추가로 불편하면 자세를고쳐앉으세요 지들이피해의식잇어서 괜히 꼬장부리네 불평불만~</span><button class=\"btn_fold\" type=\"button\">더보기</button></p>, <p class=\"txt_comment\"><span>고기는 맛있는데 직원분들 태도는 그닥... 내 돈 주고가는데 왜 내가 가게직원 눈치를 봐야 하지?</span><button class=\"btn_fold\" type=\"button\">더보기</button></p>, <p class=\"txt_comment\"><span>20분다되도록 고기안나와서 두번이나 얘기했는데  죄송하다는 말도 그닥 성의없이 하시고 고객응대 서비스는 최악이었습니다.  고기는 맛있긴 함.</span><button class=\"btn_fold\" type=\"button\">더보기</button></p>, <p class=\"txt_comment\"><span>걍개마싯윰ㄹㅇ 좀비싸긴함</span><button class=\"btn_fold\" type=\"button\">더보기</button></p>, <p class=\"txt_comment\"><span>고기는 맛있어요~</span><button class=\"btn_fold\" type=\"button\">더보기</button></p>]\n",
      "[<em class=\"num_rate\">3<span class=\"screen_out\">점</span></em>, <em class=\"num_rate\">2<span class=\"screen_out\">점</span></em>, <em class=\"num_rate\">3<span class=\"screen_out\">점</span></em>, <em class=\"num_rate\">1<span class=\"screen_out\">점</span></em>, <em class=\"num_rate\">1<span class=\"screen_out\">점</span></em>]\n",
      "[<p class=\"txt_comment\"><span></span><button class=\"btn_fold\" type=\"button\">더보기</button></p>, <p class=\"txt_comment\"><span>너무질겨요ㅜㅜ</span><button class=\"btn_fold\" type=\"button\">더보기</button></p>, <p class=\"txt_comment\"><span>비싸긴한데 괜찮아요~</span><button class=\"btn_fold\" type=\"button\">더보기</button></p>, <p class=\"txt_comment\"><span>너무너무너무너무질겨서 삼킬수가 없네요ㅠㅠ</span><button class=\"btn_fold\" type=\"button\">더보기</button></p>, <p class=\"txt_comment\"><span>할말은 많지만 하지 않습니다</span><button class=\"btn_fold\" type=\"button\">더보기</button></p>]\n"
     ]
    },
    {
     "name": "stdout",
     "output_type": "stream",
     "text": [
      "[<em class=\"num_rate\">2<span class=\"screen_out\">점</span></em>, <em class=\"num_rate\">5<span class=\"screen_out\">점</span></em>, <em class=\"num_rate\">2<span class=\"screen_out\">점</span></em>, <em class=\"num_rate\">5<span class=\"screen_out\">점</span></em>, <em class=\"num_rate\">5<span class=\"screen_out\">점</span></em>]\n",
      "[<p class=\"txt_comment\"><span>친절하고 깨끗하지만 곱창이 너무 질겨서 실망이었어요ㅜㅜ 별점에비해 맛은 그닥..대파김치덕분에 다 먹었네요</span><button class=\"btn_fold\" type=\"button\">더보기</button></p>, <p class=\"txt_comment\"><span>곱창을 좋아해서 생각없이들어가서먹었는데 곱도많이들어있고 냄새도안나고 질긴것도없고 맛있네요  볶음밥이 신의한수!!  가게내부도 깔끔하고 좋았어요</span><button class=\"btn_fold\" type=\"button\">더보기</button></p>, <p class=\"txt_comment\"><span>그냥 평범함...ㄹㅇ</span><button class=\"btn_fold\" type=\"button\">더보기</button></p>, <p class=\"txt_comment\"><span>대충 친구랑 밥 먹으러 들어갔다가 생각보다 맛있어서 괜찮았어요 사장님도 친절하시고 감사합니당</span><button class=\"btn_fold\" type=\"button\">더보기</button></p>, <p class=\"txt_comment\"><span>어후 소주 안먹고는 안될 맛이었어요 술마실 생각 없었는데;; 진짜 맛있게 잘 먹고 배터질거같다 하면서 나오면서도 여기 또 오자 하고 나왔네요</span><button class=\"btn_fold\" type=\"button\">더보기</button></p>]\n",
      "[<em class=\"num_rate\">3<span class=\"screen_out\">점</span></em>, <em class=\"num_rate\">1<span class=\"screen_out\">점</span></em>, <em class=\"num_rate\">3<span class=\"screen_out\">점</span></em>, <em class=\"num_rate\">5<span class=\"screen_out\">점</span></em>, <em class=\"num_rate\">4<span class=\"screen_out\">점</span></em>]\n",
      "[<p class=\"txt_comment\"><span>점심 삽겹 꿀맛 냄새안나서 좋아요~</span><button class=\"btn_fold\" type=\"button\">더보기</button></p>, <p class=\"txt_comment txt_fold\"><span>머리 하나로 묶은 머리긴(어깨는 넘었음) 여자 종업원이  안익은게 너무 잘 보이는데  그냥 가 더니  먹으라는건지 기다리라는건지 5분넘게 안오시길래  물어보니 다 익은거라고 하네요 사진상 으로 보이는 부분 보여주니 불 가장 쎄게 틀어주고 그냥 가시던데  덕분에 고기 다 타고 사진상  고기도 저희가 구웠어요 이럴꺼면 그냥 저희가 구울껄 그랬어요  고기도 추가...</span><button class=\"btn_fold\" type=\"button\">더보기</button></p>, <p class=\"txt_comment\"><span>먹기 편하게 해줌.</span><button class=\"btn_fold\" type=\"button\">더보기</button></p>, <p class=\"txt_comment\"><span>맛있게 배부르게 잘 먹고 핸드폰도 테이블 무선충전으로 만충하고. 마포점에 이어 방문한 강남점도 친절하고 맛있고 좋습니다.</span><button class=\"btn_fold\" type=\"button\">더보기</button></p>, <p class=\"txt_comment\"><span>비싸지만 맛있고 정갈하게 구워줘서 좋음</span><button class=\"btn_fold\" type=\"button\">더보기</button></p>]\n",
      "[<em class=\"num_rate\">1<span class=\"screen_out\">점</span></em>, <em class=\"num_rate\">2<span class=\"screen_out\">점</span></em>, <em class=\"num_rate\">3<span class=\"screen_out\">점</span></em>, <em class=\"num_rate\">5<span class=\"screen_out\">점</span></em>, <em class=\"num_rate\">5<span class=\"screen_out\">점</span></em>]\n",
      "[<p class=\"txt_comment\"><span>하누세트 20만원짜리 먹었는데 양도 적고 무엇보다 등심도 질기고 양념갈비도 짜고 고기맛이 없어 정말정말 가성비 떨어지는 식당이었습니다. 음식점에서 이렇게 돈이 아까울줄은..처음갔는데 평점에 속은집. </span><button class=\"btn_fold\" type=\"button\">더보기</button></p>, <p class=\"txt_comment\"><span>서비스가 매우 안좋습니다. 소고기 구울때는 구워주고, 삼겹살 먹으면 알아서하라고 합니다.ㅋㅋ 말을 해도 당연하다는듯이.. ?  돼지고기만 먹었으면 모르지만 함께 먹어도 이런 말을 한다는게 어이가...</span><button class=\"btn_fold\" type=\"button\">더보기</button></p>, <p class=\"txt_comment\"><span>황제세트랑 삼합먹었는데.. 고기 구어주는데 숯이 약해 흐물흐물했음 삼합은 맛있어요</span><button class=\"btn_fold\" type=\"button\">더보기</button></p>, <p class=\"txt_comment\"><span>급하게 갔는데도 잘 해주시고  고기도 너무 맛나요  맛있게 구워주시고  잘 먹다가 좋은 시간보내고 갑니다 ㅎㅎ</span><button class=\"btn_fold\" type=\"button\">더보기</button></p>, <p class=\"txt_comment txt_fold\"><span>부모님 모시고 갔는데 좋은 시간 만들어주셔서 감사합니다 :) 조용한 자리에 미리 세팅도 완료해서 준비해주셨고 고기도 처음부터 끝까지 맛있게 구워주셨어요! 메뉴 고를줄 몰라서 이것저것 여쭤봤는데 양이랑 가격 적당한걸로 고르도록 도와주시고 음식이 빨리빨리 나와서 좋았어요. 셀프바도 맛있게, 많이 이용 잘 했습니다 ㅎㅎㅎ, 냄새도 안 배고 좋더라고요 리뷰 보고 ...</span><button class=\"btn_fold\" type=\"button\">더보기</button></p>]\n",
      "[<em class=\"num_rate\">1<span class=\"screen_out\">점</span></em>, <em class=\"num_rate\">5<span class=\"screen_out\">점</span></em>, <em class=\"num_rate\">4<span class=\"screen_out\">점</span></em>, <em class=\"num_rate\">5<span class=\"screen_out\">점</span></em>, <em class=\"num_rate\">1<span class=\"screen_out\">점</span></em>]\n",
      "[<p class=\"txt_comment\"><span>후기 신고해서 삭제하네요  두꺼비 닮은 알바가 불친절해요 많이불친절해요</span><button class=\"btn_fold\" type=\"button\">더보기</button></p>, <p class=\"txt_comment\"><span>제가 가본 냉동삼겹살집중 원탑. 호일 안쓰는게 가장 큰 장점.  냉동의 그 고유한 맛 굿입니다 고사리가 특히 굿굿 사장님은 친절하세요  알바들은 어딜가나 어쩔수없다고 생각함. 제가 갔을 땐 다들 친절하셨음</span><button class=\"btn_fold\" type=\"button\">더보기</button></p>, <p class=\"txt_comment\"><span>고사리 부시고 싶을 때 갑니다. 돈가스도 좋아요. </span><button class=\"btn_fold\" type=\"button\">더보기</button></p>, <p class=\"txt_comment\"><span>저 왔을때는 직원분들 너무 친절하셧구용 싼맛에 먹기좋은 고기같아요!! 돼지냄새 예민하신분들께는 잡내가 좀 날수도있는데 1인분 4900원인거치곤 너무 맛잇게 먹었습니당~ 주전자 우동도 짱. 걍 음식들 다 싸고 양이 엄청많아요!</span><button class=\"btn_fold\" type=\"button\">더보기</button></p>, <p class=\"txt_comment\"><span></span><button class=\"btn_fold\" type=\"button\">더보기</button></p>]\n",
      "[<em class=\"num_rate\">5<span class=\"screen_out\">점</span></em>, <em class=\"num_rate\">5<span class=\"screen_out\">점</span></em>, <em class=\"num_rate\">5<span class=\"screen_out\">점</span></em>, <em class=\"num_rate\">5<span class=\"screen_out\">점</span></em>, <em class=\"num_rate\">5<span class=\"screen_out\">점</span></em>]\n",
      "[<p class=\"txt_comment\"><span>목살 퍽퍽하지 않고 맛있음:)</span><button class=\"btn_fold\" type=\"button\">더보기</button></p>, <p class=\"txt_comment\"><span>꽃삼겹, 통삼겹, 물냉, 된장찌개, 후식아이스크림</span><button class=\"btn_fold\" type=\"button\">더보기</button></p>, <p class=\"txt_comment\"><span>맛있게먹었다 융숭한대접에감사한다</span><button class=\"btn_fold\" type=\"button\">더보기</button></p>, <p class=\"txt_comment\"><span>맛은 항상 만족. 인테리어나 식탁 배치도 마음에 듦.</span><button class=\"btn_fold\" type=\"button\">더보기</button></p>, <p class=\"txt_comment\"><span>메뉴가 다 맛있네요. 후식 아이스크림도 좋습니다</span><button class=\"btn_fold\" type=\"button\">더보기</button></p>]\n",
      "[<em class=\"num_rate\">5<span class=\"screen_out\">점</span></em>, <em class=\"num_rate\">5<span class=\"screen_out\">점</span></em>, <em class=\"num_rate\">5<span class=\"screen_out\">점</span></em>, <em class=\"num_rate\">5<span class=\"screen_out\">점</span></em>, <em class=\"num_rate\">2<span class=\"screen_out\">점</span></em>]\n",
      "[<p class=\"txt_comment\"><span></span><button class=\"btn_fold\" type=\"button\">더보기</button></p>, <p class=\"txt_comment\"><span>김희X 직원분이 상당히 고기를 잘 구우십니다 ~ !</span><button class=\"btn_fold\" type=\"button\">더보기</button></p>, <p class=\"txt_comment\"><span>맛있습니다</span><button class=\"btn_fold\" type=\"button\">더보기</button></p>, <p class=\"txt_comment\"><span>흠 존맛인정 </span><button class=\"btn_fold\" type=\"button\">더보기</button></p>, <p class=\"txt_comment txt_fold\"><span>장점 - 1. 맛있음 2.콜키지 프리 3.위치  단점 - 1. ⭐️불친절⭐️ 말하고 있는데 무시하고 가는 직원은 처음 봄ㅋㅋ근데 더 짜증나는건 들어올 때 부터 기분 나빴는데 그 직원이 처음부터 끝까지 고기 구워줌 검정색 마스크 코 반까지만 쓰고 나이가 좀 있으시던 분^^ 옆테이블은 나이대가 높아서 그런지 열심히 설명해주더니ㅋㅋ 우리는 걍 고기만 구워 줌  ...</span><button class=\"btn_fold\" type=\"button\">더보기</button></p>]\n",
      "[<em class=\"num_rate\">2<span class=\"screen_out\">점</span></em>, <em class=\"num_rate\">1<span class=\"screen_out\">점</span></em>, <em class=\"num_rate\">4<span class=\"screen_out\">점</span></em>, <em class=\"num_rate\">1<span class=\"screen_out\">점</span></em>, <em class=\"num_rate\">5<span class=\"screen_out\">점</span></em>]\n",
      "[<p class=\"txt_comment\"><span>이렇게 대기가 긴 맛집인줄 모르고 갔다가 엄청 기다림 예써라는 어플로 대기 하던데 혹시 갈 예정이면 어플로 확인하는거 추천함 곱도리탕은 맛있지만 대창 때문에 느끼했던 기억... 나중에 덮밥 먹으러 다시 와보고 싶긴함 ☻</span><button class=\"btn_fold\" type=\"button\">더보기</button></p>, <p class=\"txt_comment\"><span>단짠의 정석. 진짜 정석으로 달고 짬. 질리는 맛.  사장님이랑 와이프로 추정되는 서빙해주신 분 매우 친절하셨음. 친절하신것은 인정!  골목안에 작게 했을때 이전하기 전에도 갔었고 그 이후에도 갔는데 갈수록 더 달고 더 짜져서 안간지 꽤 됐는데..  안가게 된 이유는 너무 달고 너무 짜져서지..ㅡㅡ</span><button class=\"btn_fold\" type=\"button\">더보기</button></p>, <p class=\"txt_comment\"><span>만족스러움! 맛있어용</span><button class=\"btn_fold\" type=\"button\">더보기</button></p>, <p class=\"txt_comment\"><span>곱창은 없고 대창만 들어있어서 느끼한데 양념은 너무 매워서 위에 탈이나 고생했습니다ㅠㅠ </span><button class=\"btn_fold\" type=\"button\">더보기</button></p>, <p class=\"txt_comment\"><span>대창덮밥도 맛있고 곱도리탕도 맛나요 완전 소주각입니다.  자리가 쫍아서 테이블마다 가까운게 흠이지만 맛있어서 ㅋㅋ 상관없어유</span><button class=\"btn_fold\" type=\"button\">더보기</button></p>]\n"
     ]
    }
   ],
   "source": [
    "import pandas as pd\n",
    "columns = ['score', 'review']\n",
    "df = pd.DataFrame(columns=columns)\n",
    "\n",
    "# driver = webdriver.Chrome(path)  # for Mac\n",
    "driver = webdriver.Chrome(executable_path=excutable_path)  # for Windows\n",
    "#내가 정적으로 바꿔서 해보기\n",
    "for page_url in page_urls:\n",
    "    \n",
    "    # 상세보기 페이지에 접속합니다\n",
    "    driver.get(page_url)\n",
    "    time.sleep(2)\n",
    "    \n",
    "    # 첫 페이지 리뷰를 크롤링합니다\n",
    "    html = driver.page_source\n",
    "    soup = BeautifulSoup(html, 'html.parser')\n",
    "    contents_div = soup.find(name=\"div\", attrs={\"class\":\"evaluation_review\"})\n",
    "    \n",
    "    # 별점을 가져옵니다.\n",
    "    rates = contents_div.find_all(name=\"em\", attrs={\"class\":\"num_rate\"})\n",
    "    print(rates)\n",
    "    \n",
    "    # 리뷰를 가져옵니다.\n",
    "    reviews = contents_div.find_all(name=\"p\", attrs={\"class\":\"txt_comment\"})\n",
    "    print(reviews)\n",
    "    \n",
    "    for rate, review in zip(rates, reviews):\n",
    "        row = [rate.text[0], review.find(name=\"span\").text]\n",
    "        #시리즈로 만들고 \n",
    "        series = pd.Series(row, index=df.columns)\n",
    "        #데이터프레임에 넣어주기\n",
    "        df = df.append(series, ignore_index=True)\n",
    "    \n",
    "    # 2-5페이지의 리뷰를 크롤링합니다\n",
    "    for button_num in range(2, 6):\n",
    "        # 오류가 나는 경우(리뷰 페이지가 없는 경우), 수행하지 않습니다.\n",
    "        try:\n",
    "            #다음 버튼\n",
    "            another_reviews = driver.find_element_by_xpath(\"//a[@data-page='\" + str(button_num) + \"']\")\n",
    "            another_reviews.click()\n",
    "            time.sleep(2)\n",
    "            \n",
    "            # 페이지 리뷰를 크롤링합니다\n",
    "            html = driver.page_source\n",
    "            soup = BeautifulSoup(html, 'html.parser')\n",
    "            contents_div = soup.find(name=\"div\", attrs={\"class\":\"evaluation_review\"})\n",
    "\n",
    "            # 별점을 가져옵니다.\n",
    "            rates = contents_div.find_all(name=\"em\", attrs={\"class\":\"num_rate\"})\n",
    "\n",
    "            # 리뷰를 가져옵니다.\n",
    "            reviews = contents_div.find_all(name=\"p\", attrs={\"class\":\"txt_comment\"})\n",
    "            #리뷰 한개씩 짤라서 저장\n",
    "            for rate, review in zip(rates, reviews):\n",
    "                #rate : text에 첫번째꺼 점수 , review에 span text가 리뷰\n",
    "                row = [rate.text[0], review.find(name=\"span\").text]\n",
    "                series = pd.Series(row, index=df.columns)\n",
    "                df = df.append(series, ignore_index=True)\n",
    "        except:\n",
    "            break    \n",
    "driver.close()"
   ]
  },
  {
   "cell_type": "code",
   "execution_count": 3,
   "id": "little-handbook",
   "metadata": {},
   "outputs": [
    {
     "name": "stdout",
     "output_type": "stream",
     "text": [
      "(383, 3)\n"
     ]
    },
    {
     "data": {
      "text/html": [
       "<div>\n",
       "<style scoped>\n",
       "    .dataframe tbody tr th:only-of-type {\n",
       "        vertical-align: middle;\n",
       "    }\n",
       "\n",
       "    .dataframe tbody tr th {\n",
       "        vertical-align: top;\n",
       "    }\n",
       "\n",
       "    .dataframe thead th {\n",
       "        text-align: right;\n",
       "    }\n",
       "</style>\n",
       "<table border=\"1\" class=\"dataframe\">\n",
       "  <thead>\n",
       "    <tr style=\"text-align: right;\">\n",
       "      <th></th>\n",
       "      <th>score</th>\n",
       "      <th>review</th>\n",
       "      <th>y</th>\n",
       "    </tr>\n",
       "  </thead>\n",
       "  <tbody>\n",
       "    <tr>\n",
       "      <th>0</th>\n",
       "      <td>1</td>\n",
       "      <td>예약할 때는 룸을 주기로 하고 홀을 주고, 덥고, 직원들이 정신이 없어 그 가격에 ...</td>\n",
       "      <td>0</td>\n",
       "    </tr>\n",
       "    <tr>\n",
       "      <th>1</th>\n",
       "      <td>5</td>\n",
       "      <td>점심식사 잘했던곳.후식커피한잔 하기도 좋고 주차가능합니다. 음식 맛있고 직원분 친절...</td>\n",
       "      <td>1</td>\n",
       "    </tr>\n",
       "    <tr>\n",
       "      <th>2</th>\n",
       "      <td>5</td>\n",
       "      <td>新鮮でおいしいです。</td>\n",
       "      <td>1</td>\n",
       "    </tr>\n",
       "    <tr>\n",
       "      <th>3</th>\n",
       "      <td>4</td>\n",
       "      <td>녹는다 녹아</td>\n",
       "      <td>1</td>\n",
       "    </tr>\n",
       "    <tr>\n",
       "      <th>4</th>\n",
       "      <td>4</td>\n",
       "      <td>nan</td>\n",
       "      <td>1</td>\n",
       "    </tr>\n",
       "  </tbody>\n",
       "</table>\n",
       "</div>"
      ],
      "text/plain": [
       "   score                                             review  y\n",
       "0      1  예약할 때는 룸을 주기로 하고 홀을 주고, 덥고, 직원들이 정신이 없어 그 가격에 ...  0\n",
       "1      5  점심식사 잘했던곳.후식커피한잔 하기도 좋고 주차가능합니다. 음식 맛있고 직원분 친절...  1\n",
       "2      5                                         新鮮でおいしいです。  1\n",
       "3      4                                             녹는다 녹아  1\n",
       "4      4                                                nan  1"
      ]
     },
     "execution_count": 3,
     "metadata": {},
     "output_type": "execute_result"
    }
   ],
   "source": [
    "import pandas as pd\n",
    "# 4점 이상의 리뷰는 긍정 리뷰, 3점 이하의 리뷰는 부정 리뷰로 평가합니다.\n",
    "df['y'] = df['score'].apply(lambda x: 1 if float(x) > 3 else 0)\n",
    "print(df.shape)\n",
    "df.head()"
   ]
  },
  {
   "cell_type": "code",
   "execution_count": null,
   "id": "bridal-minnesota",
   "metadata": {},
   "outputs": [],
   "source": [
    "#데이터 저장\n",
    "df.to_csv(\"review_data.csv\", index=False)"
   ]
  },
  {
   "cell_type": "code",
   "execution_count": 15,
   "id": "strong-classics",
   "metadata": {},
   "outputs": [
    {
     "data": {
      "text/html": [
       "<div>\n",
       "<style scoped>\n",
       "    .dataframe tbody tr th:only-of-type {\n",
       "        vertical-align: middle;\n",
       "    }\n",
       "\n",
       "    .dataframe tbody tr th {\n",
       "        vertical-align: top;\n",
       "    }\n",
       "\n",
       "    .dataframe thead th {\n",
       "        text-align: right;\n",
       "    }\n",
       "</style>\n",
       "<table border=\"1\" class=\"dataframe\">\n",
       "  <thead>\n",
       "    <tr style=\"text-align: right;\">\n",
       "      <th></th>\n",
       "      <th>score</th>\n",
       "      <th>review</th>\n",
       "      <th>y</th>\n",
       "    </tr>\n",
       "  </thead>\n",
       "  <tbody>\n",
       "    <tr>\n",
       "      <th>0</th>\n",
       "      <td>1</td>\n",
       "      <td>예약할 때는 룸을 주기로 하고 홀을 주고, 덥고, 직원들이 정신이 없어 그 가격에 ...</td>\n",
       "      <td>0</td>\n",
       "    </tr>\n",
       "    <tr>\n",
       "      <th>1</th>\n",
       "      <td>5</td>\n",
       "      <td>점심식사 잘했던곳.후식커피한잔 하기도 좋고 주차가능합니다. 음식 맛있고 직원분 친절...</td>\n",
       "      <td>1</td>\n",
       "    </tr>\n",
       "    <tr>\n",
       "      <th>2</th>\n",
       "      <td>5</td>\n",
       "      <td>新鮮でおいしいです。</td>\n",
       "      <td>1</td>\n",
       "    </tr>\n",
       "    <tr>\n",
       "      <th>3</th>\n",
       "      <td>4</td>\n",
       "      <td>녹는다 녹아</td>\n",
       "      <td>1</td>\n",
       "    </tr>\n",
       "    <tr>\n",
       "      <th>4</th>\n",
       "      <td>4</td>\n",
       "      <td>nan</td>\n",
       "      <td>1</td>\n",
       "    </tr>\n",
       "    <tr>\n",
       "      <th>...</th>\n",
       "      <td>...</td>\n",
       "      <td>...</td>\n",
       "      <td>...</td>\n",
       "    </tr>\n",
       "    <tr>\n",
       "      <th>378</th>\n",
       "      <td>5</td>\n",
       "      <td>7시에가서1시간왜이팅..기다리는거 싨머하는데..참고기다려봄..근데 먹고나보니 강남역...</td>\n",
       "      <td>1</td>\n",
       "    </tr>\n",
       "    <tr>\n",
       "      <th>379</th>\n",
       "      <td>4</td>\n",
       "      <td>맛있게 잘 먹었습니다!</td>\n",
       "      <td>1</td>\n",
       "    </tr>\n",
       "    <tr>\n",
       "      <th>380</th>\n",
       "      <td>4</td>\n",
       "      <td>맛있는데 웨이팅까지해서 먹을건... 모르겠어요</td>\n",
       "      <td>1</td>\n",
       "    </tr>\n",
       "    <tr>\n",
       "      <th>381</th>\n",
       "      <td>2</td>\n",
       "      <td>음...... 음... 덮밥에 소스가 너무 많아서 단 밥이 됐어요... 대창 역시나...</td>\n",
       "      <td>0</td>\n",
       "    </tr>\n",
       "    <tr>\n",
       "      <th>382</th>\n",
       "      <td>1</td>\n",
       "      <td>대창덮밥 너무 느끼하고 소스 너무 많이줘서 단짠이 심했네요..</td>\n",
       "      <td>0</td>\n",
       "    </tr>\n",
       "  </tbody>\n",
       "</table>\n",
       "<p>383 rows × 3 columns</p>\n",
       "</div>"
      ],
      "text/plain": [
       "     score                                             review  y\n",
       "0        1  예약할 때는 룸을 주기로 하고 홀을 주고, 덥고, 직원들이 정신이 없어 그 가격에 ...  0\n",
       "1        5  점심식사 잘했던곳.후식커피한잔 하기도 좋고 주차가능합니다. 음식 맛있고 직원분 친절...  1\n",
       "2        5                                         新鮮でおいしいです。  1\n",
       "3        4                                             녹는다 녹아  1\n",
       "4        4                                                nan  1\n",
       "..     ...                                                ... ..\n",
       "378      5  7시에가서1시간왜이팅..기다리는거 싨머하는데..참고기다려봄..근데 먹고나보니 강남역...  1\n",
       "379      4                                       맛있게 잘 먹었습니다!  1\n",
       "380      4                          맛있는데 웨이팅까지해서 먹을건... 모르겠어요  1\n",
       "381      2  음...... 음... 덮밥에 소스가 너무 많아서 단 밥이 됐어요... 대창 역시나...  0\n",
       "382      1                 대창덮밥 너무 느끼하고 소스 너무 많이줘서 단짠이 심했네요..  0\n",
       "\n",
       "[383 rows x 3 columns]"
      ]
     },
     "execution_count": 15,
     "metadata": {},
     "output_type": "execute_result"
    }
   ],
   "source": [
    "import pandas as pd\n",
    "df = pd.read_csv(\"review_data.csv\")\n",
    "df = df.astype({'review':'str'})\n",
    "df"
   ]
  },
  {
   "cell_type": "code",
   "execution_count": 16,
   "id": "acknowledged-pickup",
   "metadata": {
    "scrolled": true
   },
   "outputs": [
    {
     "data": {
      "text/html": [
       "<div>\n",
       "<style scoped>\n",
       "    .dataframe tbody tr th:only-of-type {\n",
       "        vertical-align: middle;\n",
       "    }\n",
       "\n",
       "    .dataframe tbody tr th {\n",
       "        vertical-align: top;\n",
       "    }\n",
       "\n",
       "    .dataframe thead th {\n",
       "        text-align: right;\n",
       "    }\n",
       "</style>\n",
       "<table border=\"1\" class=\"dataframe\">\n",
       "  <thead>\n",
       "    <tr style=\"text-align: right;\">\n",
       "      <th></th>\n",
       "      <th>score</th>\n",
       "      <th>y</th>\n",
       "      <th>ko_text</th>\n",
       "    </tr>\n",
       "  </thead>\n",
       "  <tbody>\n",
       "    <tr>\n",
       "      <th>0</th>\n",
       "      <td>1</td>\n",
       "      <td>0</td>\n",
       "      <td>예약할 때는 룸을 주기로 하고 홀을 주고 덥고 직원들이 정신이 없어 그 가격에 내가...</td>\n",
       "    </tr>\n",
       "    <tr>\n",
       "      <th>1</th>\n",
       "      <td>5</td>\n",
       "      <td>1</td>\n",
       "      <td>점심식사 잘했던곳후식커피한잔 하기도 좋고 주차가능합니다 음식 맛있고 직원분 친절하여...</td>\n",
       "    </tr>\n",
       "    <tr>\n",
       "      <th>2</th>\n",
       "      <td>5</td>\n",
       "      <td>1</td>\n",
       "      <td></td>\n",
       "    </tr>\n",
       "    <tr>\n",
       "      <th>3</th>\n",
       "      <td>4</td>\n",
       "      <td>1</td>\n",
       "      <td>녹는다 녹아</td>\n",
       "    </tr>\n",
       "    <tr>\n",
       "      <th>4</th>\n",
       "      <td>4</td>\n",
       "      <td>1</td>\n",
       "      <td></td>\n",
       "    </tr>\n",
       "    <tr>\n",
       "      <th>...</th>\n",
       "      <td>...</td>\n",
       "      <td>...</td>\n",
       "      <td>...</td>\n",
       "    </tr>\n",
       "    <tr>\n",
       "      <th>378</th>\n",
       "      <td>5</td>\n",
       "      <td>1</td>\n",
       "      <td>시에가서시간왜이팅기다리는거 싨머하는데참고기다려봄근데 먹고나보니 강남역에 저녁시간이고...</td>\n",
       "    </tr>\n",
       "    <tr>\n",
       "      <th>379</th>\n",
       "      <td>4</td>\n",
       "      <td>1</td>\n",
       "      <td>맛있게 잘 먹었습니다</td>\n",
       "    </tr>\n",
       "    <tr>\n",
       "      <th>380</th>\n",
       "      <td>4</td>\n",
       "      <td>1</td>\n",
       "      <td>맛있는데 웨이팅까지해서 먹을건 모르겠어요</td>\n",
       "    </tr>\n",
       "    <tr>\n",
       "      <th>381</th>\n",
       "      <td>2</td>\n",
       "      <td>0</td>\n",
       "      <td>음 음 덮밥에 소스가 너무 많아서 단 밥이 됐어요 대창 역시나 너무 느끼하네요 느끼...</td>\n",
       "    </tr>\n",
       "    <tr>\n",
       "      <th>382</th>\n",
       "      <td>1</td>\n",
       "      <td>0</td>\n",
       "      <td>대창덮밥 너무 느끼하고 소스 너무 많이줘서 단짠이 심했네요</td>\n",
       "    </tr>\n",
       "  </tbody>\n",
       "</table>\n",
       "<p>383 rows × 3 columns</p>\n",
       "</div>"
      ],
      "text/plain": [
       "     score  y                                            ko_text\n",
       "0        1  0  예약할 때는 룸을 주기로 하고 홀을 주고 덥고 직원들이 정신이 없어 그 가격에 내가...\n",
       "1        5  1  점심식사 잘했던곳후식커피한잔 하기도 좋고 주차가능합니다 음식 맛있고 직원분 친절하여...\n",
       "2        5  1                                                   \n",
       "3        4  1                                             녹는다 녹아\n",
       "4        4  1                                                   \n",
       "..     ... ..                                                ...\n",
       "378      5  1  시에가서시간왜이팅기다리는거 싨머하는데참고기다려봄근데 먹고나보니 강남역에 저녁시간이고...\n",
       "379      4  1                                        맛있게 잘 먹었습니다\n",
       "380      4  1                             맛있는데 웨이팅까지해서 먹을건 모르겠어요\n",
       "381      2  0  음 음 덮밥에 소스가 너무 많아서 단 밥이 됐어요 대창 역시나 너무 느끼하네요 느끼...\n",
       "382      1  0                   대창덮밥 너무 느끼하고 소스 너무 많이줘서 단짠이 심했네요\n",
       "\n",
       "[383 rows x 3 columns]"
      ]
     },
     "execution_count": 16,
     "metadata": {},
     "output_type": "execute_result"
    }
   ],
   "source": [
    "import re\n",
    "\n",
    "#텍스트 정제 함수: 한글 이외의 문자는 전부 제거\n",
    "def text_cleaning(text):\n",
    "    #한글의 정규표현식으로 한글만 추출\n",
    "    hangul = re.compile('[^ ㄱ-ㅣ 가-힣]+')\n",
    "    result = hangul.sub('',text)\n",
    "    return result\n",
    "\n",
    "#함수를 적용하여 리뷰에서 한글만 추출\n",
    "df['ko_text'] = df['review'].apply(lambda x : text_cleaning(x))\n",
    "del df['review']\n",
    "df"
   ]
  },
  {
   "cell_type": "code",
   "execution_count": 17,
   "id": "cultural-buying",
   "metadata": {},
   "outputs": [
    {
     "name": "stdout",
     "output_type": "stream",
     "text": [
      "<class 'pandas.core.frame.DataFrame'>\n",
      "RangeIndex: 383 entries, 0 to 382\n",
      "Data columns (total 3 columns):\n",
      " #   Column   Non-Null Count  Dtype \n",
      "---  ------   --------------  ----- \n",
      " 0   score    383 non-null    int64 \n",
      " 1   y        383 non-null    int64 \n",
      " 2   ko_text  383 non-null    object\n",
      "dtypes: int64(2), object(1)\n",
      "memory usage: 9.1+ KB\n"
     ]
    }
   ],
   "source": [
    "df.info()"
   ]
  },
  {
   "cell_type": "code",
   "execution_count": 18,
   "id": "golden-serbia",
   "metadata": {},
   "outputs": [
    {
     "data": {
      "text/html": [
       "<div>\n",
       "<style scoped>\n",
       "    .dataframe tbody tr th:only-of-type {\n",
       "        vertical-align: middle;\n",
       "    }\n",
       "\n",
       "    .dataframe tbody tr th {\n",
       "        vertical-align: top;\n",
       "    }\n",
       "\n",
       "    .dataframe thead th {\n",
       "        text-align: right;\n",
       "    }\n",
       "</style>\n",
       "<table border=\"1\" class=\"dataframe\">\n",
       "  <thead>\n",
       "    <tr style=\"text-align: right;\">\n",
       "      <th></th>\n",
       "      <th>score</th>\n",
       "      <th>y</th>\n",
       "      <th>ko_text</th>\n",
       "    </tr>\n",
       "  </thead>\n",
       "  <tbody>\n",
       "    <tr>\n",
       "      <th>0</th>\n",
       "      <td>1</td>\n",
       "      <td>0</td>\n",
       "      <td>예약할 때는 룸을 주기로 하고 홀을 주고 덥고 직원들이 정신이 없어 그 가격에 내가...</td>\n",
       "    </tr>\n",
       "    <tr>\n",
       "      <th>1</th>\n",
       "      <td>5</td>\n",
       "      <td>1</td>\n",
       "      <td>점심식사 잘했던곳후식커피한잔 하기도 좋고 주차가능합니다 음식 맛있고 직원분 친절하여...</td>\n",
       "    </tr>\n",
       "    <tr>\n",
       "      <th>2</th>\n",
       "      <td>4</td>\n",
       "      <td>1</td>\n",
       "      <td>녹는다 녹아</td>\n",
       "    </tr>\n",
       "    <tr>\n",
       "      <th>3</th>\n",
       "      <td>5</td>\n",
       "      <td>1</td>\n",
       "      <td>흠잡을곳 없는 반찬이 정갈합니다</td>\n",
       "    </tr>\n",
       "    <tr>\n",
       "      <th>4</th>\n",
       "      <td>5</td>\n",
       "      <td>1</td>\n",
       "      <td>코로나 땜에 걱정했는데 방역수칙도 잘 지키시고 살치실이랑 등심 부드러워서 너무 좋아...</td>\n",
       "    </tr>\n",
       "    <tr>\n",
       "      <th>...</th>\n",
       "      <td>...</td>\n",
       "      <td>...</td>\n",
       "      <td>...</td>\n",
       "    </tr>\n",
       "    <tr>\n",
       "      <th>308</th>\n",
       "      <td>5</td>\n",
       "      <td>1</td>\n",
       "      <td>시에가서시간왜이팅기다리는거 싨머하는데참고기다려봄근데 먹고나보니 강남역에 저녁시간이고...</td>\n",
       "    </tr>\n",
       "    <tr>\n",
       "      <th>309</th>\n",
       "      <td>4</td>\n",
       "      <td>1</td>\n",
       "      <td>맛있게 잘 먹었습니다</td>\n",
       "    </tr>\n",
       "    <tr>\n",
       "      <th>310</th>\n",
       "      <td>4</td>\n",
       "      <td>1</td>\n",
       "      <td>맛있는데 웨이팅까지해서 먹을건 모르겠어요</td>\n",
       "    </tr>\n",
       "    <tr>\n",
       "      <th>311</th>\n",
       "      <td>2</td>\n",
       "      <td>0</td>\n",
       "      <td>음 음 덮밥에 소스가 너무 많아서 단 밥이 됐어요 대창 역시나 너무 느끼하네요 느끼...</td>\n",
       "    </tr>\n",
       "    <tr>\n",
       "      <th>312</th>\n",
       "      <td>1</td>\n",
       "      <td>0</td>\n",
       "      <td>대창덮밥 너무 느끼하고 소스 너무 많이줘서 단짠이 심했네요</td>\n",
       "    </tr>\n",
       "  </tbody>\n",
       "</table>\n",
       "<p>313 rows × 3 columns</p>\n",
       "</div>"
      ],
      "text/plain": [
       "     score  y                                            ko_text\n",
       "0        1  0  예약할 때는 룸을 주기로 하고 홀을 주고 덥고 직원들이 정신이 없어 그 가격에 내가...\n",
       "1        5  1  점심식사 잘했던곳후식커피한잔 하기도 좋고 주차가능합니다 음식 맛있고 직원분 친절하여...\n",
       "2        4  1                                             녹는다 녹아\n",
       "3        5  1                                 흠잡을곳 없는 반찬이 정갈합니다 \n",
       "4        5  1  코로나 땜에 걱정했는데 방역수칙도 잘 지키시고 살치실이랑 등심 부드러워서 너무 좋아...\n",
       "..     ... ..                                                ...\n",
       "308      5  1  시에가서시간왜이팅기다리는거 싨머하는데참고기다려봄근데 먹고나보니 강남역에 저녁시간이고...\n",
       "309      4  1                                        맛있게 잘 먹었습니다\n",
       "310      4  1                             맛있는데 웨이팅까지해서 먹을건 모르겠어요\n",
       "311      2  0  음 음 덮밥에 소스가 너무 많아서 단 밥이 됐어요 대창 역시나 너무 느끼하네요 느끼...\n",
       "312      1  0                   대창덮밥 너무 느끼하고 소스 너무 많이줘서 단짠이 심했네요\n",
       "\n",
       "[313 rows x 3 columns]"
      ]
     },
     "execution_count": 18,
     "metadata": {},
     "output_type": "execute_result"
    }
   ],
   "source": [
    "import numpy as np\n",
    "df = df.astype({'ko_text':'str'})\n",
    "df=df[df['ko_text']!=\"\"]\n",
    "df=df.reset_index(drop = True)\n",
    "df\n",
    "\n"
   ]
  },
  {
   "cell_type": "markdown",
   "id": "monthly-shannon",
   "metadata": {},
   "source": [
    "### 형태소 추출"
   ]
  },
  {
   "cell_type": "code",
   "execution_count": 19,
   "id": "chubby-offset",
   "metadata": {},
   "outputs": [],
   "source": [
    "from konlpy.tag import Okt\n",
    "#konlpy 라이브러리로 텍스트 데이터에서 형태소를 추출\n",
    "def get_pos(x):\n",
    "    tagger = Okt()\n",
    "    pos = tagger.pos(x)\n",
    "    pos = ['{}/{}'.format(word,tag) for word, tag in pos]\n",
    "    return pos"
   ]
  },
  {
   "cell_type": "code",
   "execution_count": 20,
   "id": "binary-allah",
   "metadata": {},
   "outputs": [
    {
     "data": {
      "text/plain": [
       "'예약할 때는 룸을 주기로 하고 홀을 주고 덥고 직원들이 정신이 없어 그 가격에 내가 직접 구워먹고 갈비살 등심은 질기고 냉면은 맛이 없고 장어 양념들도 제 때 안 가져다 주고 회식으로 한시간만에 만원을 썼는데 이런 경험 처음입니다'"
      ]
     },
     "execution_count": 20,
     "metadata": {},
     "output_type": "execute_result"
    }
   ],
   "source": [
    "df['ko_text'][0]"
   ]
  },
  {
   "cell_type": "code",
   "execution_count": 21,
   "id": "weighted-yacht",
   "metadata": {},
   "outputs": [
    {
     "name": "stdout",
     "output_type": "stream",
     "text": [
      "['예약/Noun', '할/Verb', '때/Noun', '는/Josa', '룸/Noun', '을/Josa', '주기/Noun', '로/Josa', '하고/Verb', '홀/Noun', '을/Josa', '주고/Verb', '덥고/Adjective', '직원/Noun', '들/Suffix', '이/Josa', '정신/Noun', '이/Josa', '없어/Adjective', '그/Noun', '가격/Noun', '에/Josa', '내/Noun', '가/Josa', '직접/Noun', '구워/Verb', '먹고/Verb', '갈비살/Noun', '등심/Noun', '은/Josa', '질/Noun', '기고/Noun', '냉면/Noun', '은/Josa', '맛/Noun', '이/Josa', '없고/Adjective', '장어/Noun', '양념/Noun', '들/Suffix', '도/Josa', '제/Noun', '때/Noun', '안/Noun', '가져다/Verb', '주고/Verb', '회식/Noun', '으로/Josa', '한/Determiner', '시간/Noun', '만에/Josa', '만원/Noun', '을/Josa', '썼는데/Verb', '이런/Adjective', '경험/Noun', '처음/Noun', '입니다/Adjective']\n"
     ]
    }
   ],
   "source": [
    "#형태소 추출 동작 테스트 \n",
    "result = get_pos(df['ko_text'][0])\n",
    "print(result)"
   ]
  },
  {
   "cell_type": "code",
   "execution_count": 22,
   "id": "moderate-translator",
   "metadata": {},
   "outputs": [
    {
     "name": "stdout",
     "output_type": "stream",
     "text": [
      "(313, 2438)\n"
     ]
    }
   ],
   "source": [
    "#벡터화\n",
    "from sklearn.feature_extraction.text import CountVectorizer\n",
    "\n",
    "#형태소를 벡터 형태의 학습 데이터셋(X 데이터)으로 변환\n",
    "index_vectorizer = CountVectorizer(tokenizer = lambda x : get_pos(x))\n",
    "X = index_vectorizer.fit_transform(df['ko_text'].tolist())\n",
    "#토큰화로 열을 늘려준다 \n",
    "print(X.shape)"
   ]
  },
  {
   "cell_type": "code",
   "execution_count": 23,
   "id": "09cc8d4a",
   "metadata": {},
   "outputs": [
    {
     "name": "stdout",
     "output_type": "stream",
     "text": [
      "{'예약/Noun': 1594, '할/Verb': 2336, '때/Noun': 690, '는/Josa': 486, '룸/Noun': 723, '을/Josa': 1698, '주기/N,,\n"
     ]
    }
   ],
   "source": [
    "print(str(index_vectorizer.vocabulary_)[:100]+',,')"
   ]
  },
  {
   "cell_type": "code",
   "execution_count": 24,
   "id": "81138f05",
   "metadata": {},
   "outputs": [
    {
     "name": "stdout",
     "output_type": "stream",
     "text": [
      "예약할 때는 룸을 주기로 하고 홀을 주고 덥고 직원들이 정신이 없어 그 가격에 내가 직접 구워먹고 갈비살 등심은 질기고 냉면은 맛이 없고 장어 양념들도 제 때 안 가져다 주고 회식으로 한시간만에 만원을 썼는데 이런 경험 처음입니다\n",
      "  (0, 1594)\t1\n",
      "  (0, 2336)\t1\n",
      "  (0, 690)\t2\n",
      "  (0, 486)\t1\n",
      "  (0, 723)\t1\n",
      "  (0, 1698)\t3\n",
      "  (0, 1992)\t1\n",
      "  (0, 718)\t1\n",
      "  (0, 2274)\t1\n",
      "  (0, 2400)\t1\n",
      "  (0, 1990)\t2\n",
      "  (0, 575)\t1\n",
      "  (0, 2041)\t1\n",
      "  (0, 654)\t2\n",
      "  (0, 1712)\t3\n",
      "  (0, 1927)\t1\n",
      "  (0, 1535)\t1\n",
      "  (0, 260)\t1\n",
      "  (0, 35)\t1\n",
      "  (0, 1551)\t1\n",
      "  (0, 420)\t1\n",
      "  (0, 30)\t1\n",
      "  (0, 2043)\t1\n",
      "  (0, 222)\t1\n",
      "  (0, 839)\t1\n",
      "  (0, 83)\t1\n",
      "  (0, 677)\t1\n",
      "  (0, 1697)\t2\n",
      "  (0, 2046)\t1\n",
      "  (0, 302)\t1\n",
      "  (0, 431)\t1\n",
      "  (0, 777)\t1\n",
      "  (0, 1520)\t1\n",
      "  (0, 1862)\t1\n",
      "  (0, 1478)\t1\n",
      "  (0, 585)\t1\n",
      "  (0, 1930)\t1\n",
      "  (0, 1408)\t1\n",
      "  (0, 66)\t1\n",
      "  (0, 2414)\t1\n",
      "  (0, 1692)\t1\n",
      "  (0, 2320)\t1\n",
      "  (0, 1282)\t1\n",
      "  (0, 753)\t1\n",
      "  (0, 754)\t1\n",
      "  (0, 1354)\t1\n",
      "  (0, 1732)\t1\n",
      "  (0, 164)\t1\n",
      "  (0, 2111)\t1\n",
      "  (0, 1799)\t1\n"
     ]
    }
   ],
   "source": [
    "print(df['ko_text'][0])\n",
    "print(X[0])"
   ]
  },
  {
   "cell_type": "markdown",
   "id": "1eb98d66",
   "metadata": {},
   "source": [
    "## TF-IDF(Term Frequency-Inverse Document Frequecy)\n",
    "\n",
    "- 단어 빈도를 나타내는 Tf와 문서 빈도를 나타내는 DF의 역수(Inverse)인 IDF를 곱한 값을 의미합니다.\n",
    "- 만약 1번 텍스트에 '맛집' 이라는 단어가 3번 등장하고, 모든 데이터에서 '맛집'이라는 단어가 10개의 텍스트에 등장한다고 할 때,\n",
    "- TF : 3 IDF : 0.1이된다 따라서 TF-IDF는 다른 문서들에서는 등장하지 않지만 현재 문서에서는 많이 등장하는 단어를 의미하며 그단어가 현재 문서에서 얼마나 중요한지를 피처로 나타내는 방법\n"
   ]
  },
  {
   "cell_type": "code",
   "execution_count": 26,
   "id": "31d9f256",
   "metadata": {},
   "outputs": [
    {
     "name": "stdout",
     "output_type": "stream",
     "text": [
      "(313, 2438)\n",
      "  (0, 2414)\t0.12238914390959485\n",
      "  (0, 2400)\t0.15552599271448392\n",
      "  (0, 2336)\t0.1197659293266783\n",
      "  (0, 2320)\t0.12528897309578083\n",
      "  (0, 2274)\t0.1414665792463585\n",
      "  (0, 2111)\t0.1197659293266783\n",
      "  (0, 2046)\t0.12528897309578083\n",
      "  (0, 2043)\t0.12528897309578083\n",
      "  (0, 2041)\t0.08038761628790153\n",
      "  (0, 1992)\t0.16668557699642333\n",
      "  (0, 1990)\t0.282933158492717\n",
      "  (0, 1930)\t0.128530706322896\n",
      "  (0, 1927)\t0.13644855737772027\n",
      "  (0, 1862)\t0.13644855737772027\n",
      "  (0, 1799)\t0.10196886072158479\n",
      "  (0, 1732)\t0.1414665792463585\n",
      "  (0, 1712)\t0.1714593354755764\n",
      "  (0, 1698)\t0.26858672912392567\n",
      "  (0, 1697)\t0.14174335961185974\n",
      "  (0, 1692)\t0.09124965257614828\n",
      "  (0, 1594)\t0.1197659293266783\n",
      "  (0, 1551)\t0.062222626545806854\n",
      "  (0, 1535)\t0.15552599271448392\n",
      "  (0, 1520)\t0.11516811289275837\n",
      "  (0, 1478)\t0.13220588034028785\n",
      "  (0, 1408)\t0.11516811289275837\n",
      "  (0, 1354)\t0.16668557699642333\n",
      "  (0, 1282)\t0.1173711220409566\n",
      "  (0, 839)\t0.10945327098613235\n",
      "  (0, 777)\t0.07045147437121156\n",
      "  (0, 754)\t0.13644855737772027\n",
      "  (0, 753)\t0.16668557699642333\n",
      "  (0, 723)\t0.13644855737772027\n",
      "  (0, 718)\t0.09829368670419293\n",
      "  (0, 690)\t0.2013769879798293\n",
      "  (0, 677)\t0.13220588034028785\n",
      "  (0, 654)\t0.17741453790209144\n",
      "  (0, 585)\t0.060427016793379244\n",
      "  (0, 575)\t0.16668557699642333\n",
      "  (0, 486)\t0.08355466040173698\n",
      "  (0, 431)\t0.1476081416596597\n",
      "  (0, 420)\t0.13220588034028785\n",
      "  (0, 302)\t0.1414665792463585\n",
      "  (0, 260)\t0.13220588034028785\n",
      "  (0, 222)\t0.13644855737772027\n",
      "  (0, 164)\t0.16668557699642333\n",
      "  (0, 83)\t0.16668557699642333\n",
      "  (0, 66)\t0.15552599271448392\n",
      "  (0, 35)\t0.09215212429089176\n",
      "  (0, 30)\t0.07400775869465029\n"
     ]
    }
   ],
   "source": [
    "from sklearn.feature_extraction.text import TfidfTransformer\n",
    "\n",
    "#TF-IDF 방법으로 형태소를 벡터 형태의 학습 데이터셋(X 데이터)으로 변환합니다\n",
    "tfidf_vectorizer = TfidfTransformer()\n",
    "X = tfidf_vectorizer.fit_transform(X)\n",
    "\n",
    "print(X.shape)\n",
    "print(X[0])"
   ]
  },
  {
   "cell_type": "markdown",
   "id": "104a492c",
   "metadata": {},
   "source": [
    "# 분류 : 긍정/부정 리뷰 분류"
   ]
  },
  {
   "cell_type": "code",
   "execution_count": 27,
   "id": "783899b8",
   "metadata": {},
   "outputs": [
    {
     "name": "stdout",
     "output_type": "stream",
     "text": [
      "(219, 2438) (94, 2438)\n",
      "(219,) (94,)\n"
     ]
    }
   ],
   "source": [
    "from sklearn.model_selection import train_test_split\n",
    "\n",
    "y = df['y']\n",
    "x_train, x_test, y_train, y_test = train_test_split(X, y, test_size = 0.3)\n",
    "\n",
    "print(x_train.shape, x_test.shape)\n",
    "print(y_train.shape, y_test.shape)"
   ]
  },
  {
   "cell_type": "markdown",
   "id": "0e0252ad",
   "metadata": {},
   "source": [
    "## 분류 모델링: 로지스틱 회귀 모델\n"
   ]
  },
  {
   "cell_type": "code",
   "execution_count": null,
   "id": "9e34aa2a",
   "metadata": {},
   "outputs": [],
   "source": [
    "from sklearn.linear_model import LogisticRegression\n",
    "from sklearn.metrics import accuracy_score, precision_score, recall_score, f1_score\n",
    "\n",
    "#로지스틱 회귀 모델을 학습\n",
    "lr = L"
   ]
  }
 ],
 "metadata": {
  "kernelspec": {
   "display_name": "Python 3",
   "language": "python",
   "name": "python3"
  },
  "language_info": {
   "codemirror_mode": {
    "name": "ipython",
    "version": 3
   },
   "file_extension": ".py",
   "mimetype": "text/x-python",
   "name": "python",
   "nbconvert_exporter": "python",
   "pygments_lexer": "ipython3",
   "version": "3.8.8"
  }
 },
 "nbformat": 4,
 "nbformat_minor": 5
}
