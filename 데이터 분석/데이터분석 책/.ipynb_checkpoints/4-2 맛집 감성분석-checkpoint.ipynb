{
 "cells": [
  {
   "cell_type": "markdown",
   "id": "occupational-serum",
   "metadata": {},
   "source": [
    "# 네이버 맛집 정적 크롤링( 네이버가 서비스 안함..)"
   ]
  },
  {
   "cell_type": "code",
   "execution_count": 5,
   "id": "expired-estonia",
   "metadata": {
    "collapsed": true
   },
   "outputs": [
    {
     "ename": "JSONDecodeError",
     "evalue": "Expecting value: line 1 column 1 (char 0)",
     "output_type": "error",
     "traceback": [
      "\u001b[1;31m---------------------------------------------------------------------------\u001b[0m",
      "\u001b[1;31mJSONDecodeError\u001b[0m                           Traceback (most recent call last)",
      "\u001b[1;32m<ipython-input-5-a7d2f4e476e8>\u001b[0m in \u001b[0;36m<module>\u001b[1;34m\u001b[0m\n\u001b[0;32m     21\u001b[0m \u001b[1;31m#반환받은 API 데이터에 json.loads 함수를 사용\u001b[0m\u001b[1;33m\u001b[0m\u001b[1;33m\u001b[0m\u001b[1;33m\u001b[0m\u001b[0m\n\u001b[0;32m     22\u001b[0m \u001b[0mjson_data\u001b[0m \u001b[1;33m=\u001b[0m \u001b[0mrequests\u001b[0m\u001b[1;33m.\u001b[0m\u001b[0mget\u001b[0m\u001b[1;33m(\u001b[0m\u001b[0murl_concat\u001b[0m\u001b[1;33m)\u001b[0m\u001b[1;33m.\u001b[0m\u001b[0mtext\u001b[0m\u001b[1;33m\u001b[0m\u001b[1;33m\u001b[0m\u001b[0m\n\u001b[1;32m---> 23\u001b[1;33m \u001b[0mrestaurant_list_data\u001b[0m \u001b[1;33m=\u001b[0m \u001b[0mjson\u001b[0m\u001b[1;33m.\u001b[0m\u001b[0mloads\u001b[0m\u001b[1;33m(\u001b[0m\u001b[0mjson_data\u001b[0m\u001b[1;33m)\u001b[0m\u001b[1;33m\u001b[0m\u001b[1;33m\u001b[0m\u001b[0m\n\u001b[0m\u001b[0;32m     24\u001b[0m \u001b[1;33m\u001b[0m\u001b[0m\n\u001b[0;32m     25\u001b[0m \u001b[1;31m#관련도순 상위 100개의 고기집 리스트 정보를 추출\u001b[0m\u001b[1;33m\u001b[0m\u001b[1;33m\u001b[0m\u001b[1;33m\u001b[0m\u001b[0m\n",
      "\u001b[1;32mc:\\users\\wodud\\appdata\\local\\programs\\python\\python37\\lib\\json\\__init__.py\u001b[0m in \u001b[0;36mloads\u001b[1;34m(s, encoding, cls, object_hook, parse_float, parse_int, parse_constant, object_pairs_hook, **kw)\u001b[0m\n\u001b[0;32m    346\u001b[0m             \u001b[0mparse_int\u001b[0m \u001b[1;32mis\u001b[0m \u001b[1;32mNone\u001b[0m \u001b[1;32mand\u001b[0m \u001b[0mparse_float\u001b[0m \u001b[1;32mis\u001b[0m \u001b[1;32mNone\u001b[0m \u001b[1;32mand\u001b[0m\u001b[1;33m\u001b[0m\u001b[1;33m\u001b[0m\u001b[0m\n\u001b[0;32m    347\u001b[0m             parse_constant is None and object_pairs_hook is None and not kw):\n\u001b[1;32m--> 348\u001b[1;33m         \u001b[1;32mreturn\u001b[0m \u001b[0m_default_decoder\u001b[0m\u001b[1;33m.\u001b[0m\u001b[0mdecode\u001b[0m\u001b[1;33m(\u001b[0m\u001b[0ms\u001b[0m\u001b[1;33m)\u001b[0m\u001b[1;33m\u001b[0m\u001b[1;33m\u001b[0m\u001b[0m\n\u001b[0m\u001b[0;32m    349\u001b[0m     \u001b[1;32mif\u001b[0m \u001b[0mcls\u001b[0m \u001b[1;32mis\u001b[0m \u001b[1;32mNone\u001b[0m\u001b[1;33m:\u001b[0m\u001b[1;33m\u001b[0m\u001b[1;33m\u001b[0m\u001b[0m\n\u001b[0;32m    350\u001b[0m         \u001b[0mcls\u001b[0m \u001b[1;33m=\u001b[0m \u001b[0mJSONDecoder\u001b[0m\u001b[1;33m\u001b[0m\u001b[1;33m\u001b[0m\u001b[0m\n",
      "\u001b[1;32mc:\\users\\wodud\\appdata\\local\\programs\\python\\python37\\lib\\json\\decoder.py\u001b[0m in \u001b[0;36mdecode\u001b[1;34m(self, s, _w)\u001b[0m\n\u001b[0;32m    335\u001b[0m \u001b[1;33m\u001b[0m\u001b[0m\n\u001b[0;32m    336\u001b[0m         \"\"\"\n\u001b[1;32m--> 337\u001b[1;33m         \u001b[0mobj\u001b[0m\u001b[1;33m,\u001b[0m \u001b[0mend\u001b[0m \u001b[1;33m=\u001b[0m \u001b[0mself\u001b[0m\u001b[1;33m.\u001b[0m\u001b[0mraw_decode\u001b[0m\u001b[1;33m(\u001b[0m\u001b[0ms\u001b[0m\u001b[1;33m,\u001b[0m \u001b[0midx\u001b[0m\u001b[1;33m=\u001b[0m\u001b[0m_w\u001b[0m\u001b[1;33m(\u001b[0m\u001b[0ms\u001b[0m\u001b[1;33m,\u001b[0m \u001b[1;36m0\u001b[0m\u001b[1;33m)\u001b[0m\u001b[1;33m.\u001b[0m\u001b[0mend\u001b[0m\u001b[1;33m(\u001b[0m\u001b[1;33m)\u001b[0m\u001b[1;33m)\u001b[0m\u001b[1;33m\u001b[0m\u001b[1;33m\u001b[0m\u001b[0m\n\u001b[0m\u001b[0;32m    338\u001b[0m         \u001b[0mend\u001b[0m \u001b[1;33m=\u001b[0m \u001b[0m_w\u001b[0m\u001b[1;33m(\u001b[0m\u001b[0ms\u001b[0m\u001b[1;33m,\u001b[0m \u001b[0mend\u001b[0m\u001b[1;33m)\u001b[0m\u001b[1;33m.\u001b[0m\u001b[0mend\u001b[0m\u001b[1;33m(\u001b[0m\u001b[1;33m)\u001b[0m\u001b[1;33m\u001b[0m\u001b[1;33m\u001b[0m\u001b[0m\n\u001b[0;32m    339\u001b[0m         \u001b[1;32mif\u001b[0m \u001b[0mend\u001b[0m \u001b[1;33m!=\u001b[0m \u001b[0mlen\u001b[0m\u001b[1;33m(\u001b[0m\u001b[0ms\u001b[0m\u001b[1;33m)\u001b[0m\u001b[1;33m:\u001b[0m\u001b[1;33m\u001b[0m\u001b[1;33m\u001b[0m\u001b[0m\n",
      "\u001b[1;32mc:\\users\\wodud\\appdata\\local\\programs\\python\\python37\\lib\\json\\decoder.py\u001b[0m in \u001b[0;36mraw_decode\u001b[1;34m(self, s, idx)\u001b[0m\n\u001b[0;32m    353\u001b[0m             \u001b[0mobj\u001b[0m\u001b[1;33m,\u001b[0m \u001b[0mend\u001b[0m \u001b[1;33m=\u001b[0m \u001b[0mself\u001b[0m\u001b[1;33m.\u001b[0m\u001b[0mscan_once\u001b[0m\u001b[1;33m(\u001b[0m\u001b[0ms\u001b[0m\u001b[1;33m,\u001b[0m \u001b[0midx\u001b[0m\u001b[1;33m)\u001b[0m\u001b[1;33m\u001b[0m\u001b[1;33m\u001b[0m\u001b[0m\n\u001b[0;32m    354\u001b[0m         \u001b[1;32mexcept\u001b[0m \u001b[0mStopIteration\u001b[0m \u001b[1;32mas\u001b[0m \u001b[0merr\u001b[0m\u001b[1;33m:\u001b[0m\u001b[1;33m\u001b[0m\u001b[1;33m\u001b[0m\u001b[0m\n\u001b[1;32m--> 355\u001b[1;33m             \u001b[1;32mraise\u001b[0m \u001b[0mJSONDecodeError\u001b[0m\u001b[1;33m(\u001b[0m\u001b[1;34m\"Expecting value\"\u001b[0m\u001b[1;33m,\u001b[0m \u001b[0ms\u001b[0m\u001b[1;33m,\u001b[0m \u001b[0merr\u001b[0m\u001b[1;33m.\u001b[0m\u001b[0mvalue\u001b[0m\u001b[1;33m)\u001b[0m \u001b[1;32mfrom\u001b[0m \u001b[1;32mNone\u001b[0m\u001b[1;33m\u001b[0m\u001b[1;33m\u001b[0m\u001b[0m\n\u001b[0m\u001b[0;32m    356\u001b[0m         \u001b[1;32mreturn\u001b[0m \u001b[0mobj\u001b[0m\u001b[1;33m,\u001b[0m \u001b[0mend\u001b[0m\u001b[1;33m\u001b[0m\u001b[1;33m\u001b[0m\u001b[0m\n",
      "\u001b[1;31mJSONDecodeError\u001b[0m: Expecting value: line 1 column 1 (char 0)"
     ]
    }
   ],
   "source": [
    "#맛집 분류 \n",
    "#네이버 서비스 막힘\n",
    "%matplotlib inline\n",
    "#관려도순 상위 100개의 고기집 리스트 정보 API구하기\n",
    "import pandas as pd\n",
    "import numpy as np\n",
    "import matplotlib as plt\n",
    "import seaborn as sns\n",
    "import requests\n",
    "import json\n",
    "\n",
    "#네이버 플레이스 API를 호출하기위한 주소\n",
    "source_url = \"https://store.naver.com/sogum/api/businesses\"\n",
    "\n",
    "#검색 규칙 파라미터 추가\n",
    "url_parameter_start = 'start=1'\n",
    "url_parameter_display = '&display='\n",
    "url_parameter_query='&query=강남역+고기집'\n",
    "url_parameter_sorting = \"&sortingOrder=precision\"\n",
    "url_concat = source_url + url_parameter_start + url_parameter_display + str(100) + url_parameter_query +url_parameter_sorting\n",
    "\n",
    "#반환받은 API 데이터에 json.loads 함수를 사용\n",
    "json_data = requests.get(url_concat).text\n",
    "restaurant_list_data = json.loads(json_data)\n",
    "\n",
    "#관련도순 상위 100개의 고기집 리스트 정보를 추출\n",
    "print(str(restaurant_list_data))\n"
   ]
  },
  {
   "attachments": {
    "image.png": {
     "image/png": "[encoded data removed]"
    }
   },
   "cell_type": "markdown",
   "id": "applicable-youth",
   "metadata": {},
   "source": [
    "![image.png](attachment:image.png)"
   ]
  },
  {
   "cell_type": "code",
   "execution_count": null,
   "id": "portable-bulgaria",
   "metadata": {},
   "outputs": [],
   "source": [
    "import requests\n",
    "from bs4 BeautifulSoup\n",
    "import re\n",
    "#크롤링에 필요한 id정보 추출\n",
    "restaurant_id_list = []\n",
    "\n",
    "\n",
    "#100개씩의 Api 호출 결과를 10회 가져온다 \n",
    "for start_idx in [1,101,201,301,401,501,601,701,801,901]:\n",
    "    \n",
    "    #네이버 플레시으 API를 호출 위한 기본주소 \n",
    "    source_url = 'https://store.naver.com/sogum/api/businesses'\n",
    "    \n",
    "    #검색 규칙 파라미터를 추가\n",
    "    url_parameter_start = 'start=' +str(start_idx)\n",
    "    url_parameter_display = '&display='\n",
    "    url_parameter_query='&query=강남역+고기집'\n",
    "    url_parameter_sorting = \"&sortingOrder=precision\"\n",
    "    url_concat = source_url + url_parameter_start + url_parameter_display + str(start_idx+99) + url_parameter_query +url_parameter_sorting\n",
    "    \n",
    "    json_data = requests.get(url_concat).text\n",
    "    restaurant_list_data = json.load(json_data)\n",
    "    # 크롤링에 필요한 각 리뷰 상세 페이지의 id를 추출\n",
    "    for restaurant in restaurant_list_data['items']:\n",
    "        if 'moreBookingReviewsPath' in restaurant:\n",
    "            restaurant_id_list.append(restaurant['id'])\n",
    "\n",
    "restaurant_id_list = list(set(restaurant_id_list)) #레스토랑 id 를 크롤링해서 집어 넣는다 \n",
    "\n",
    "\n",
    "columns = ['score', 'review']\n",
    "\n",
    "#데이터 프레임을 만든다 \n",
    "df = pd.DataFrame(columns = columns)\n",
    "\n",
    "#리뷰 상세 페이지의 기본 주소\n",
    "source_url_head = 'https://store.naver.com/restaurants/detail?id='\n",
    "source_url_tail = '&tab=bookingReview#_tab'\n",
    "\n",
    "\n",
    "for idx in range(0, len(restaurant_id_list)):\n",
    "    \n",
    "    #앞서 추출한 리뷰 상세 페이지의 레스토랑 id를 기본 주소의 파라미터로 추가\n",
    "    #레스토랑 아이디 페이지\n",
    "    req = requests.get(source_url_head + str(restaurant_id_list[idx]) + source_url_tail)\n",
    "    #아이디 내용\n",
    "    html = req.content\n",
    "    #파싱\n",
    "    soup = BeautifulSoup(html, 'lxml')\n",
    "    #review_area 파씽\n",
    "    review_area = soup.find(name = 'div', attrs = {'class':'review_area'})\n",
    "    \n",
    "    #리뷰가 없는 페이즌 아무 작업도 수행하지 않습니다  (다음꺼 수행)\n",
    "    if review_area is None:\n",
    "        continue\n",
    "    \n",
    "    #개발자 도구로 살펴본 html 구조에서 리뷰의 점수, 텍스트 부분을 추출\n",
    "    review_list = review_area.find_all(name = 'div', attrs = {'class': 'info_area'})\n",
    "    for review in review_list:\n",
    "        score = review.find(name = 'span', attrs = {'class' : 'score'}).text\n",
    "        review_txt = review.find(name='div', attrs={'class':'review_txt'}).text\n",
    "        \n",
    "        #추출한 리뷰의 점수, 리뷰텍스트를 데이터프레임으로 병합\n",
    "        row = [score,review_txt]\n",
    "        #series를 {'score': }\n",
    "        series = pd.Series(row, index=df.columns)\n",
    "        df = df.append(series, ignore_index = True)\n",
    "\n",
    "# 4점 이상의 리뷰는 긍정 리뷰, 3점이하의 리뷰는 부정리뷰로 평가\n",
    "df['y'] = df['score'].apply(lambda x: 1 if int(x) > 3 else 0)\n",
    "print(df.shape)\n",
    "df.head()\n",
    "\n",
    "\n"
   ]
  },
  {
   "cell_type": "markdown",
   "id": "optical-samuel",
   "metadata": {},
   "source": [
    "# 궁금해서 테스트 "
   ]
  },
  {
   "cell_type": "code",
   "execution_count": 17,
   "id": "russian-answer",
   "metadata": {},
   "outputs": [
    {
     "name": "stdout",
     "output_type": "stream",
     "text": [
      "score      123\n",
      "review    1234\n",
      "dtype: object\n"
     ]
    },
    {
     "data": {
      "text/html": [
       "<div>\n",
       "<style scoped>\n",
       "    .dataframe tbody tr th:only-of-type {\n",
       "        vertical-align: middle;\n",
       "    }\n",
       "\n",
       "    .dataframe tbody tr th {\n",
       "        vertical-align: top;\n",
       "    }\n",
       "\n",
       "    .dataframe thead th {\n",
       "        text-align: right;\n",
       "    }\n",
       "</style>\n",
       "<table border=\"1\" class=\"dataframe\">\n",
       "  <thead>\n",
       "    <tr style=\"text-align: right;\">\n",
       "      <th></th>\n",
       "      <th>score</th>\n",
       "      <th>review</th>\n",
       "    </tr>\n",
       "  </thead>\n",
       "  <tbody>\n",
       "    <tr>\n",
       "      <th>0</th>\n",
       "      <td>123</td>\n",
       "      <td>1234</td>\n",
       "    </tr>\n",
       "    <tr>\n",
       "      <th>1</th>\n",
       "      <td>123</td>\n",
       "      <td>1234</td>\n",
       "    </tr>\n",
       "  </tbody>\n",
       "</table>\n",
       "</div>"
      ],
      "text/plain": [
       "  score review\n",
       "0   123   1234\n",
       "1   123   1234"
      ]
     },
     "execution_count": 17,
     "metadata": {},
     "output_type": "execute_result"
    }
   ],
   "source": [
    "columns = ['score', 'review']\n",
    "\n",
    "test = pd.DataFrame(columns = columns)\n",
    "test_row = ['123','1234']\n",
    "test_series = pd.Series(test_row, index = test.columns)\n",
    "print(test_series) #test_series = {'score':['123'], 'reivew':['1234']}\n",
    "test =test.append(test_series, ignore_index = True)\n",
    "test =test.append(test_series, ignore_index = True)\n",
    "test"
   ]
  },
  {
   "cell_type": "markdown",
   "id": "structural-organizer",
   "metadata": {},
   "source": [
    "# 카카오 맛집 (동적 크롤링)"
   ]
  },
  {
   "cell_type": "code",
   "execution_count": null,
   "id": "acknowledged-pickup",
   "metadata": {},
   "outputs": [],
   "source": [
    "import re\n",
    "\n",
    "#텍스트 정제 함수: 한글 이외의 문자는 전부 제거\n",
    "def test_cleaning(text):\n",
    "    #한글의 정규표현식으로 한글만 추출\n",
    "    hangul = re.compile('[^ ㄱ-ㅣ 가-힣]+')\n",
    "    result = hangul.sub('',text)\n",
    "    return result\n",
    "\n",
    "#함수를 적용하여 리뷰에서 한글만 추출\n",
    "df['ko_text'] = df['review'].apply(lambda x : text_cleaning(x))\n",
    "del df['review']\n",
    "df.head()\n"
   ]
  }
 ],
 "metadata": {
  "kernelspec": {
   "display_name": "Python 3",
   "language": "python",
   "name": "python3"
  },
  "language_info": {
   "codemirror_mode": {
    "name": "ipython",
    "version": 3
   },
   "file_extension": ".py",
   "mimetype": "text/x-python",
   "name": "python",
   "nbconvert_exporter": "python",
   "pygments_lexer": "ipython3",
   "version": "3.7.7"
  }
 },
 "nbformat": 4,
 "nbformat_minor": 5
}
