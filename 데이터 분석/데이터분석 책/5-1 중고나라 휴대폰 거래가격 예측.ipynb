{
 "cells": [
  {
   "cell_type": "code",
   "execution_count": 1,
   "id": "214a6ad1",
   "metadata": {},
   "outputs": [
    {
     "name": "stdout",
     "output_type": "stream",
     "text": [
      "<class 'pandas.core.frame.DataFrame'>\n",
      "RangeIndex: 4951 entries, 0 to 4950\n",
      "Data columns (total 7 columns):\n",
      " #   Column         Non-Null Count  Dtype  \n",
      "---  ------         --------------  -----  \n",
      " 0   create_date    4951 non-null   object \n",
      " 1   price          4951 non-null   float64\n",
      " 2   text           4951 non-null   object \n",
      " 3   phone_model    4951 non-null   object \n",
      " 4   factory_price  4951 non-null   int64  \n",
      " 5   maker          4951 non-null   object \n",
      " 6   price_index    4951 non-null   float64\n",
      "dtypes: float64(2), int64(1), object(4)\n",
      "memory usage: 270.9+ KB\n",
      "None\n"
     ]
    },
    {
     "data": {
      "text/html": [
       "<div>\n",
       "<style scoped>\n",
       "    .dataframe tbody tr th:only-of-type {\n",
       "        vertical-align: middle;\n",
       "    }\n",
       "\n",
       "    .dataframe tbody tr th {\n",
       "        vertical-align: top;\n",
       "    }\n",
       "\n",
       "    .dataframe thead th {\n",
       "        text-align: right;\n",
       "    }\n",
       "</style>\n",
       "<table border=\"1\" class=\"dataframe\">\n",
       "  <thead>\n",
       "    <tr style=\"text-align: right;\">\n",
       "      <th></th>\n",
       "      <th>create_date</th>\n",
       "      <th>price</th>\n",
       "      <th>text</th>\n",
       "      <th>phone_model</th>\n",
       "      <th>factory_price</th>\n",
       "      <th>maker</th>\n",
       "      <th>price_index</th>\n",
       "    </tr>\n",
       "  </thead>\n",
       "  <tbody>\n",
       "    <tr>\n",
       "      <th>0</th>\n",
       "      <td>2017-03-19  4 35 00 PM</td>\n",
       "      <td>550000.0</td>\n",
       "      <td>아이폰6플러스 블랙+애플라이트 64기가 팝니다  아이폰6플러스 블랙+애플라이트 64...</td>\n",
       "      <td>iphone 6 64gb</td>\n",
       "      <td>924000</td>\n",
       "      <td>apple</td>\n",
       "      <td>95.96</td>\n",
       "    </tr>\n",
       "    <tr>\n",
       "      <th>1</th>\n",
       "      <td>2016-10-26  12 08 00 PM</td>\n",
       "      <td>380000.0</td>\n",
       "      <td>갤럭시s6엣지 32기가 팝니다 직거래  갤럭시s6엣지 32기가 품명 갤럭시s6엣지제...</td>\n",
       "      <td>galaxy s6 edge 32gb</td>\n",
       "      <td>979000</td>\n",
       "      <td>samsung</td>\n",
       "      <td>103.05</td>\n",
       "    </tr>\n",
       "    <tr>\n",
       "      <th>2</th>\n",
       "      <td>2016-10-25  12 52 00 PM</td>\n",
       "      <td>300000.0</td>\n",
       "      <td>갤럭시s6 풀박스로 팝니다~~~ 새상품급  실기스조차 없어요  직접거래 구매한지 1...</td>\n",
       "      <td>galaxy s6 32gb</td>\n",
       "      <td>854000</td>\n",
       "      <td>samsung</td>\n",
       "      <td>103.05</td>\n",
       "    </tr>\n",
       "    <tr>\n",
       "      <th>3</th>\n",
       "      <td>2017-03-23  11 14 00 PM</td>\n",
       "      <td>290000.0</td>\n",
       "      <td>sk  g5 티탄 폰 단품판매합니다  직접거래 sk g5 티탄 폰 단품판매합니다 올...</td>\n",
       "      <td>lg g5 32gb</td>\n",
       "      <td>836000</td>\n",
       "      <td>lg</td>\n",
       "      <td>95.96</td>\n",
       "    </tr>\n",
       "    <tr>\n",
       "      <th>4</th>\n",
       "      <td>2016-04-11  7 35 00 PM</td>\n",
       "      <td>280000.0</td>\n",
       "      <td>sony 엑스페리아 c5 ultra e5506 16gb  미사용 새제품 팝니다 1...</td>\n",
       "      <td>lg u 32gb</td>\n",
       "      <td>396000</td>\n",
       "      <td>lg</td>\n",
       "      <td>102.59</td>\n",
       "    </tr>\n",
       "  </tbody>\n",
       "</table>\n",
       "</div>"
      ],
      "text/plain": [
       "               create_date     price  \\\n",
       "0   2017-03-19  4 35 00 PM  550000.0   \n",
       "1  2016-10-26  12 08 00 PM  380000.0   \n",
       "2  2016-10-25  12 52 00 PM  300000.0   \n",
       "3  2017-03-23  11 14 00 PM  290000.0   \n",
       "4   2016-04-11  7 35 00 PM  280000.0   \n",
       "\n",
       "                                                text          phone_model  \\\n",
       "0  아이폰6플러스 블랙+애플라이트 64기가 팝니다  아이폰6플러스 블랙+애플라이트 64...        iphone 6 64gb   \n",
       "1  갤럭시s6엣지 32기가 팝니다 직거래  갤럭시s6엣지 32기가 품명 갤럭시s6엣지제...  galaxy s6 edge 32gb   \n",
       "2  갤럭시s6 풀박스로 팝니다~~~ 새상품급  실기스조차 없어요  직접거래 구매한지 1...       galaxy s6 32gb   \n",
       "3  sk  g5 티탄 폰 단품판매합니다  직접거래 sk g5 티탄 폰 단품판매합니다 올...           lg g5 32gb   \n",
       "4   sony 엑스페리아 c5 ultra e5506 16gb  미사용 새제품 팝니다 1...            lg u 32gb   \n",
       "\n",
       "   factory_price    maker  price_index  \n",
       "0         924000    apple        95.96  \n",
       "1         979000  samsung       103.05  \n",
       "2         854000  samsung       103.05  \n",
       "3         836000       lg        95.96  \n",
       "4         396000       lg       102.59  "
      ]
     },
     "execution_count": 1,
     "metadata": {},
     "output_type": "execute_result"
    }
   ],
   "source": [
    "%matplotlib inline\n",
    "\n",
    "import pandas as pd\n",
    "import numpy as np\n",
    "import matplotlib.pyplot as plt\n",
    "import seaborn as sns\n",
    "\n",
    "df = pd.read_csv('./python-data-analysis-master/data/used_mobile_phone.csv')\n",
    "print(df.info())\n",
    "df.head()"
   ]
  },
  {
   "cell_type": "code",
   "execution_count": 3,
   "id": "cd303ab0",
   "metadata": {},
   "outputs": [
    {
     "data": {
      "text/plain": [
       "2016-10    2956\n",
       "2017-03    1311\n",
       "2016-08     107\n",
       "2016-09     105\n",
       "2016-04     102\n",
       "2016-05      89\n",
       "2016-06      76\n",
       "2016-07      74\n",
       "2016-03      70\n",
       "2016-02      61\n",
       "Name: month, dtype: int64"
      ]
     },
     "execution_count": 3,
     "metadata": {},
     "output_type": "execute_result"
    }
   ],
   "source": [
    "#create_date로부터 '월'을 의미하는 month 정보를 피처로 추출\n",
    "df['month'] = df['create_date'].apply(lambda x: x[:7])\n",
    "\n",
    "#월별 거래 횟수를 계산하여 출력\n",
    "df['month'].value_counts()\n",
    "\n",
    "#2016년 10월 , 2017년 3월에 집중적으로 수집된 데이터라는것을 알수 있다"
   ]
  },
  {
   "cell_type": "code",
   "execution_count": 4,
   "id": "6cc32b9a",
   "metadata": {},
   "outputs": [
    {
     "data": {
      "image/png": "[encoded data removed]",
      "text/plain": [
       "<Figure size 432x288 with 1 Axes>"
      ]
     },
     "metadata": {
      "needs_background": "light"
     },
     "output_type": "display_data"
    }
   ],
   "source": [
    "#개별 피처 탐색하기 : date 피처 탐색\n",
    "\n",
    "#일별 거래 횟수를 계산하여 그래프로 출력\n",
    "df_day = pd.to_datetime(df['create_date'].apply(lambda x: x[:10])).value_counts()\n",
    "df_day.plot()\n",
    "plt.show()"
   ]
  },
  {
   "cell_type": "code",
   "execution_count": 6,
   "id": "1626a0a0",
   "metadata": {},
   "outputs": [
    {
     "data": {
      "text/plain": [
       "<AxesSubplot:>"
      ]
     },
     "execution_count": 6,
     "metadata": {},
     "output_type": "execute_result"
    },
    {
     "data": {
      "image/png": "[encoded data removed]",
      "text/plain": [
       "<Figure size 432x288 with 1 Axes>"
      ]
     },
     "metadata": {},
     "output_type": "display_data"
    }
   ],
   "source": [
    "#개별 피처 탐색하기 : price 피처탐색\n",
    "\n",
    "#가격의 분포를 그래프로 탐색합니다\n",
    "plt.style.use('ggplot')\n",
    "df['price'].hist(bins = 'auto')\n",
    "\n",
    "#중고 휴대폰이 60만원 이하의 가격대를 형성하고 있고 몇몇은 그 이상에도 거래되고 있는것을 알 수 있다"
   ]
  },
  {
   "cell_type": "code",
   "execution_count": 10,
   "id": "b31463a9",
   "metadata": {},
   "outputs": [
    {
     "name": "stdout",
     "output_type": "stream",
     "text": [
      "459     6.277778e+04\n",
      "462     6.277778e+04\n",
      "93      6.277778e+04\n",
      "728     6.277778e+04\n",
      "484     6.277778e+04\n",
      "            ...     \n",
      "4919    1.072353e+06\n",
      "4867    1.072353e+06\n",
      "4920    1.072353e+06\n",
      "4890    1.072353e+06\n",
      "4906    1.072353e+06\n",
      "Name: price, Length: 4951, dtype: float64 phone_model\n",
      "lg g2 32gb               6.277778e+04\n",
      "galaxy note3 neo 16gb    8.725806e+04\n",
      "galaxy grand max 16gb    8.808571e+04\n",
      "galaxy s4 lte-a 32gb     8.933333e+04\n",
      "g pro2 32gb              9.014286e+04\n",
      "                             ...     \n",
      "iphone 7 32gb            7.043750e+05\n",
      "iphone 7 128gb           8.010000e+05\n",
      "iphone 7 plus 128gb      8.334286e+05\n",
      "iphone 7 plus 256gb      1.067273e+06\n",
      "iphone 7 256gb           1.072353e+06\n",
      "Name: price, Length: 64, dtype: float64\n",
      "588      15232.242924\n",
      "636      15232.242924\n",
      "164      15232.242924\n",
      "660      15232.242924\n",
      "523      15232.242924\n",
      "            ...      \n",
      "4799    270194.699228\n",
      "3244    270194.699228\n",
      "870     270194.699228\n",
      "82      270194.699228\n",
      "1708    270194.699228\n",
      "Name: price, Length: 4951, dtype: float64 phone_model\n",
      "galaxy grand max 16gb     15454.623197\n",
      "galaxy s4 lte-a 32gb      19718.253569\n",
      "nexus 5x 16gb             21281.838893\n",
      "lg g2 32gb                22602.180998\n",
      "g pro2 32gb               24629.182663\n",
      "                             ...      \n",
      "iphone 7 plus 256gb      199202.957262\n",
      "iphone 7 plus 128gb      200646.487602\n",
      "iphone 7 plus 32gb       203080.392807\n",
      "iphone 7 128gb           215526.575033\n",
      "galaxy note7 64gb        273551.283817\n",
      "Name: price, Length: 64, dtype: float64\n"
     ]
    },
    {
     "data": {
      "text/plain": [
       "<AxesSubplot:>"
      ]
     },
     "execution_count": 10,
     "metadata": {},
     "output_type": "execute_result"
    },
    {
     "data": {
      "image/png": "[encoded data removed]",
      "text/plain": [
       "<Figure size 432x288 with 1 Axes>"
      ]
     },
     "metadata": {},
     "output_type": "display_data"
    }
   ],
   "source": [
    "#휴대폰 기종(phone_model)별 가격의 평균과 표준편차를 계산\n",
    "df_price_model_mean = df.groupby('phone_model')['price'].transform(lambda x:np.mean(x))\n",
    "# a = df.groupby('phone_model')['price'].mean() 이거는 계산이 안된다 따라서 .transform(lambda x : np.mean(x)) 을 사용해준다\n",
    "print(df_price_model_mean.sort_values(), a.sort_values())\n",
    "df_price_model_std = df.groupby('phone_model')['price'].transform(lambda x : np.std(x))\n",
    "# b = df.groupby('phone_model')['price'].std() 이거는 계산이 안된다 \n",
    "print(df_price_model_std.sort_values(), b.sort_values())\n",
    "#이를 바탕으로 모든 데이터의 z-score를 계산 이는 해당 데이터의 가격이 기종별 평균에 비해 어느정도 높거나 낮은지를 알수 있는 점수 \n",
    "df_price_model_z_score = (df['price'] - df_price_model_mean) / df_price_model_std\n",
    "df_price_model_z_score.hist(bins = \"auto\")\n",
    "\n",
    "#z -score로 : 동일 기종 내에서 price 피처의 분포는 정규분포에 가깝다는 것을 알수 있다 "
   ]
  },
  {
   "cell_type": "code",
   "execution_count": 16,
   "id": "31ca6761",
   "metadata": {},
   "outputs": [
    {
     "data": {
      "text/plain": [
       "0       0.701602\n",
       "1       1.299499\n",
       "2       1.176590\n",
       "3      -0.331800\n",
       "4       1.019717\n",
       "          ...   \n",
       "4946    1.225315\n",
       "4947    1.321720\n",
       "4948    1.321720\n",
       "4949    1.488567\n",
       "4950    3.261595\n",
       "Name: price, Length: 4951, dtype: float64"
      ]
     },
     "execution_count": 16,
     "metadata": {},
     "output_type": "execute_result"
    }
   ],
   "source": [
    "df_price_model_z_score"
   ]
  },
  {
   "cell_type": "markdown",
   "id": "5c4cea7c",
   "metadata": {},
   "source": [
    "### 개별 피처 탐색하기 :factory_price 피처 탐색"
   ]
  },
  {
   "cell_type": "code",
   "execution_count": 17,
   "id": "da03c478",
   "metadata": {},
   "outputs": [
    {
     "data": {
      "text/plain": [
       "<AxesSubplot:xlabel='factory_price', ylabel='price'>"
      ]
     },
     "execution_count": 17,
     "metadata": {},
     "output_type": "execute_result"
    },
    {
     "data": {
      "image/png": "[encoded data removed]",
      "text/plain": [
       "<Figure size 432x288 with 1 Axes>"
      ]
     },
     "metadata": {},
     "output_type": "display_data"
    },
    {
     "data": {
      "image/png": "[encoded data removed]",
      "text/plain": [
       "<Figure size 432x288 with 1 Axes>"
      ]
     },
     "metadata": {},
     "output_type": "display_data"
    }
   ],
   "source": [
    "#factory_price 피처의 분포를 탐색\n",
    "df['factory_price'].hist(bins='auto')\n",
    "\n",
    "#factory_price와 price 피처를 산점도 그래프로 출력하여 상관관계를 살펴본다 \n",
    "df.plot.scatter(x = 'factory_price', y='price')\n",
    "\n",
    "#출력 결과 두 피처는 양의 상관 관계를 가지고 있다 이를 통해 factory_price는 중고 휴대폰 판매 가격에 꽤 중요한 영향을 미칠 것이라고 추정"
   ]
  },
  {
   "cell_type": "code",
   "execution_count": 19,
   "id": "a7b2343a",
   "metadata": {},
   "outputs": [
    {
     "name": "stdout",
     "output_type": "stream",
     "text": [
      "count      64.000000\n",
      "mean       77.359375\n",
      "std       143.432786\n",
      "min        10.000000\n",
      "25%        23.000000\n",
      "50%        35.000000\n",
      "75%        90.500000\n",
      "max      1002.000000\n",
      "Name: phone_model, dtype: float64\n"
     ]
    },
    {
     "data": {
      "text/plain": [
       "{'whiskers': [<matplotlib.lines.Line2D at 0x137a4a90a60>,\n",
       "  <matplotlib.lines.Line2D at 0x137a4580bb0>],\n",
       " 'caps': [<matplotlib.lines.Line2D at 0x137a4a7bb20>,\n",
       "  <matplotlib.lines.Line2D at 0x137a4b0cd30>],\n",
       " 'boxes': [<matplotlib.lines.Line2D at 0x137a4aab580>],\n",
       " 'medians': [<matplotlib.lines.Line2D at 0x137a4b0c4f0>],\n",
       " 'fliers': [<matplotlib.lines.Line2D at 0x137a4b0c0a0>],\n",
       " 'means': []}"
      ]
     },
     "execution_count": 19,
     "metadata": {},
     "output_type": "execute_result"
    },
    {
     "data": {
      "image/png": "[encoded data removed]",
      "text/plain": [
       "<Figure size 432x288 with 1 Axes>"
      ]
     },
     "metadata": {},
     "output_type": "display_data"
    }
   ],
   "source": [
    "#phone model피처를 탐색한 결과 휴대폰 기종의 개수는 총 64개로 나타남 상위 5개의 기종을 제외하면 대부분 10개~90개의 count값을 가지고 있다 는 것을 알수 있다\n",
    "\n",
    "#기종별 총 거래 데이터 개수를 집계\n",
    "model_counts = df['phone_model'].value_counts()\n",
    "print(model_counts.describe())\n",
    "\n",
    "#기종별 총 거래 데이터 개수를 상자 그림으로 살펴 본다 \n",
    "plt.boxplot(model_counts)\n"
   ]
  },
  {
   "cell_type": "code",
   "execution_count": 20,
   "id": "e69af697",
   "metadata": {},
   "outputs": [
    {
     "data": {
      "text/html": [
       "<div>\n",
       "<style scoped>\n",
       "    .dataframe tbody tr th:only-of-type {\n",
       "        vertical-align: middle;\n",
       "    }\n",
       "\n",
       "    .dataframe tbody tr th {\n",
       "        vertical-align: top;\n",
       "    }\n",
       "\n",
       "    .dataframe thead th {\n",
       "        text-align: right;\n",
       "    }\n",
       "</style>\n",
       "<table border=\"1\" class=\"dataframe\">\n",
       "  <thead>\n",
       "    <tr style=\"text-align: right;\">\n",
       "      <th></th>\n",
       "      <th>create_date</th>\n",
       "      <th>price</th>\n",
       "      <th>text</th>\n",
       "      <th>phone_model</th>\n",
       "      <th>factory_price</th>\n",
       "      <th>maker</th>\n",
       "      <th>price_index</th>\n",
       "      <th>month</th>\n",
       "    </tr>\n",
       "  </thead>\n",
       "  <tbody>\n",
       "    <tr>\n",
       "      <th>0</th>\n",
       "      <td>2017-03-19  4 35 00 PM</td>\n",
       "      <td>550000.0</td>\n",
       "      <td>아이폰6플러스 블랙+애플라이트 64기가 팝니다  아이폰6플러스 블랙+애플라이트 64...</td>\n",
       "      <td>iphone 6 64gb</td>\n",
       "      <td>924000</td>\n",
       "      <td>apple</td>\n",
       "      <td>95.96</td>\n",
       "      <td>2017-03</td>\n",
       "    </tr>\n",
       "    <tr>\n",
       "      <th>1</th>\n",
       "      <td>2016-10-26  12 08 00 PM</td>\n",
       "      <td>380000.0</td>\n",
       "      <td>갤럭시s6엣지 32기가 팝니다 직거래  갤럭시s6엣지 32기가 품명 갤럭시s6엣지제...</td>\n",
       "      <td>galaxy s6 edge 32gb</td>\n",
       "      <td>979000</td>\n",
       "      <td>samsung</td>\n",
       "      <td>103.05</td>\n",
       "      <td>2016-10</td>\n",
       "    </tr>\n",
       "    <tr>\n",
       "      <th>2</th>\n",
       "      <td>2016-10-25  12 52 00 PM</td>\n",
       "      <td>300000.0</td>\n",
       "      <td>갤럭시s6 풀박스로 팝니다~~~ 새상품급  실기스조차 없어요  직접거래 구매한지 1...</td>\n",
       "      <td>galaxy s6 32gb</td>\n",
       "      <td>854000</td>\n",
       "      <td>samsung</td>\n",
       "      <td>103.05</td>\n",
       "      <td>2016-10</td>\n",
       "    </tr>\n",
       "    <tr>\n",
       "      <th>3</th>\n",
       "      <td>2017-03-23  11 14 00 PM</td>\n",
       "      <td>290000.0</td>\n",
       "      <td>sk  g5 티탄 폰 단품판매합니다  직접거래 sk g5 티탄 폰 단품판매합니다 올...</td>\n",
       "      <td>lg g5 32gb</td>\n",
       "      <td>836000</td>\n",
       "      <td>lg</td>\n",
       "      <td>95.96</td>\n",
       "      <td>2017-03</td>\n",
       "    </tr>\n",
       "    <tr>\n",
       "      <th>4</th>\n",
       "      <td>2016-04-11  7 35 00 PM</td>\n",
       "      <td>280000.0</td>\n",
       "      <td>sony 엑스페리아 c5 ultra e5506 16gb  미사용 새제품 팝니다 1...</td>\n",
       "      <td>lg u 32gb</td>\n",
       "      <td>396000</td>\n",
       "      <td>lg</td>\n",
       "      <td>102.59</td>\n",
       "      <td>2016-04</td>\n",
       "    </tr>\n",
       "  </tbody>\n",
       "</table>\n",
       "</div>"
      ],
      "text/plain": [
       "               create_date     price  \\\n",
       "0   2017-03-19  4 35 00 PM  550000.0   \n",
       "1  2016-10-26  12 08 00 PM  380000.0   \n",
       "2  2016-10-25  12 52 00 PM  300000.0   \n",
       "3  2017-03-23  11 14 00 PM  290000.0   \n",
       "4   2016-04-11  7 35 00 PM  280000.0   \n",
       "\n",
       "                                                text          phone_model  \\\n",
       "0  아이폰6플러스 블랙+애플라이트 64기가 팝니다  아이폰6플러스 블랙+애플라이트 64...        iphone 6 64gb   \n",
       "1  갤럭시s6엣지 32기가 팝니다 직거래  갤럭시s6엣지 32기가 품명 갤럭시s6엣지제...  galaxy s6 edge 32gb   \n",
       "2  갤럭시s6 풀박스로 팝니다~~~ 새상품급  실기스조차 없어요  직접거래 구매한지 1...       galaxy s6 32gb   \n",
       "3  sk  g5 티탄 폰 단품판매합니다  직접거래 sk g5 티탄 폰 단품판매합니다 올...           lg g5 32gb   \n",
       "4   sony 엑스페리아 c5 ultra e5506 16gb  미사용 새제품 팝니다 1...            lg u 32gb   \n",
       "\n",
       "   factory_price    maker  price_index    month  \n",
       "0         924000    apple        95.96  2017-03  \n",
       "1         979000  samsung       103.05  2016-10  \n",
       "2         854000  samsung       103.05  2016-10  \n",
       "3         836000       lg        95.96  2017-03  \n",
       "4         396000       lg       102.59  2016-04  "
      ]
     },
     "execution_count": 20,
     "metadata": {},
     "output_type": "execute_result"
    }
   ],
   "source": [
    "#미니퀴즈 5-1\n",
    "df.head()"
   ]
  },
  {
   "cell_type": "code",
   "execution_count": 27,
   "id": "f841f309",
   "metadata": {},
   "outputs": [
    {
     "data": {
      "text/plain": [
       "<AxesSubplot:xlabel='maker'>"
      ]
     },
     "execution_count": 27,
     "metadata": {},
     "output_type": "execute_result"
    },
    {
     "data": {
      "image/png": "[encoded data removed]",
      "text/plain": [
       "<Figure size 432x288 with 1 Axes>"
      ]
     },
     "metadata": {},
     "output_type": "display_data"
    }
   ],
   "source": [
    "# maker, price_index피처에 대한 특징을 탐색\n",
    "df.groupby('maker')['maker'].count().plot()\n",
    "df['maker'].value_counts().boxplot()\n",
    "#애플과 삼성의 메이커가 많은것을 알수 있다 \n",
    "\n",
    "# maker box_plot\n",
    "plt.boxplot(df['maker'].value_counts())\n",
    "#price_index.value_counts()\n",
    "df['price_index'].value_counts()"
   ]
  },
  {
   "cell_type": "code",
   "execution_count": null,
   "id": "39633168",
   "metadata": {},
   "outputs": [],
   "source": [
    "#분석을 통해 어떤 피처가 예측 모델에 중요한 피처인지를 알수 있다 이러한 분석은 랜덤포레스트로 알수 있다 \n",
    "from sklearn.model_selection import train_test_split\n",
    "from sklearn.feature_extraction import DictVectorizer\n",
    "from sklearn.ensemble import RandomForestRegressor\n",
    "from sklearn.metrics import r2_score\n",
    "from sklearn.metrics import mean_squared_error\n",
    "\n",
    "#데이터를 학습/테스트용 데이터로 분리\n",
    "df = df[['price','phone_model','factory_price','maker','price_index','month']]\n",
    "#원핫인코딩\n",
    "df = pd.get_dummies(df, columns = ['phone_model', 'maker','month'])\n",
    "X = df.loc[:, df.columns != 'price']\n",
    "y = df['price']\n",
    "\n",
    "X_train, X_test, y_train, y_test = train_test_split(X,y,test_size=0.3, random_state=0)\n",
    "\n",
    "#랜덤포레스트 학습\n",
    "forest =RandomForestRegressor(n_estimators = 1000, criterion = 'mse')\n",
    "forest.fit(X_train, y_train)\n",
    "y_train_pred = forest.predict(X_train)\n",
    "y_test_pred = forest.predict(X_test)"
   ]
  },
  {
   "cell_type": "code",
   "execution_count": 45,
   "id": "20247d88",
   "metadata": {},
   "outputs": [
    {
     "name": "stdout",
     "output_type": "stream",
     "text": [
      "MSE train 10622665576.907, test: 13849509889.763\n",
      "R^2 train: 0.781 test: 0.683\n"
     ]
    }
   ],
   "source": [
    "#학습한 모델평가\n",
    "#mse\n",
    "print('MSE train %.3f, test: %.3f' % (mean_squared_error(y_train, y_train_pred),  mean_squared_error(y_test, y_test_pred) ))\n",
    "#r2_score\n",
    "print('R^2 train: %.3f test: %.3f' % (r2_score(y_train, y_train_pred), r2_score(y_test, y_test_pred) ))\n"
   ]
  },
  {
   "cell_type": "code",
   "execution_count": 39,
   "id": "05897cc4",
   "metadata": {},
   "outputs": [
    {
     "data": {
      "text/plain": [
       "array([ True, False,  True,  True,  True,  True,  True,  True])"
      ]
     },
     "execution_count": 39,
     "metadata": {},
     "output_type": "execute_result"
    }
   ],
   "source": [
    "df.columns != 'price'"
   ]
  },
  {
   "cell_type": "code",
   "execution_count": null,
   "id": "28159aa9",
   "metadata": {},
   "outputs": [],
   "source": []
  }
 ],
 "metadata": {
  "kernelspec": {
   "display_name": "Python 3",
   "language": "python",
   "name": "python3"
  },
  "language_info": {
   "codemirror_mode": {
    "name": "ipython",
    "version": 3
   },
   "file_extension": ".py",
   "mimetype": "text/x-python",
   "name": "python",
   "nbconvert_exporter": "python",
   "pygments_lexer": "ipython3",
   "version": "3.8.10"
  }
 },
 "nbformat": 4,
 "nbformat_minor": 5
}
